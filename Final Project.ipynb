{
 "cells": [
  {
   "cell_type": "markdown",
   "metadata": {},
   "source": [
    "### Introductory Remarks\n",
    "The World Health Organization (WHO) characterized COVID-19, caused by SARS-CoV-2, as a pandemic on March 11, 2020; and as of May 13, 2020, over 4 million cases have been identified across the globe and over 300,000 people have died due to the virus. With the exponential increase in the number of cases risking to overwhelm health systems around the world due to a demand for ICU beds, ventilators, and protective gear for hospital staff, the ability to rapidly determine whether a patient is infected with the virus is paramount. In addition, the number of tests in multiple parts of the world have been extremely limited. At the same time, testing everyone is currently impractical and would further overwhelm labratories increasingly delaying results.\n",
    "\n",
    "However as the world transitions from flattening to curve to modified social distancing, increasing testing is vital as countries around the world begin to \"open back up\".  A model that could give health care providers a better idea of who should be tested to determine positive cases sooner to allow for contact tracing would be invaluable.\n",
    "\n",
    "This particular dataset contains anonymized data from patients seen at the Hospital Israelita Albert Einstein, at São Paulo, Brazil, and who had samples collected to perform the SARS-CoV-2 RT-PCR and additional laboratory tests during a visit to the hospital. All data were anonymized following the best international practices and recommendations. All clinical data were standardized to have a mean of zero and a unit standard deviation.\n",
    "\n",
    "Source: https://www.kaggle.com/dataset/e626783d4672f182e7870b1bbe75fae66bdfb232289da0a61f08c2ceb01cab01"
   ]
  },
  {
   "cell_type": "markdown",
   "metadata": {},
   "source": [
    "### Prepare the Environment"
   ]
  },
  {
   "cell_type": "code",
   "execution_count": 1,
   "metadata": {
    "_cell_guid": "79c7e3d0-c299-4dcb-8224-4455121ee9b0",
    "_uuid": "d629ff2d2480ee46fbb7e2d37f6b5fab8052498a"
   },
   "outputs": [
    {
     "name": "stderr",
     "output_type": "stream",
     "text": [
      "Using TensorFlow backend.\n"
     ]
    }
   ],
   "source": [
    "#add packages\n",
    "%matplotlib inline\n",
    "import numpy as np\n",
    "import matplotlib.pyplot as plt\n",
    "import pandas as pd\n",
    "\n",
    "\n",
    "#from scikit learn\n",
    "from sklearn import preprocessing\n",
    "from imblearn.over_sampling import RandomOverSampler\n",
    "from sklearn.model_selection  import train_test_split, cross_val_score\n",
    "from sklearn.model_selection import GridSearchCV\n",
    "from sklearn.metrics import accuracy_score, recall_score, roc_auc_score, roc_curve\n",
    "from sklearn.metrics import confusion_matrix, classification_report\n",
    "from sklearn.neighbors import KNeighborsClassifier\n",
    "from sklearn.tree import DecisionTreeClassifier\n",
    "from sklearn.ensemble import RandomForestClassifier, ExtraTreesClassifier, GradientBoostingClassifier, BaggingClassifier, AdaBoostClassifier, VotingClassifier, StackingClassifier\n",
    "from sklearn.svm import SVC\n",
    "from sklearn.neural_network import MLPClassifier\n",
    "from sklearn.linear_model import SGDClassifier, LogisticRegression\n",
    "from sklearn.naive_bayes import GaussianNB\n",
    "\n",
    "from mlxtend.plotting import heatmap"
   ]
  },
  {
   "cell_type": "code",
   "execution_count": 2,
   "metadata": {},
   "outputs": [
    {
     "data": {
      "text/html": [
       "<div>\n",
       "<style scoped>\n",
       "    .dataframe tbody tr th:only-of-type {\n",
       "        vertical-align: middle;\n",
       "    }\n",
       "\n",
       "    .dataframe tbody tr th {\n",
       "        vertical-align: top;\n",
       "    }\n",
       "\n",
       "    .dataframe thead th {\n",
       "        text-align: right;\n",
       "    }\n",
       "</style>\n",
       "<table border=\"1\" class=\"dataframe\">\n",
       "  <thead>\n",
       "    <tr style=\"text-align: right;\">\n",
       "      <th></th>\n",
       "      <th>Patient ID</th>\n",
       "      <th>Patient age quantile</th>\n",
       "      <th>SARS-Cov-2 exam result</th>\n",
       "      <th>Patient addmited to regular ward (1=yes, 0=no)</th>\n",
       "      <th>Patient addmited to semi-intensive unit (1=yes, 0=no)</th>\n",
       "      <th>Patient addmited to intensive care unit (1=yes, 0=no)</th>\n",
       "      <th>Hematocrit</th>\n",
       "      <th>Hemoglobin</th>\n",
       "      <th>Platelets</th>\n",
       "      <th>Mean platelet volume</th>\n",
       "      <th>...</th>\n",
       "      <th>Hb saturation (arterial blood gases)</th>\n",
       "      <th>pCO2 (arterial blood gas analysis)</th>\n",
       "      <th>Base excess (arterial blood gas analysis)</th>\n",
       "      <th>pH (arterial blood gas analysis)</th>\n",
       "      <th>Total CO2 (arterial blood gas analysis)</th>\n",
       "      <th>HCO3 (arterial blood gas analysis)</th>\n",
       "      <th>pO2 (arterial blood gas analysis)</th>\n",
       "      <th>Arteiral Fio2</th>\n",
       "      <th>Phosphor</th>\n",
       "      <th>ctO2 (arterial blood gas analysis)</th>\n",
       "    </tr>\n",
       "  </thead>\n",
       "  <tbody>\n",
       "    <tr>\n",
       "      <th>0</th>\n",
       "      <td>44477f75e8169d2</td>\n",
       "      <td>13</td>\n",
       "      <td>negative</td>\n",
       "      <td>0</td>\n",
       "      <td>0</td>\n",
       "      <td>0</td>\n",
       "      <td>NaN</td>\n",
       "      <td>NaN</td>\n",
       "      <td>NaN</td>\n",
       "      <td>NaN</td>\n",
       "      <td>...</td>\n",
       "      <td>NaN</td>\n",
       "      <td>NaN</td>\n",
       "      <td>NaN</td>\n",
       "      <td>NaN</td>\n",
       "      <td>NaN</td>\n",
       "      <td>NaN</td>\n",
       "      <td>NaN</td>\n",
       "      <td>NaN</td>\n",
       "      <td>NaN</td>\n",
       "      <td>NaN</td>\n",
       "    </tr>\n",
       "    <tr>\n",
       "      <th>1</th>\n",
       "      <td>126e9dd13932f68</td>\n",
       "      <td>17</td>\n",
       "      <td>negative</td>\n",
       "      <td>0</td>\n",
       "      <td>0</td>\n",
       "      <td>0</td>\n",
       "      <td>0.236515</td>\n",
       "      <td>-0.02234</td>\n",
       "      <td>-0.517413</td>\n",
       "      <td>0.010677</td>\n",
       "      <td>...</td>\n",
       "      <td>NaN</td>\n",
       "      <td>NaN</td>\n",
       "      <td>NaN</td>\n",
       "      <td>NaN</td>\n",
       "      <td>NaN</td>\n",
       "      <td>NaN</td>\n",
       "      <td>NaN</td>\n",
       "      <td>NaN</td>\n",
       "      <td>NaN</td>\n",
       "      <td>NaN</td>\n",
       "    </tr>\n",
       "    <tr>\n",
       "      <th>2</th>\n",
       "      <td>a46b4402a0e5696</td>\n",
       "      <td>8</td>\n",
       "      <td>negative</td>\n",
       "      <td>0</td>\n",
       "      <td>0</td>\n",
       "      <td>0</td>\n",
       "      <td>NaN</td>\n",
       "      <td>NaN</td>\n",
       "      <td>NaN</td>\n",
       "      <td>NaN</td>\n",
       "      <td>...</td>\n",
       "      <td>NaN</td>\n",
       "      <td>NaN</td>\n",
       "      <td>NaN</td>\n",
       "      <td>NaN</td>\n",
       "      <td>NaN</td>\n",
       "      <td>NaN</td>\n",
       "      <td>NaN</td>\n",
       "      <td>NaN</td>\n",
       "      <td>NaN</td>\n",
       "      <td>NaN</td>\n",
       "    </tr>\n",
       "    <tr>\n",
       "      <th>3</th>\n",
       "      <td>f7d619a94f97c45</td>\n",
       "      <td>5</td>\n",
       "      <td>negative</td>\n",
       "      <td>0</td>\n",
       "      <td>0</td>\n",
       "      <td>0</td>\n",
       "      <td>NaN</td>\n",
       "      <td>NaN</td>\n",
       "      <td>NaN</td>\n",
       "      <td>NaN</td>\n",
       "      <td>...</td>\n",
       "      <td>NaN</td>\n",
       "      <td>NaN</td>\n",
       "      <td>NaN</td>\n",
       "      <td>NaN</td>\n",
       "      <td>NaN</td>\n",
       "      <td>NaN</td>\n",
       "      <td>NaN</td>\n",
       "      <td>NaN</td>\n",
       "      <td>NaN</td>\n",
       "      <td>NaN</td>\n",
       "    </tr>\n",
       "    <tr>\n",
       "      <th>4</th>\n",
       "      <td>d9e41465789c2b5</td>\n",
       "      <td>15</td>\n",
       "      <td>negative</td>\n",
       "      <td>0</td>\n",
       "      <td>0</td>\n",
       "      <td>0</td>\n",
       "      <td>NaN</td>\n",
       "      <td>NaN</td>\n",
       "      <td>NaN</td>\n",
       "      <td>NaN</td>\n",
       "      <td>...</td>\n",
       "      <td>NaN</td>\n",
       "      <td>NaN</td>\n",
       "      <td>NaN</td>\n",
       "      <td>NaN</td>\n",
       "      <td>NaN</td>\n",
       "      <td>NaN</td>\n",
       "      <td>NaN</td>\n",
       "      <td>NaN</td>\n",
       "      <td>NaN</td>\n",
       "      <td>NaN</td>\n",
       "    </tr>\n",
       "  </tbody>\n",
       "</table>\n",
       "<p>5 rows × 111 columns</p>\n",
       "</div>"
      ],
      "text/plain": [
       "        Patient ID  Patient age quantile SARS-Cov-2 exam result  \\\n",
       "0  44477f75e8169d2                    13               negative   \n",
       "1  126e9dd13932f68                    17               negative   \n",
       "2  a46b4402a0e5696                     8               negative   \n",
       "3  f7d619a94f97c45                     5               negative   \n",
       "4  d9e41465789c2b5                    15               negative   \n",
       "\n",
       "   Patient addmited to regular ward (1=yes, 0=no)  \\\n",
       "0                                               0   \n",
       "1                                               0   \n",
       "2                                               0   \n",
       "3                                               0   \n",
       "4                                               0   \n",
       "\n",
       "   Patient addmited to semi-intensive unit (1=yes, 0=no)  \\\n",
       "0                                                  0       \n",
       "1                                                  0       \n",
       "2                                                  0       \n",
       "3                                                  0       \n",
       "4                                                  0       \n",
       "\n",
       "   Patient addmited to intensive care unit (1=yes, 0=no)  Hematocrit  \\\n",
       "0                                                  0             NaN   \n",
       "1                                                  0        0.236515   \n",
       "2                                                  0             NaN   \n",
       "3                                                  0             NaN   \n",
       "4                                                  0             NaN   \n",
       "\n",
       "   Hemoglobin  Platelets  Mean platelet volume   ...  \\\n",
       "0         NaN        NaN                    NaN  ...   \n",
       "1    -0.02234  -0.517413               0.010677  ...   \n",
       "2         NaN        NaN                    NaN  ...   \n",
       "3         NaN        NaN                    NaN  ...   \n",
       "4         NaN        NaN                    NaN  ...   \n",
       "\n",
       "   Hb saturation (arterial blood gases)  pCO2 (arterial blood gas analysis)  \\\n",
       "0                                   NaN                                 NaN   \n",
       "1                                   NaN                                 NaN   \n",
       "2                                   NaN                                 NaN   \n",
       "3                                   NaN                                 NaN   \n",
       "4                                   NaN                                 NaN   \n",
       "\n",
       "   Base excess (arterial blood gas analysis)  \\\n",
       "0                                        NaN   \n",
       "1                                        NaN   \n",
       "2                                        NaN   \n",
       "3                                        NaN   \n",
       "4                                        NaN   \n",
       "\n",
       "   pH (arterial blood gas analysis)  Total CO2 (arterial blood gas analysis)  \\\n",
       "0                               NaN                                      NaN   \n",
       "1                               NaN                                      NaN   \n",
       "2                               NaN                                      NaN   \n",
       "3                               NaN                                      NaN   \n",
       "4                               NaN                                      NaN   \n",
       "\n",
       "   HCO3 (arterial blood gas analysis)  pO2 (arterial blood gas analysis)  \\\n",
       "0                                 NaN                                NaN   \n",
       "1                                 NaN                                NaN   \n",
       "2                                 NaN                                NaN   \n",
       "3                                 NaN                                NaN   \n",
       "4                                 NaN                                NaN   \n",
       "\n",
       "   Arteiral Fio2  Phosphor  ctO2 (arterial blood gas analysis)  \n",
       "0            NaN       NaN                                 NaN  \n",
       "1            NaN       NaN                                 NaN  \n",
       "2            NaN       NaN                                 NaN  \n",
       "3            NaN       NaN                                 NaN  \n",
       "4            NaN       NaN                                 NaN  \n",
       "\n",
       "[5 rows x 111 columns]"
      ]
     },
     "execution_count": 2,
     "metadata": {},
     "output_type": "execute_result"
    }
   ],
   "source": [
    "#load the data\n",
    "df = pd.read_excel(\"../input/covid19/dataset.xlsx\")\n",
    "df.head()"
   ]
  },
  {
   "cell_type": "markdown",
   "metadata": {},
   "source": [
    "# Exploratory Data Analysis"
   ]
  },
  {
   "cell_type": "code",
   "execution_count": 3,
   "metadata": {},
   "outputs": [
    {
     "data": {
      "text/plain": [
       "(5644, 111)"
      ]
     },
     "execution_count": 3,
     "metadata": {},
     "output_type": "execute_result"
    }
   ],
   "source": [
    "#look at the shape of the dataset\n",
    "df.shape"
   ]
  },
  {
   "cell_type": "markdown",
   "metadata": {},
   "source": [
    "One of the tasks associated with this dataset on Kaggle was, not only to predict COVID-19 exam results, but also whether a patient will need to be admitted to a general ward, semi-intensive unit or intensive care unit.  Since I will only be performing the first task, I have chosen to eliminate these three columns, as well as the non-predictive 'Patient ID' column."
   ]
  },
  {
   "cell_type": "code",
   "execution_count": 4,
   "metadata": {},
   "outputs": [],
   "source": [
    "#eliminate non-predictive features\n",
    "df = df.drop(['Patient ID', 'Patient addmited to regular ward (1=yes, 0=no)',\n",
    "              'Patient addmited to semi-intensive unit (1=yes, 0=no)', \n",
    "              'Patient addmited to intensive care unit (1=yes, 0=no)'], axis = 1)"
   ]
  },
  {
   "cell_type": "code",
   "execution_count": 5,
   "metadata": {},
   "outputs": [
    {
     "name": "stdout",
     "output_type": "stream",
     "text": [
      "negative    5086\n",
      "positive     558\n",
      "Name: SARS-Cov-2 exam result, dtype: int64\n"
     ]
    },
    {
     "data": {
      "image/png": "[encoded data removed]",
      "text/plain": [
       "<Figure size 432x288 with 1 Axes>"
      ]
     },
     "metadata": {
      "needs_background": "light"
     },
     "output_type": "display_data"
    }
   ],
   "source": [
    "#create a bar graph for the target variable\n",
    "target = df.groupby('SARS-Cov-2 exam result')\n",
    "targetEDA=target['SARS-Cov-2 exam result'].aggregate(len)\n",
    "plt.figure()\n",
    "targetEDA.plot(kind='bar', grid=False)\n",
    "plt.axhline(0, color='k')\n",
    "\n",
    "print(df['SARS-Cov-2 exam result'].value_counts())"
   ]
  },
  {
   "cell_type": "markdown",
   "metadata": {},
   "source": [
    "# Data Preprocessing\n",
    "The first step in preprocessing the data is dealing with the large number of missing values in the dataset."
   ]
  },
  {
   "cell_type": "code",
   "execution_count": 6,
   "metadata": {},
   "outputs": [
    {
     "data": {
      "text/plain": [
       "Patient age quantile                     0\n",
       "SARS-Cov-2 exam result                   0\n",
       "Hematocrit                            5041\n",
       "Hemoglobin                            5041\n",
       "Platelets                             5042\n",
       "                                      ... \n",
       "HCO3 (arterial blood gas analysis)    5617\n",
       "pO2 (arterial blood gas analysis)     5617\n",
       "Arteiral Fio2                         5624\n",
       "Phosphor                              5624\n",
       "ctO2 (arterial blood gas analysis)    5617\n",
       "Length: 107, dtype: int64"
      ]
     },
     "execution_count": 6,
     "metadata": {},
     "output_type": "execute_result"
    }
   ],
   "source": [
    "#check for null values\n",
    "df.isna().sum() "
   ]
  },
  {
   "cell_type": "code",
   "execution_count": 7,
   "metadata": {},
   "outputs": [],
   "source": [
    "#remove columns with more than 90% null values\n",
    "pct_null = df.isnull().sum() / len(df)\n",
    "missing_features = pct_null[pct_null > 0.90].index\n",
    "df.drop(missing_features, axis = 1, inplace = True)"
   ]
  },
  {
   "cell_type": "code",
   "execution_count": 8,
   "metadata": {},
   "outputs": [],
   "source": [
    "#convert categorical variables to binary\n",
    "mask_pos_neg = {'positive': 1, 'negative': 0}\n",
    "mask_detected = {'detected': 1, 'not_detected': 0}\n",
    "df = df.replace(mask_detected)\n",
    "df = df.replace(mask_pos_neg)"
   ]
  },
  {
   "cell_type": "markdown",
   "metadata": {},
   "source": [
    "Presumably the large number of missing values is due to blood work and/or tests not being performed. To deal with tests not being run to check for other infections, I replaced these null values with a zero.  My assumption is that not performing the test is akin to the test coming back negative. Then, I summed up all of the test columns to created a new feature: \"other_infection\". This new feature provides information about whether or not a different infection had been detected in the patient.\n",
    "\n",
    "For the second iteration of this project, instead of condensing the infection tests into a single column, I left them in their original form.  However, this sparser dataset just seemed to increase the noise in the data, so I decided to continue using the \"other infection\" feature."
   ]
  },
  {
   "cell_type": "code",
   "execution_count": 9,
   "metadata": {},
   "outputs": [],
   "source": [
    "#replace null values for columns 16-35 (the test result columns) with zeros\n",
    "df[df.columns[16:]] = df[df.columns[16:]].fillna(0)"
   ]
  },
  {
   "cell_type": "code",
   "execution_count": 10,
   "metadata": {},
   "outputs": [],
   "source": [
    "#remove any column with the same value because they provide no predictive value\n",
    "nunique = df.apply(pd.Series.nunique)\n",
    "cols_to_drop = nunique[nunique == 1].index\n",
    "df = df.drop(cols_to_drop, axis=1)"
   ]
  },
  {
   "cell_type": "code",
   "execution_count": 11,
   "metadata": {},
   "outputs": [],
   "source": [
    "#create the new \"other infection\" feature\n",
    "df['other infection'] = df[df.columns[16:]].sum(axis = 1)\n",
    "df.loc[df['other infection'] > 1, 'other infection'] = 1"
   ]
  },
  {
   "cell_type": "code",
   "execution_count": 12,
   "metadata": {},
   "outputs": [],
   "source": [
    "#remove individual test result columns\n",
    "df = df.drop(['Respiratory Syncytial Virus', 'Influenza A', 'Influenza B', 'Parainfluenza 1', 'CoronavirusNL63',\n",
    "              'Rhinovirus/Enterovirus', 'Coronavirus HKU1', 'Parainfluenza 3', 'Chlamydophila pneumoniae',\n",
    "              'Adenovirus', 'Parainfluenza 4', 'Coronavirus229E', 'CoronavirusOC43', 'Inf A H1N1 2009',\n",
    "              'Bordetella pertussis', 'Metapneumovirus', 'Influenza B, rapid test', 'Influenza A, rapid test'], \n",
    "             axis = 1)"
   ]
  },
  {
   "cell_type": "markdown",
   "metadata": {},
   "source": [
    "For the second iteration of this project, I tried imputing the missing blood work data.  Although this did improve the overall accuracy of many of the models by a few percentage points, I was wary of these outputs due to the more biased inputs.  As I mentioned in the first iteration of this project, I believe clinical data (especially when this much is missing) is far too sensitive and unique to simply impute values.  I also did not believe there was enough information per observation to use regression imputation.  In addition, the observations with missing blood work appeared to be at random, so I did not feel that deleting these observations, and only using complete cases, would result in a loss of information."
   ]
  },
  {
   "cell_type": "code",
   "execution_count": 13,
   "metadata": {},
   "outputs": [],
   "source": [
    "#remove any row with missing data\n",
    "df = df.dropna(thresh = 17)"
   ]
  },
  {
   "cell_type": "code",
   "execution_count": 14,
   "metadata": {},
   "outputs": [
    {
     "data": {
      "text/plain": [
       "Patient age quantile                                0\n",
       "SARS-Cov-2 exam result                              0\n",
       "Hematocrit                                          0\n",
       "Hemoglobin                                          0\n",
       "Platelets                                           0\n",
       "Mean platelet volume                                0\n",
       "Red blood Cells                                     0\n",
       "Lymphocytes                                         0\n",
       "Mean corpuscular hemoglobin concentration (MCHC)    0\n",
       "Leukocytes                                          0\n",
       "Basophils                                           0\n",
       "Mean corpuscular hemoglobin (MCH)                   0\n",
       "Eosinophils                                         0\n",
       "Mean corpuscular volume (MCV)                       0\n",
       "Monocytes                                           0\n",
       "Red blood cell distribution width (RDW)             0\n",
       "other infection                                     0\n",
       "dtype: int64"
      ]
     },
     "execution_count": 14,
     "metadata": {},
     "output_type": "execute_result"
    }
   ],
   "source": [
    "#check for any remaining null values\n",
    "df.isna().sum() "
   ]
  },
  {
   "cell_type": "code",
   "execution_count": 15,
   "metadata": {},
   "outputs": [],
   "source": [
    "#move the target variable to the first column in the dataset\n",
    "#designate target variable name\n",
    "targetName = 'SARS-Cov-2 exam result'\n",
    "targetSeries = df[targetName]\n",
    "\n",
    "#remove target from current location\n",
    "df.drop(columns = 'SARS-Cov-2 exam result', inplace = True)\n",
    "\n",
    "#reinsert column back into the dataframe in the 0-th (i.e. first) position\n",
    "df.insert(0, targetName, targetSeries)"
   ]
  },
  {
   "cell_type": "markdown",
   "metadata": {},
   "source": [
    "To further simplify the dataset, a correlation matrix was created to determine collinearity between predictors.  If predictors had a correlation coefficient above 0.90, one of them was removed."
   ]
  },
  {
   "cell_type": "code",
   "execution_count": 16,
   "metadata": {},
   "outputs": [
    {
     "data": {
      "image/png": "[encoded data removed]",
      "text/plain": [
       "<Figure size 1440x1440 with 2 Axes>"
      ]
     },
     "metadata": {
      "needs_background": "light"
     },
     "output_type": "display_data"
    }
   ],
   "source": [
    "#create a correlation matrix to check for predictor collinearity\n",
    "cols = ['SARS-Cov-2 exam result', 'Patient age quantile', 'Hematocrit', 'Hemoglobin', 'Platelets', 'Mean platelet volume ', 'Red blood Cells', 'Lymphocytes', 'Leukocytes',\n",
    "        'Basophils', 'Mean corpuscular hemoglobin (MCH)', 'Eosinophils', 'Mean corpuscular volume (MCV)', 'Monocytes', 'Red blood cell distribution width (RDW)',\n",
    "        'other infection']\n",
    "cm = np.corrcoef(df[cols].values.T)\n",
    "hm = heatmap(cm, figsize = (20, 20), row_names = cols, column_names = cols)\n",
    "plt.show()"
   ]
  },
  {
   "cell_type": "markdown",
   "metadata": {},
   "source": [
    "\"Hematocrit\" and \"Hemoglobin\" have a correlation coefficient of 0.97."
   ]
  },
  {
   "cell_type": "code",
   "execution_count": 17,
   "metadata": {},
   "outputs": [],
   "source": [
    "#remove the \"Hematocrit\" column\n",
    "df = df.drop(['Hematocrit'], axis = 1)"
   ]
  },
  {
   "cell_type": "markdown",
   "metadata": {},
   "source": [
    "For the second iteration of this project, I attempted to use random over sampling for the minority class due to the class imbalance.  However, this approach caused models to severely overfit the data. Therefore, I chose to use the same data as the first iteration of the project."
   ]
  },
  {
   "cell_type": "code",
   "execution_count": 18,
   "metadata": {},
   "outputs": [
    {
     "name": "stdout",
     "output_type": "stream",
     "text": [
      "0    517\n",
      "1     81\n",
      "Name: SARS-Cov-2 exam result, dtype: int64\n"
     ]
    },
    {
     "data": {
      "image/png": "[encoded data removed]",
      "text/plain": [
       "<Figure size 432x288 with 1 Axes>"
      ]
     },
     "metadata": {
      "needs_background": "light"
     },
     "output_type": "display_data"
    }
   ],
   "source": [
    "#create a bar graph for the target variable\n",
    "target = df.groupby('SARS-Cov-2 exam result')\n",
    "targetEDA = target['SARS-Cov-2 exam result'].aggregate(len)\n",
    "plt.figure()\n",
    "targetEDA.plot(kind = 'bar', grid = False)\n",
    "plt.axhline(0, color = 'k')\n",
    "\n",
    "print(df['SARS-Cov-2 exam result'].value_counts())"
   ]
  },
  {
   "cell_type": "markdown",
   "metadata": {},
   "source": [
    "9.887% of the original dataset was positive cases.  The cleaned dataset contained 13.545% positive cases, so even though there is a large imbalance in the target classes, the ratio within the target class remains similar."
   ]
  },
  {
   "cell_type": "code",
   "execution_count": 19,
   "metadata": {},
   "outputs": [],
   "source": [
    "#create a 70/30 training and test set split\n",
    "X = df.iloc[:,1:].values\n",
    "y = df.iloc[:,0].values\n",
    "X_train, X_test, y_train, y_test = train_test_split(X, y, test_size = 0.30, random_state = 8, stratify = y) #stratify to ensure the target class is proportions"
   ]
  },
  {
   "cell_type": "markdown",
   "metadata": {},
   "source": [
    "# k-Nearest Neighbor Classifiers\n",
    "### kNN Model 1"
   ]
  },
  {
   "cell_type": "code",
   "execution_count": 20,
   "metadata": {},
   "outputs": [
    {
     "name": "stdout",
     "output_type": "stream",
     "text": [
      "KNeighborsClassifier(algorithm='auto', leaf_size=30, metric='minkowski',\n",
      "                     metric_params=None, n_jobs=None, n_neighbors=5, p=2,\n",
      "                     weights='uniform')\n"
     ]
    }
   ],
   "source": [
    "#call the default model\n",
    "knn_clf = KNeighborsClassifier()\n",
    "#check the default parameter settings\n",
    "print(knn_clf)\n",
    "\n",
    "#fit the classifier to the training data\n",
    "knn_clf = knn_clf.fit(X_train, y_train)\n",
    "\n",
    "#make predictions using the test data\n",
    "target_predicted_knn = knn_clf.predict(X_test)"
   ]
  },
  {
   "cell_type": "code",
   "execution_count": 21,
   "metadata": {},
   "outputs": [
    {
     "name": "stdout",
     "output_type": "stream",
     "text": [
      "kNN Accuracy Score 0.8777777777777778\n",
      "kNN Recall Score 0.2916666666666667\n",
      "kNN ROC AUC Score 0.6298076923076924\n",
      "              precision    recall  f1-score   support\n",
      "\n",
      "           0       0.90      0.97      0.93       156\n",
      "           1       0.58      0.29      0.39        24\n",
      "\n",
      "    accuracy                           0.88       180\n",
      "   macro avg       0.74      0.63      0.66       180\n",
      "weighted avg       0.86      0.88      0.86       180\n",
      "\n"
     ]
    }
   ],
   "source": [
    "#develop a classification report\n",
    "print(\"kNN Accuracy Score\", accuracy_score(y_test, target_predicted_knn))\n",
    "print(\"kNN Recall Score\", recall_score(y_test, target_predicted_knn))\n",
    "print(\"kNN ROC AUC Score\", roc_auc_score(y_test, target_predicted_knn))\n",
    "print(classification_report(y_test, target_predicted_knn))"
   ]
  },
  {
   "cell_type": "code",
   "execution_count": 22,
   "metadata": {},
   "outputs": [
    {
     "name": "stdout",
     "output_type": "stream",
     "text": [
      "Cross Validation Score for each K [0.9047619  0.88095238 0.88095238 0.76190476 0.80952381 0.88095238\n",
      " 0.9047619  0.80952381 0.87804878 0.92682927]\n"
     ]
    },
    {
     "data": {
      "text/plain": [
       "0.8638211382113822"
      ]
     },
     "execution_count": 22,
     "metadata": {},
     "output_type": "execute_result"
    }
   ],
   "source": [
    "#use 10-fold cross validation to check for overfitting\n",
    "scores = cross_val_score(knn_clf, X_train, y_train, cv = 10)\n",
    "print(\"Cross Validation Score for each K\",scores)\n",
    "scores.mean() "
   ]
  },
  {
   "cell_type": "code",
   "execution_count": 23,
   "metadata": {},
   "outputs": [
    {
     "data": {
      "image/png": "[encoded data removed]",
      "text/plain": [
       "<Figure size 360x360 with 1 Axes>"
      ]
     },
     "metadata": {
      "needs_background": "light"
     },
     "output_type": "display_data"
    }
   ],
   "source": [
    "#build a confusion matrix\n",
    "cm = confusion_matrix(y_test, target_predicted_knn)\n",
    "fig, ax = plt.subplots(figsize = (5, 5))\n",
    "ax.matshow(cm, cmap = plt.cm.Reds, alpha = 0.5)\n",
    "for i in range(cm.shape[0]) :\n",
    "    for j in range(cm.shape[1]) :\n",
    "        ax.text(x = j, y = i, s = cm[i, j], va = 'center', ha = 'center')\n",
    "plt.xlabel('Predicted Label')\n",
    "plt.ylabel('True Label')\n",
    "plt.show()"
   ]
  },
  {
   "cell_type": "markdown",
   "metadata": {},
   "source": [
    "### kNN Model 2\n",
    "To try and develop a better model, a grid search was conducted to determine the type of distance measurement and weight calculation to use along with an appropriate k-value using roc_auc scoring."
   ]
  },
  {
   "cell_type": "code",
   "execution_count": 24,
   "metadata": {},
   "outputs": [
    {
     "name": "stdout",
     "output_type": "stream",
     "text": [
      "Best {'n_neighbors': 5, 'p': 2, 'weights': 'distance'}\n"
     ]
    }
   ],
   "source": [
    "#create the grid\n",
    "param_grid2 = {'n_neighbors' : [1, 2, 3, 4, 5], 'p' : [1, 2], 'weights' : ['uniform', 'distance']}\n",
    "\n",
    "#run the grid search\n",
    "grid_search = GridSearchCV(knn_clf, param_grid = param_grid2, scoring = 'roc_auc', n_jobs = -1, cv = 10)\n",
    "grid_search.fit(X_train, y_train)\n",
    "print(\"Best\", grid_search.best_params_) "
   ]
  },
  {
   "cell_type": "code",
   "execution_count": 25,
   "metadata": {},
   "outputs": [
    {
     "name": "stdout",
     "output_type": "stream",
     "text": [
      "KNeighborsClassifier(algorithm='auto', leaf_size=30, metric='minkowski',\n",
      "                     metric_params=None, n_jobs=None, n_neighbors=5, p=2,\n",
      "                     weights='distance')\n"
     ]
    }
   ],
   "source": [
    "#call the new model\n",
    "knn_clf2 = KNeighborsClassifier(n_neighbors = 5, p = 2, weights = 'distance')\n",
    "#check the parameter settings\n",
    "print(knn_clf2)\n",
    "\n",
    "#fit the classifier to the training data\n",
    "knn_clf2 = knn_clf2.fit(X_train, y_train)\n",
    "\n",
    "#make predictions using the test data\n",
    "target_predicted_knn2 = knn_clf2.predict(X_test)"
   ]
  },
  {
   "cell_type": "code",
   "execution_count": 26,
   "metadata": {},
   "outputs": [
    {
     "name": "stdout",
     "output_type": "stream",
     "text": [
      "kNN Accuracy Score 0.8777777777777778\n",
      "kNN Recall Score 0.2916666666666667\n",
      "kNN ROC AUC Score 0.6298076923076924\n",
      "              precision    recall  f1-score   support\n",
      "\n",
      "           0       0.90      0.97      0.93       156\n",
      "           1       0.58      0.29      0.39        24\n",
      "\n",
      "    accuracy                           0.88       180\n",
      "   macro avg       0.74      0.63      0.66       180\n",
      "weighted avg       0.86      0.88      0.86       180\n",
      "\n"
     ]
    }
   ],
   "source": [
    "#develop a classification report\n",
    "print(\"kNN Accuracy Score\", accuracy_score(y_test, target_predicted_knn2))\n",
    "print(\"kNN Recall Score\", recall_score(y_test, target_predicted_knn2))\n",
    "print(\"kNN ROC AUC Score\", roc_auc_score(y_test, target_predicted_knn2))\n",
    "print(classification_report(y_test, target_predicted_knn2))"
   ]
  },
  {
   "cell_type": "code",
   "execution_count": 27,
   "metadata": {},
   "outputs": [
    {
     "name": "stdout",
     "output_type": "stream",
     "text": [
      "Cross Validation Score for each K [0.9047619  0.88095238 0.88095238 0.76190476 0.80952381 0.88095238\n",
      " 0.9047619  0.80952381 0.87804878 0.92682927]\n"
     ]
    },
    {
     "data": {
      "text/plain": [
       "0.8638211382113822"
      ]
     },
     "execution_count": 27,
     "metadata": {},
     "output_type": "execute_result"
    }
   ],
   "source": [
    "#use 10-fold cross validation to check for overfitting\n",
    "scores = cross_val_score(knn_clf2, X_train, y_train, cv = 10)\n",
    "print(\"Cross Validation Score for each K\",scores)\n",
    "scores.mean() "
   ]
  },
  {
   "cell_type": "code",
   "execution_count": 28,
   "metadata": {},
   "outputs": [
    {
     "data": {
      "image/png": "[encoded data removed]",
      "text/plain": [
       "<Figure size 360x360 with 1 Axes>"
      ]
     },
     "metadata": {
      "needs_background": "light"
     },
     "output_type": "display_data"
    }
   ],
   "source": [
    "#build a confusion matrix\n",
    "cm = confusion_matrix(y_test, target_predicted_knn2)\n",
    "fig, ax = plt.subplots(figsize = (5, 5))\n",
    "ax.matshow(cm, cmap = plt.cm.Reds, alpha = 0.5)\n",
    "for i in range(cm.shape[0]) :\n",
    "    for j in range(cm.shape[1]) :\n",
    "        ax.text(x = j, y = i, s = cm[i, j], va = 'center', ha = 'center')\n",
    "plt.xlabel('Predicted Label')\n",
    "plt.ylabel('True Label')\n",
    "plt.show()"
   ]
  },
  {
   "cell_type": "markdown",
   "metadata": {},
   "source": [
    "### kNN Model 3\n",
    "Since the largest k-value was selected during the last grid search, larger value of k were checked to further improve the model using roc_auc scoring."
   ]
  },
  {
   "cell_type": "code",
   "execution_count": 29,
   "metadata": {},
   "outputs": [
    {
     "name": "stdout",
     "output_type": "stream",
     "text": [
      "Best {'n_neighbors': 21, 'p': 1, 'weights': 'uniform'}\n"
     ]
    }
   ],
   "source": [
    "#create the grid\n",
    "param_grid3 = {'n_neighbors' : [5, 10, 15, 16, 17, 18, 19, 20, 21, 22, 23, 24, 25], 'p' : [1, 2], 'weights' : ['uniform', 'distance']}\n",
    "\n",
    "#run the grid search\n",
    "grid_search = GridSearchCV(knn_clf2, param_grid = param_grid3, scoring = 'roc_auc', n_jobs = -1, cv = 10)\n",
    "grid_search.fit(X_train, y_train)\n",
    "print(\"Best\", grid_search.best_params_) "
   ]
  },
  {
   "cell_type": "code",
   "execution_count": 30,
   "metadata": {},
   "outputs": [
    {
     "name": "stdout",
     "output_type": "stream",
     "text": [
      "KNeighborsClassifier(algorithm='auto', leaf_size=30, metric='minkowski',\n",
      "                     metric_params=None, n_jobs=None, n_neighbors=21, p=1,\n",
      "                     weights='uniform')\n"
     ]
    }
   ],
   "source": [
    "#call the new model\n",
    "knn_clf3 = KNeighborsClassifier(n_neighbors = 21, p = 1, weights = 'uniform')\n",
    "#check the parameter settings\n",
    "print(knn_clf3)\n",
    "\n",
    "#fit the classifier to the training data\n",
    "knn_clf3 = knn_clf3.fit(X_train, y_train)\n",
    "\n",
    "#make predictions using the test data\n",
    "target_predicted_knn3 = knn_clf3.predict(X_test)"
   ]
  },
  {
   "cell_type": "code",
   "execution_count": 31,
   "metadata": {},
   "outputs": [
    {
     "name": "stdout",
     "output_type": "stream",
     "text": [
      "kNN Accuracy Score 0.8833333333333333\n",
      "kNN Recall Score 0.16666666666666666\n",
      "kNN ROC AUC Score 0.5801282051282052\n",
      "              precision    recall  f1-score   support\n",
      "\n",
      "           0       0.89      0.99      0.94       156\n",
      "           1       0.80      0.17      0.28        24\n",
      "\n",
      "    accuracy                           0.88       180\n",
      "   macro avg       0.84      0.58      0.61       180\n",
      "weighted avg       0.87      0.88      0.85       180\n",
      "\n"
     ]
    }
   ],
   "source": [
    "#develop a classification report\n",
    "print(\"kNN Accuracy Score\", accuracy_score(y_test, target_predicted_knn3))\n",
    "print(\"kNN Recall Score\", recall_score(y_test, target_predicted_knn3))\n",
    "print(\"kNN ROC AUC Score\", roc_auc_score(y_test, target_predicted_knn3))\n",
    "print(classification_report(y_test, target_predicted_knn3))"
   ]
  },
  {
   "cell_type": "code",
   "execution_count": 32,
   "metadata": {},
   "outputs": [
    {
     "name": "stdout",
     "output_type": "stream",
     "text": [
      "Cross Validation Score for each K [0.9047619  0.88095238 0.9047619  0.85714286 0.85714286 0.88095238\n",
      " 0.85714286 0.85714286 0.90243902 0.90243902]\n"
     ]
    },
    {
     "data": {
      "text/plain": [
       "0.8804878048780488"
      ]
     },
     "execution_count": 32,
     "metadata": {},
     "output_type": "execute_result"
    }
   ],
   "source": [
    "#use 10-fold cross validation to check for overfitting\n",
    "scores = cross_val_score(knn_clf3, X_train, y_train, cv = 10)\n",
    "print(\"Cross Validation Score for each K\",scores)\n",
    "scores.mean() "
   ]
  },
  {
   "cell_type": "code",
   "execution_count": 33,
   "metadata": {},
   "outputs": [
    {
     "data": {
      "image/png": "[encoded data removed]",
      "text/plain": [
       "<Figure size 360x360 with 1 Axes>"
      ]
     },
     "metadata": {
      "needs_background": "light"
     },
     "output_type": "display_data"
    }
   ],
   "source": [
    "#build a confusion matrix\n",
    "cm = confusion_matrix(y_test, target_predicted_knn3)\n",
    "fig, ax = plt.subplots(figsize = (5, 5))\n",
    "ax.matshow(cm, cmap = plt.cm.Reds, alpha = 0.5)\n",
    "for i in range(cm.shape[0]) :\n",
    "    for j in range(cm.shape[1]) :\n",
    "        ax.text(x = j, y = i, s = cm[i, j], va = 'center', ha = 'center')\n",
    "plt.xlabel('Predicted Label')\n",
    "plt.ylabel('True Label')\n",
    "plt.show()"
   ]
  },
  {
   "cell_type": "markdown",
   "metadata": {},
   "source": [
    "# Decision Tree Classifiers\n",
    "### DT Model 1"
   ]
  },
  {
   "cell_type": "code",
   "execution_count": 34,
   "metadata": {},
   "outputs": [
    {
     "name": "stdout",
     "output_type": "stream",
     "text": [
      "DecisionTreeClassifier(ccp_alpha=0.0, class_weight=None, criterion='gini',\n",
      "                       max_depth=None, max_features=None, max_leaf_nodes=None,\n",
      "                       min_impurity_decrease=0.0, min_impurity_split=None,\n",
      "                       min_samples_leaf=1, min_samples_split=2,\n",
      "                       min_weight_fraction_leaf=0.0, presort='deprecated',\n",
      "                       random_state=8, splitter='best')\n"
     ]
    }
   ],
   "source": [
    "#call the default model\n",
    "dt_clf = DecisionTreeClassifier(random_state = 8)\n",
    "#check the default parameter settings\n",
    "print(dt_clf)\n",
    "\n",
    "#fit the classifier to the training data\n",
    "dt_clf = dt_clf.fit(X_train, y_train)\n",
    "\n",
    "#make predictions using the test data\n",
    "target_predicted_dt = dt_clf.predict(X_test)"
   ]
  },
  {
   "cell_type": "code",
   "execution_count": 35,
   "metadata": {},
   "outputs": [
    {
     "name": "stdout",
     "output_type": "stream",
     "text": [
      "DT Accuracy Score 0.8666666666666667\n",
      "DT Recall Score 0.375\n",
      "DT ROC AUC Score 0.6586538461538461\n",
      "              precision    recall  f1-score   support\n",
      "\n",
      "           0       0.91      0.94      0.92       156\n",
      "           1       0.50      0.38      0.43        24\n",
      "\n",
      "    accuracy                           0.87       180\n",
      "   macro avg       0.70      0.66      0.68       180\n",
      "weighted avg       0.85      0.87      0.86       180\n",
      "\n"
     ]
    }
   ],
   "source": [
    "#create a classification report\n",
    "print(\"DT Accuracy Score\", accuracy_score(y_test, target_predicted_dt))\n",
    "print(\"DT Recall Score\", recall_score(y_test, target_predicted_dt))\n",
    "print(\"DT ROC AUC Score\", roc_auc_score(y_test, target_predicted_dt))\n",
    "print(classification_report(y_test, target_predicted_dt))"
   ]
  },
  {
   "cell_type": "code",
   "execution_count": 36,
   "metadata": {},
   "outputs": [
    {
     "name": "stdout",
     "output_type": "stream",
     "text": [
      "Cross Validation Score for each K [0.88095238 0.92857143 0.97619048 0.80952381 0.88095238 0.83333333\n",
      " 0.85714286 0.76190476 0.7804878  0.82926829]\n"
     ]
    },
    {
     "data": {
      "text/plain": [
       "0.8538327526132404"
      ]
     },
     "execution_count": 36,
     "metadata": {},
     "output_type": "execute_result"
    }
   ],
   "source": [
    "#use 10-fold cross validation to check for overfitting\n",
    "scores = cross_val_score(dt_clf, X_train, y_train, cv = 10)\n",
    "print(\"Cross Validation Score for each K\",scores)\n",
    "scores.mean() "
   ]
  },
  {
   "cell_type": "code",
   "execution_count": 37,
   "metadata": {},
   "outputs": [
    {
     "data": {
      "image/png": "[encoded data removed]",
      "text/plain": [
       "<Figure size 360x360 with 1 Axes>"
      ]
     },
     "metadata": {
      "needs_background": "light"
     },
     "output_type": "display_data"
    }
   ],
   "source": [
    "#build a confusion matrix\n",
    "cm = confusion_matrix(y_test, target_predicted_dt)\n",
    "fig, ax = plt.subplots(figsize = (5, 5))\n",
    "ax.matshow(cm, cmap = plt.cm.Oranges, alpha = 0.5)\n",
    "for i in range(cm.shape[0]) :\n",
    "    for j in range(cm.shape[1]) :\n",
    "        ax.text(x = j, y = i, s = cm[i, j], va = 'center', ha = 'center')\n",
    "plt.xlabel('Predicted Label')\n",
    "plt.ylabel('True Label')\n",
    "plt.show()"
   ]
  },
  {
   "cell_type": "markdown",
   "metadata": {},
   "source": [
    "### DT Model 2\n",
    "To try and develop a better model, a grid search was conducted to optimize a few of the hyperparameters using roc_auc scoring."
   ]
  },
  {
   "cell_type": "code",
   "execution_count": 38,
   "metadata": {},
   "outputs": [
    {
     "name": "stdout",
     "output_type": "stream",
     "text": [
      "Best {'criterion': 'gini', 'max_depth': 5, 'splitter': 'random'}\n"
     ]
    }
   ],
   "source": [
    "#create the grid\n",
    "param_grid2 = {'criterion' : ['gini', 'entropy'], 'max_depth' : [0, 1, 2, 3, 4, 5], 'splitter' : ['best', 'random']}\n",
    "\n",
    "#run the grid search\n",
    "grid_search = GridSearchCV(dt_clf, param_grid = param_grid2, scoring = \"roc_auc\", n_jobs = -1, cv = 10)\n",
    "grid_search.fit(X_train, y_train)\n",
    "print(\"Best\", grid_search.best_params_) "
   ]
  },
  {
   "cell_type": "code",
   "execution_count": 39,
   "metadata": {},
   "outputs": [
    {
     "name": "stdout",
     "output_type": "stream",
     "text": [
      "DecisionTreeClassifier(ccp_alpha=0.0, class_weight=None, criterion='gini',\n",
      "                       max_depth=5, max_features=None, max_leaf_nodes=None,\n",
      "                       min_impurity_decrease=0.0, min_impurity_split=None,\n",
      "                       min_samples_leaf=1, min_samples_split=2,\n",
      "                       min_weight_fraction_leaf=0.0, presort='deprecated',\n",
      "                       random_state=8, splitter='random')\n"
     ]
    }
   ],
   "source": [
    "#call the new model\n",
    "dt_clf2 = DecisionTreeClassifier(criterion = 'gini', max_depth = 5, splitter = 'random', random_state = 8)\n",
    "#check the parameter settings\n",
    "print(dt_clf2)\n",
    "\n",
    "#fit the classifier to the training data\n",
    "dt_clf2 = dt_clf2.fit(X_train, y_train)\n",
    "\n",
    "#make predictions using the test data\n",
    "target_predicted_dt2 = dt_clf2.predict(X_test)"
   ]
  },
  {
   "cell_type": "code",
   "execution_count": 40,
   "metadata": {},
   "outputs": [
    {
     "name": "stdout",
     "output_type": "stream",
     "text": [
      "DT Accuracy Score 0.8611111111111112\n",
      "DT Recall Score 0.0\n",
      "DT ROC AUC Score 0.4967948717948718\n",
      "              precision    recall  f1-score   support\n",
      "\n",
      "           0       0.87      0.99      0.93       156\n",
      "           1       0.00      0.00      0.00        24\n",
      "\n",
      "    accuracy                           0.86       180\n",
      "   macro avg       0.43      0.50      0.46       180\n",
      "weighted avg       0.75      0.86      0.80       180\n",
      "\n"
     ]
    }
   ],
   "source": [
    "#create a classification report\n",
    "print(\"DT Accuracy Score\", accuracy_score(y_test, target_predicted_dt2))\n",
    "print(\"DT Recall Score\", recall_score(y_test, target_predicted_dt2))\n",
    "print(\"DT ROC AUC Score\", roc_auc_score(y_test, target_predicted_dt2))\n",
    "print(classification_report(y_test, target_predicted_dt2))"
   ]
  },
  {
   "cell_type": "code",
   "execution_count": 41,
   "metadata": {},
   "outputs": [
    {
     "name": "stdout",
     "output_type": "stream",
     "text": [
      "Cross Validation Score for each K [0.83333333 0.88095238 0.85714286 0.85714286 0.85714286 0.85714286\n",
      " 0.85714286 0.85714286 0.87804878 0.85365854]\n"
     ]
    },
    {
     "data": {
      "text/plain": [
       "0.858885017421603"
      ]
     },
     "execution_count": 41,
     "metadata": {},
     "output_type": "execute_result"
    }
   ],
   "source": [
    "#use 10-fold cross validation to check for overfitting\n",
    "scores = cross_val_score(dt_clf2, X_train, y_train, cv = 10)\n",
    "print(\"Cross Validation Score for each K\",scores)\n",
    "scores.mean() "
   ]
  },
  {
   "cell_type": "code",
   "execution_count": 42,
   "metadata": {},
   "outputs": [
    {
     "data": {
      "image/png": "[encoded data removed]",
      "text/plain": [
       "<Figure size 360x360 with 1 Axes>"
      ]
     },
     "metadata": {
      "needs_background": "light"
     },
     "output_type": "display_data"
    }
   ],
   "source": [
    "#build a confusion matrix\n",
    "cm = confusion_matrix(y_test, target_predicted_dt2)\n",
    "fig, ax = plt.subplots(figsize = (5, 5))\n",
    "ax.matshow(cm, cmap = plt.cm.Oranges, alpha = 0.5)\n",
    "for i in range(cm.shape[0]) :\n",
    "    for j in range(cm.shape[1]) :\n",
    "        ax.text(x = j, y = i, s = cm[i, j], va = 'center', ha = 'center')\n",
    "plt.xlabel('Predicted Label')\n",
    "plt.ylabel('True Label')\n",
    "plt.show()"
   ]
  },
  {
   "cell_type": "markdown",
   "metadata": {},
   "source": [
    "### DT Model 3\n",
    "Since the max_depth argument chosen in the last grid search was the largest value, another grid search was performed with larger values. The class weight hyperparameter was also included using roc_auc scoring."
   ]
  },
  {
   "cell_type": "code",
   "execution_count": 43,
   "metadata": {},
   "outputs": [
    {
     "name": "stdout",
     "output_type": "stream",
     "text": [
      "Best {'class_weight': 'balanced', 'criterion': 'gini', 'max_depth': 2, 'splitter': 'best'}\n"
     ]
    }
   ],
   "source": [
    "#create the grid\n",
    "param_grid3 = {'class_weight' : ['None', 'balanced'], 'criterion' : ['gini', 'entropy'], 'max_depth' : [0, 1, 2, 3, 4, 5, 6, 7, 8, 9, 10], 'splitter' : ['best', 'random']}\n",
    "\n",
    "#run the grid search\n",
    "grid_search = GridSearchCV(dt_clf2, param_grid = param_grid3, scoring = 'roc_auc', n_jobs = -1, cv = 10)\n",
    "grid_search.fit(X_train, y_train)\n",
    "print(\"Best\", grid_search.best_params_) "
   ]
  },
  {
   "cell_type": "code",
   "execution_count": 44,
   "metadata": {},
   "outputs": [
    {
     "name": "stdout",
     "output_type": "stream",
     "text": [
      "DecisionTreeClassifier(ccp_alpha=0.0, class_weight='balanced', criterion='gini',\n",
      "                       max_depth=2, max_features=None, max_leaf_nodes=None,\n",
      "                       min_impurity_decrease=0.0, min_impurity_split=None,\n",
      "                       min_samples_leaf=1, min_samples_split=2,\n",
      "                       min_weight_fraction_leaf=0.0, presort='deprecated',\n",
      "                       random_state=8, splitter='best')\n"
     ]
    }
   ],
   "source": [
    "#call the new model\n",
    "dt_clf3 = DecisionTreeClassifier(class_weight = 'balanced', criterion = 'gini', max_depth = 2, splitter = 'best', random_state = 8)\n",
    "#check the parameter settings\n",
    "print(dt_clf3)\n",
    "\n",
    "#fit the classifier to the training data\n",
    "dt_clf3 = dt_clf3.fit(X_train, y_train)\n",
    "\n",
    "#make predictions using the test data\n",
    "target_predicted_dt3 = dt_clf3.predict(X_test)"
   ]
  },
  {
   "cell_type": "code",
   "execution_count": 45,
   "metadata": {},
   "outputs": [
    {
     "name": "stdout",
     "output_type": "stream",
     "text": [
      "DT Accuracy Score 0.8111111111111111\n",
      "DT Recall Score 0.7083333333333334\n",
      "DT ROC AUC Score 0.7676282051282051\n",
      "              precision    recall  f1-score   support\n",
      "\n",
      "           0       0.95      0.83      0.88       156\n",
      "           1       0.39      0.71      0.50        24\n",
      "\n",
      "    accuracy                           0.81       180\n",
      "   macro avg       0.67      0.77      0.69       180\n",
      "weighted avg       0.87      0.81      0.83       180\n",
      "\n"
     ]
    }
   ],
   "source": [
    "#create a classification report\n",
    "print(\"DT Accuracy Score\", accuracy_score(y_test, target_predicted_dt3))\n",
    "print(\"DT Recall Score\", recall_score(y_test, target_predicted_dt3))\n",
    "print(\"DT ROC AUC Score\", roc_auc_score(y_test, target_predicted_dt3))\n",
    "print(classification_report(y_test, target_predicted_dt3))"
   ]
  },
  {
   "cell_type": "code",
   "execution_count": 46,
   "metadata": {},
   "outputs": [
    {
     "name": "stdout",
     "output_type": "stream",
     "text": [
      "Cross Validation Score for each K [0.76190476 0.85714286 0.92857143 0.83333333 0.85714286 0.71428571\n",
      " 0.78571429 0.69047619 0.80487805 0.87804878]\n"
     ]
    },
    {
     "data": {
      "text/plain": [
       "0.8111498257839722"
      ]
     },
     "execution_count": 46,
     "metadata": {},
     "output_type": "execute_result"
    }
   ],
   "source": [
    "#use 10-fold cross validation to check for overfitting\n",
    "scores = cross_val_score(dt_clf3, X_train, y_train, cv = 10)\n",
    "print(\"Cross Validation Score for each K\",scores)\n",
    "scores.mean() "
   ]
  },
  {
   "cell_type": "code",
   "execution_count": 47,
   "metadata": {},
   "outputs": [
    {
     "data": {
      "image/png": "[encoded data removed]",
      "text/plain": [
       "<Figure size 360x360 with 1 Axes>"
      ]
     },
     "metadata": {
      "needs_background": "light"
     },
     "output_type": "display_data"
    }
   ],
   "source": [
    "#build a confusion matrix\n",
    "cm = confusion_matrix(y_test, target_predicted_dt3)\n",
    "fig, ax = plt.subplots(figsize = (5, 5))\n",
    "ax.matshow(cm, cmap = plt.cm.Oranges, alpha = 0.5)\n",
    "for i in range(cm.shape[0]) :\n",
    "    for j in range(cm.shape[1]) :\n",
    "        ax.text(x = j, y = i, s = cm[i, j], va = 'center', ha = 'center')\n",
    "plt.xlabel('Predicted Label')\n",
    "plt.ylabel('True Label')\n",
    "plt.show()"
   ]
  },
  {
   "cell_type": "markdown",
   "metadata": {},
   "source": [
    "# Random Forest Classifiers\n",
    "### RF Model 1"
   ]
  },
  {
   "cell_type": "code",
   "execution_count": 48,
   "metadata": {},
   "outputs": [
    {
     "name": "stdout",
     "output_type": "stream",
     "text": [
      "RandomForestClassifier(bootstrap=True, ccp_alpha=0.0, class_weight=None,\n",
      "                       criterion='gini', max_depth=None, max_features='auto',\n",
      "                       max_leaf_nodes=None, max_samples=None,\n",
      "                       min_impurity_decrease=0.0, min_impurity_split=None,\n",
      "                       min_samples_leaf=1, min_samples_split=2,\n",
      "                       min_weight_fraction_leaf=0.0, n_estimators=100,\n",
      "                       n_jobs=None, oob_score=False, random_state=8, verbose=0,\n",
      "                       warm_start=False)\n"
     ]
    }
   ],
   "source": [
    "#call the default model\n",
    "rf_clf = RandomForestClassifier(random_state = 8)\n",
    "#check the default parameter settings\n",
    "print(rf_clf)\n",
    "\n",
    "#fit the classifier to the training data\n",
    "rf_clf = rf_clf.fit(X_train, y_train)\n",
    "\n",
    "#make predictions using the test data\n",
    "target_predicted_rf = rf_clf.predict(X_test)"
   ]
  },
  {
   "cell_type": "code",
   "execution_count": 49,
   "metadata": {},
   "outputs": [
    {
     "name": "stdout",
     "output_type": "stream",
     "text": [
      "RF Accuracy Score 0.9\n",
      "RF Recall Score 0.2916666666666667\n",
      "RF ROC AUC Score 0.6426282051282052\n",
      "              precision    recall  f1-score   support\n",
      "\n",
      "           0       0.90      0.99      0.95       156\n",
      "           1       0.88      0.29      0.44        24\n",
      "\n",
      "    accuracy                           0.90       180\n",
      "   macro avg       0.89      0.64      0.69       180\n",
      "weighted avg       0.90      0.90      0.88       180\n",
      "\n"
     ]
    }
   ],
   "source": [
    "#create a classification report\n",
    "print(\"RF Accuracy Score\", accuracy_score(y_test, target_predicted_rf))\n",
    "print(\"RF Recall Score\", recall_score(y_test, target_predicted_rf))\n",
    "print(\"RF ROC AUC Score\", roc_auc_score(y_test, target_predicted_rf))\n",
    "print(classification_report(y_test, target_predicted_rf))"
   ]
  },
  {
   "cell_type": "code",
   "execution_count": 50,
   "metadata": {},
   "outputs": [
    {
     "name": "stdout",
     "output_type": "stream",
     "text": [
      "Cross Validation Score for each K [0.85714286 0.88095238 0.9047619  0.88095238 0.9047619  0.9047619\n",
      " 0.92857143 0.85714286 0.90243902 0.92682927]\n"
     ]
    },
    {
     "data": {
      "text/plain": [
       "0.8948315911730547"
      ]
     },
     "execution_count": 50,
     "metadata": {},
     "output_type": "execute_result"
    }
   ],
   "source": [
    "#use 10-fold cross validation to check for overfitting\n",
    "scores = cross_val_score(rf_clf, X_train, y_train, cv = 10)\n",
    "print(\"Cross Validation Score for each K\",scores)\n",
    "scores.mean()"
   ]
  },
  {
   "cell_type": "code",
   "execution_count": 51,
   "metadata": {},
   "outputs": [
    {
     "data": {
      "image/png": "[encoded data removed]",
      "text/plain": [
       "<Figure size 360x360 with 1 Axes>"
      ]
     },
     "metadata": {
      "needs_background": "light"
     },
     "output_type": "display_data"
    }
   ],
   "source": [
    "#build a confusion matrix\n",
    "cm = confusion_matrix(y_test, target_predicted_rf)\n",
    "fig, ax = plt.subplots(figsize = (5, 5))\n",
    "ax.matshow(cm, cmap = plt.cm.Greens, alpha = 0.5)\n",
    "for i in range(cm.shape[0]) :\n",
    "    for j in range(cm.shape[1]) :\n",
    "        ax.text(x = j, y = i, s = cm[i, j], va = 'center', ha = 'center')\n",
    "plt.xlabel('Predicted Label')\n",
    "plt.ylabel('True Label')\n",
    "plt.show()\n"
   ]
  },
  {
   "cell_type": "markdown",
   "metadata": {},
   "source": [
    "### RF Model 2\n",
    "To try and develop a better model, a grid search was conducted to optimize a few of the hyperparameters using roc_auc scoring."
   ]
  },
  {
   "cell_type": "code",
   "execution_count": 52,
   "metadata": {},
   "outputs": [
    {
     "name": "stdout",
     "output_type": "stream",
     "text": [
      "Best {'class_weight': 'balanced', 'criterion': 'gini', 'max_depth': 5}\n"
     ]
    }
   ],
   "source": [
    "#create the grid\n",
    "param_grid2 = {'class_weight' : ['None', 'balanced', 'balanced_subsample'], 'criterion' : ['gini', 'entropy'], 'max_depth' : [1, 2, 3, 4, 5]}\n",
    "\n",
    "#run the grid search\n",
    "grid_search = GridSearchCV(rf_clf, param_grid = param_grid2, scoring = 'roc_auc', n_jobs = -1, cv = 10)\n",
    "grid_search.fit(X_train, y_train)\n",
    "print(\"Best\", grid_search.best_params_) "
   ]
  },
  {
   "cell_type": "code",
   "execution_count": 53,
   "metadata": {},
   "outputs": [
    {
     "name": "stdout",
     "output_type": "stream",
     "text": [
      "RandomForestClassifier(bootstrap=True, ccp_alpha=0.0, class_weight='balanced',\n",
      "                       criterion='gini', max_depth=5, max_features='auto',\n",
      "                       max_leaf_nodes=None, max_samples=None,\n",
      "                       min_impurity_decrease=0.0, min_impurity_split=None,\n",
      "                       min_samples_leaf=1, min_samples_split=2,\n",
      "                       min_weight_fraction_leaf=0.0, n_estimators=100,\n",
      "                       n_jobs=None, oob_score=False, random_state=8, verbose=0,\n",
      "                       warm_start=False)\n"
     ]
    }
   ],
   "source": [
    "#call the new model\n",
    "rf_clf2 = RandomForestClassifier(class_weight = 'balanced', criterion = 'gini', max_depth = 5, random_state = 8)\n",
    "#check the parameter settings\n",
    "print(rf_clf2)\n",
    "\n",
    "#fit the classifier to the training data\n",
    "rf_clf2 = rf_clf2.fit(X_train, y_train)\n",
    "\n",
    "#make predictions using the test data\n",
    "target_predicted_rf2 = rf_clf2.predict(X_test)"
   ]
  },
  {
   "cell_type": "code",
   "execution_count": 54,
   "metadata": {},
   "outputs": [
    {
     "name": "stdout",
     "output_type": "stream",
     "text": [
      "RF Accuracy Score 0.9111111111111111\n",
      "RF Recall Score 0.5833333333333334\n",
      "RF ROC AUC Score 0.7724358974358975\n",
      "              precision    recall  f1-score   support\n",
      "\n",
      "           0       0.94      0.96      0.95       156\n",
      "           1       0.70      0.58      0.64        24\n",
      "\n",
      "    accuracy                           0.91       180\n",
      "   macro avg       0.82      0.77      0.79       180\n",
      "weighted avg       0.91      0.91      0.91       180\n",
      "\n"
     ]
    }
   ],
   "source": [
    "#create a classification report\n",
    "print(\"RF Accuracy Score\", accuracy_score(y_test, target_predicted_rf2))\n",
    "print(\"RF Recall Score\", recall_score(y_test, target_predicted_rf2))\n",
    "print(\"RF ROC AUC Score\", roc_auc_score(y_test, target_predicted_rf2))\n",
    "print(classification_report(y_test, target_predicted_rf2))"
   ]
  },
  {
   "cell_type": "code",
   "execution_count": 55,
   "metadata": {},
   "outputs": [
    {
     "name": "stdout",
     "output_type": "stream",
     "text": [
      "Cross Validation Score for each K [0.88095238 0.92857143 0.95238095 0.9047619  0.88095238 0.88095238\n",
      " 0.97619048 0.9047619  0.85365854 0.95121951]\n"
     ]
    },
    {
     "data": {
      "text/plain": [
       "0.9114401858304297"
      ]
     },
     "execution_count": 55,
     "metadata": {},
     "output_type": "execute_result"
    }
   ],
   "source": [
    "#use 10-fold cross validation to check for overfitting\n",
    "scores = cross_val_score(rf_clf2, X_train, y_train, cv = 10)\n",
    "print(\"Cross Validation Score for each K\",scores)\n",
    "scores.mean()"
   ]
  },
  {
   "cell_type": "code",
   "execution_count": 56,
   "metadata": {},
   "outputs": [
    {
     "data": {
      "image/png": "[encoded data removed]",
      "text/plain": [
       "<Figure size 360x360 with 1 Axes>"
      ]
     },
     "metadata": {
      "needs_background": "light"
     },
     "output_type": "display_data"
    }
   ],
   "source": [
    "#build a confusion matrix\n",
    "cm = confusion_matrix(y_test, target_predicted_rf2)\n",
    "fig, ax = plt.subplots(figsize = (5, 5))\n",
    "ax.matshow(cm, cmap = plt.cm.Greens, alpha = 0.5)\n",
    "for i in range(cm.shape[0]) :\n",
    "    for j in range(cm.shape[1]) :\n",
    "        ax.text(x = j, y = i, s = cm[i, j], va = 'center', ha = 'center')\n",
    "plt.xlabel('Predicted Label')\n",
    "plt.ylabel('True Label')\n",
    "plt.show()"
   ]
  },
  {
   "cell_type": "markdown",
   "metadata": {},
   "source": [
    "### RF Model 3\n",
    "Since the max_depth argument chosen in the last grid search was the largest value, another grid search was performed with larger values.  In addition, this grid search includes the \"n_estimator\" hyperparameter using roc_auc scoring."
   ]
  },
  {
   "cell_type": "code",
   "execution_count": 57,
   "metadata": {},
   "outputs": [
    {
     "name": "stdout",
     "output_type": "stream",
     "text": [
      "Best {'max_depth': 7, 'n_estimators': 300}\n"
     ]
    }
   ],
   "source": [
    "#create the grid\n",
    "param_grid3 = {'max_depth' : [3, 4, 5, 6, 7], 'n_estimators' : [100, 200, 300, 400, 500]}\n",
    "\n",
    "#run the grid search\n",
    "grid_search = GridSearchCV(rf_clf2, param_grid = param_grid3, scoring = 'roc_auc', n_jobs = -1, cv = 10)\n",
    "grid_search.fit(X_train, y_train)\n",
    "print(\"Best\", grid_search.best_params_) "
   ]
  },
  {
   "cell_type": "code",
   "execution_count": 58,
   "metadata": {},
   "outputs": [
    {
     "name": "stdout",
     "output_type": "stream",
     "text": [
      "RandomForestClassifier(bootstrap=True, ccp_alpha=0.0, class_weight='balanced',\n",
      "                       criterion='gini', max_depth=7, max_features='auto',\n",
      "                       max_leaf_nodes=None, max_samples=None,\n",
      "                       min_impurity_decrease=0.0, min_impurity_split=None,\n",
      "                       min_samples_leaf=1, min_samples_split=2,\n",
      "                       min_weight_fraction_leaf=0.0, n_estimators=300,\n",
      "                       n_jobs=None, oob_score=False, random_state=8, verbose=0,\n",
      "                       warm_start=False)\n"
     ]
    }
   ],
   "source": [
    "#call the new model\n",
    "rf_clf3 = RandomForestClassifier(class_weight = 'balanced', criterion = 'gini', max_depth = 7, n_estimators = 300, random_state = 8)\n",
    "#check the parameter settings\n",
    "print(rf_clf3)\n",
    "\n",
    "#fit the classifier to the training data\n",
    "rf_clf3 = rf_clf3.fit(X_train, y_train)\n",
    "\n",
    "#make predictions using the test data\n",
    "target_predicted_rf3 = rf_clf3.predict(X_test)"
   ]
  },
  {
   "cell_type": "code",
   "execution_count": 59,
   "metadata": {},
   "outputs": [
    {
     "name": "stdout",
     "output_type": "stream",
     "text": [
      "RF Accuracy Score 0.9\n",
      "RF Recall Score 0.5416666666666666\n",
      "RF ROC AUC Score 0.7483974358974359\n",
      "              precision    recall  f1-score   support\n",
      "\n",
      "           0       0.93      0.96      0.94       156\n",
      "           1       0.65      0.54      0.59        24\n",
      "\n",
      "    accuracy                           0.90       180\n",
      "   macro avg       0.79      0.75      0.77       180\n",
      "weighted avg       0.89      0.90      0.90       180\n",
      "\n"
     ]
    }
   ],
   "source": [
    "#create a classification report\n",
    "print(\"RF Accuracy Score\", accuracy_score(y_test, target_predicted_rf3))\n",
    "print(\"RF Recall Score\", recall_score(y_test, target_predicted_rf3))\n",
    "print(\"RF ROC AUC Score\", roc_auc_score(y_test, target_predicted_rf3))\n",
    "print(classification_report(y_test, target_predicted_rf3))"
   ]
  },
  {
   "cell_type": "code",
   "execution_count": 60,
   "metadata": {},
   "outputs": [
    {
     "name": "stdout",
     "output_type": "stream",
     "text": [
      "Cross Validation Score for each K [0.85714286 0.92857143 0.88095238 0.92857143 0.9047619  0.9047619\n",
      " 0.95238095 0.85714286 0.87804878 0.97560976]\n"
     ]
    },
    {
     "data": {
      "text/plain": [
       "0.906794425087108"
      ]
     },
     "execution_count": 60,
     "metadata": {},
     "output_type": "execute_result"
    }
   ],
   "source": [
    "#use 10-fold cross validation to check for overfitting\n",
    "scores = cross_val_score(rf_clf3, X_train, y_train, cv = 10)\n",
    "print(\"Cross Validation Score for each K\",scores)\n",
    "scores.mean()"
   ]
  },
  {
   "cell_type": "code",
   "execution_count": 61,
   "metadata": {},
   "outputs": [
    {
     "data": {
      "image/png": "[encoded data removed]",
      "text/plain": [
       "<Figure size 360x360 with 1 Axes>"
      ]
     },
     "metadata": {
      "needs_background": "light"
     },
     "output_type": "display_data"
    }
   ],
   "source": [
    "#build a confusion matrix\n",
    "cm = confusion_matrix(y_test, target_predicted_rf3)\n",
    "fig, ax = plt.subplots(figsize = (5, 5))\n",
    "ax.matshow(cm, cmap = plt.cm.Greens, alpha = 0.5)\n",
    "for i in range(cm.shape[0]) :\n",
    "    for j in range(cm.shape[1]) :\n",
    "        ax.text(x = j, y = i, s = cm[i, j], va = 'center', ha = 'center')\n",
    "plt.xlabel('Predicted Label')\n",
    "plt.ylabel('True Label')\n",
    "plt.show()"
   ]
  },
  {
   "cell_type": "markdown",
   "metadata": {},
   "source": [
    "# Extra Trees Classifiers\n",
    "### ET Model 1"
   ]
  },
  {
   "cell_type": "code",
   "execution_count": 62,
   "metadata": {},
   "outputs": [
    {
     "name": "stdout",
     "output_type": "stream",
     "text": [
      "ExtraTreesClassifier(bootstrap=False, ccp_alpha=0.0, class_weight=None,\n",
      "                     criterion='gini', max_depth=None, max_features='auto',\n",
      "                     max_leaf_nodes=None, max_samples=None,\n",
      "                     min_impurity_decrease=0.0, min_impurity_split=None,\n",
      "                     min_samples_leaf=1, min_samples_split=2,\n",
      "                     min_weight_fraction_leaf=0.0, n_estimators=100,\n",
      "                     n_jobs=None, oob_score=False, random_state=8, verbose=0,\n",
      "                     warm_start=False)\n"
     ]
    }
   ],
   "source": [
    "#call the default model\n",
    "et_clf = ExtraTreesClassifier(random_state = 8)\n",
    "#check the default parameter settings\n",
    "print(et_clf)\n",
    "\n",
    "#fit the classifier to the training data\n",
    "et_clf.fit(X_train, y_train)\n",
    "\n",
    "#make predictions using the test data\n",
    "target_predicted_et = et_clf.predict(X_test)"
   ]
  },
  {
   "cell_type": "code",
   "execution_count": 63,
   "metadata": {},
   "outputs": [
    {
     "name": "stdout",
     "output_type": "stream",
     "text": [
      "ET Accuracy Score 0.8888888888888888\n",
      "ET Recall Score 0.2916666666666667\n",
      "ET ROC AUC Score 0.6362179487179488\n",
      "              precision    recall  f1-score   support\n",
      "\n",
      "           0       0.90      0.98      0.94       156\n",
      "           1       0.70      0.29      0.41        24\n",
      "\n",
      "    accuracy                           0.89       180\n",
      "   macro avg       0.80      0.64      0.68       180\n",
      "weighted avg       0.87      0.89      0.87       180\n",
      "\n"
     ]
    }
   ],
   "source": [
    "#create a classification report\n",
    "print(\"ET Accuracy Score\", accuracy_score(y_test, target_predicted_et))\n",
    "print(\"ET Recall Score\", recall_score(y_test, target_predicted_et))\n",
    "print(\"ET ROC AUC Score\", roc_auc_score(y_test, target_predicted_et))\n",
    "print(classification_report(y_test, target_predicted_et))"
   ]
  },
  {
   "cell_type": "code",
   "execution_count": 64,
   "metadata": {},
   "outputs": [
    {
     "name": "stdout",
     "output_type": "stream",
     "text": [
      "Cross Validation Score for each K [0.92857143 0.92857143 0.92857143 0.9047619  0.9047619  0.9047619\n",
      " 0.92857143 0.80952381 0.92682927 0.92682927]\n"
     ]
    },
    {
     "data": {
      "text/plain": [
       "0.9091753774680604"
      ]
     },
     "execution_count": 64,
     "metadata": {},
     "output_type": "execute_result"
    }
   ],
   "source": [
    "#use 10-fold cross validation to check for overfitting\n",
    "scores = cross_val_score(et_clf, X_train, y_train, cv = 10)\n",
    "print(\"Cross Validation Score for each K\",scores)\n",
    "scores.mean()"
   ]
  },
  {
   "cell_type": "code",
   "execution_count": 65,
   "metadata": {},
   "outputs": [
    {
     "data": {
      "image/png": "[encoded data removed]",
      "text/plain": [
       "<Figure size 360x360 with 1 Axes>"
      ]
     },
     "metadata": {
      "needs_background": "light"
     },
     "output_type": "display_data"
    }
   ],
   "source": [
    "#build a confusion matrix\n",
    "cm = confusion_matrix(y_test, target_predicted_et)\n",
    "fig, ax = plt.subplots(figsize = (5, 5))\n",
    "ax.matshow(cm, cmap = plt.cm.Blues, alpha = 0.5)\n",
    "for i in range(cm.shape[0]) :\n",
    "    for j in range(cm.shape[1]) :\n",
    "        ax.text(x = j, y = i, s = cm[i, j], va = 'center', ha = 'center')\n",
    "plt.xlabel('Predicted Label')\n",
    "plt.ylabel('True Label')\n",
    "plt.show()"
   ]
  },
  {
   "cell_type": "markdown",
   "metadata": {},
   "source": [
    "### ET Model 2\n",
    "To try and develop a better model, a grid search was conducted to optimize a few of the hyperparameters using roc_auc scoring."
   ]
  },
  {
   "cell_type": "code",
   "execution_count": 66,
   "metadata": {},
   "outputs": [
    {
     "name": "stdout",
     "output_type": "stream",
     "text": [
      "Best {'bootstrap': 'True', 'class_weight': 'balanced', 'criterion': 'gini', 'max_depth': 5, 'n_estimators': 100}\n"
     ]
    }
   ],
   "source": [
    "#create the grid\n",
    "param_grid2 = {'bootstrap' : ['True', 'False'], 'class_weight' : ['None', 'balanced', 'balanced_subsample'], 'criterion' : ['gini', 'entropy'], 'max_depth' : [1, 2, 3, 4, 5],\n",
    "               'n_estimators' : [100, 200, 300, 400, 500]}\n",
    "\n",
    "#run the grid search\n",
    "grid_search = GridSearchCV(et_clf, param_grid = param_grid2, scoring = 'roc_auc', n_jobs = -1, cv = 10)\n",
    "grid_search.fit(X_train, y_train)\n",
    "print(\"Best\", grid_search.best_params_) "
   ]
  },
  {
   "cell_type": "code",
   "execution_count": 67,
   "metadata": {},
   "outputs": [
    {
     "name": "stdout",
     "output_type": "stream",
     "text": [
      "ExtraTreesClassifier(bootstrap=True, ccp_alpha=0.0, class_weight='balanced',\n",
      "                     criterion='gini', max_depth=5, max_features='auto',\n",
      "                     max_leaf_nodes=None, max_samples=None,\n",
      "                     min_impurity_decrease=0.0, min_impurity_split=None,\n",
      "                     min_samples_leaf=1, min_samples_split=2,\n",
      "                     min_weight_fraction_leaf=0.0, n_estimators=100,\n",
      "                     n_jobs=None, oob_score=False, random_state=8, verbose=0,\n",
      "                     warm_start=False)\n"
     ]
    }
   ],
   "source": [
    "#call the new model\n",
    "et_clf2 = ExtraTreesClassifier(bootstrap = True, class_weight = 'balanced', criterion = 'gini', max_depth = 5, n_estimators = 100, random_state = 8)\n",
    "#check the parameter settings\n",
    "print(et_clf2)\n",
    "\n",
    "#fit the classifier to the training data\n",
    "et_clf2.fit(X_train, y_train)\n",
    "\n",
    "#make predictions using the test data\n",
    "target_predicted_et2 = et_clf2.predict(X_test)"
   ]
  },
  {
   "cell_type": "code",
   "execution_count": 68,
   "metadata": {},
   "outputs": [
    {
     "name": "stdout",
     "output_type": "stream",
     "text": [
      "ET Accuracy Score 0.8333333333333334\n",
      "ET Recall Score 0.7916666666666666\n",
      "ET ROC AUC Score 0.8157051282051282\n",
      "              precision    recall  f1-score   support\n",
      "\n",
      "           0       0.96      0.84      0.90       156\n",
      "           1       0.43      0.79      0.56        24\n",
      "\n",
      "    accuracy                           0.83       180\n",
      "   macro avg       0.70      0.82      0.73       180\n",
      "weighted avg       0.89      0.83      0.85       180\n",
      "\n"
     ]
    }
   ],
   "source": [
    "#create a classification report\n",
    "print(\"ET Accuracy Score\", accuracy_score(y_test, target_predicted_et2))\n",
    "print(\"ET Recall Score\", recall_score(y_test, target_predicted_et2))\n",
    "print(\"ET ROC AUC Score\", roc_auc_score(y_test, target_predicted_et2))\n",
    "print(classification_report(y_test, target_predicted_et2))"
   ]
  },
  {
   "cell_type": "code",
   "execution_count": 69,
   "metadata": {},
   "outputs": [
    {
     "name": "stdout",
     "output_type": "stream",
     "text": [
      "Cross Validation Score for each K [0.83333333 0.85714286 0.92857143 0.92857143 0.78571429 0.85714286\n",
      " 0.88095238 0.78571429 0.80487805 0.90243902]\n"
     ]
    },
    {
     "data": {
      "text/plain": [
       "0.8564459930313589"
      ]
     },
     "execution_count": 69,
     "metadata": {},
     "output_type": "execute_result"
    }
   ],
   "source": [
    "#use 10-fold cross validation to check for overfitting\n",
    "scores = cross_val_score(et_clf2, X_train, y_train, cv = 10)\n",
    "print(\"Cross Validation Score for each K\",scores)\n",
    "scores.mean()"
   ]
  },
  {
   "cell_type": "code",
   "execution_count": 70,
   "metadata": {},
   "outputs": [
    {
     "data": {
      "image/png": "[encoded data removed]",
      "text/plain": [
       "<Figure size 360x360 with 1 Axes>"
      ]
     },
     "metadata": {
      "needs_background": "light"
     },
     "output_type": "display_data"
    }
   ],
   "source": [
    "#build a confusion matrix\n",
    "cm = confusion_matrix(y_test, target_predicted_et2)\n",
    "fig, ax = plt.subplots(figsize = (5, 5))\n",
    "ax.matshow(cm, cmap = plt.cm.Blues, alpha = 0.5)\n",
    "for i in range(cm.shape[0]) :\n",
    "    for j in range(cm.shape[1]) :\n",
    "        ax.text(x = j, y = i, s = cm[i, j], va = 'center', ha = 'center')\n",
    "plt.xlabel('Predicted Label')\n",
    "plt.ylabel('True Label')\n",
    "plt.show()"
   ]
  },
  {
   "cell_type": "markdown",
   "metadata": {},
   "source": [
    "### ET Model 3\n",
    "Since the max_depth argument chosen in the last grid search was the largest value, another grid search was performed with larger values. In addition, the n_estimator argument chosen in the last grid search was the smallest value, smaller values were used in this grid search using roc_auc scoring."
   ]
  },
  {
   "cell_type": "code",
   "execution_count": 71,
   "metadata": {},
   "outputs": [
    {
     "name": "stdout",
     "output_type": "stream",
     "text": [
      "Best {'max_depth': 5, 'n_estimators': 70}\n"
     ]
    }
   ],
   "source": [
    "#create the grid\n",
    "param_grid3 = {'max_depth' : [3, 4, 5, 6, 7, 8], 'n_estimators' : [50, 60, 70, 80, 90, 100]}\n",
    "\n",
    "#run the grid search\n",
    "grid_search = GridSearchCV(et_clf2, param_grid = param_grid3, scoring = 'roc_auc', n_jobs = -1, cv = 10)\n",
    "grid_search.fit(X_train, y_train)\n",
    "print(\"Best\", grid_search.best_params_) "
   ]
  },
  {
   "cell_type": "code",
   "execution_count": 72,
   "metadata": {},
   "outputs": [
    {
     "name": "stdout",
     "output_type": "stream",
     "text": [
      "ExtraTreesClassifier(bootstrap=True, ccp_alpha=0.0,\n",
      "                     class_weight='balanced_subsample', criterion='gini',\n",
      "                     max_depth=5, max_features='auto', max_leaf_nodes=None,\n",
      "                     max_samples=None, min_impurity_decrease=0.0,\n",
      "                     min_impurity_split=None, min_samples_leaf=1,\n",
      "                     min_samples_split=2, min_weight_fraction_leaf=0.0,\n",
      "                     n_estimators=70, n_jobs=None, oob_score=False,\n",
      "                     random_state=8, verbose=0, warm_start=False)\n"
     ]
    }
   ],
   "source": [
    "#call the new model\n",
    "et_clf3 = ExtraTreesClassifier(bootstrap = True, class_weight = 'balanced_subsample', max_depth = 5, n_estimators = 70, random_state = 8)\n",
    "#check the parameter settings\n",
    "print(et_clf3)\n",
    "\n",
    "#fit the classifier to the training data\n",
    "et_clf3.fit(X_train, y_train)\n",
    "\n",
    "#make predictions using the test data\n",
    "target_predicted_et3 = et_clf3.predict(X_test)"
   ]
  },
  {
   "cell_type": "code",
   "execution_count": 73,
   "metadata": {},
   "outputs": [
    {
     "name": "stdout",
     "output_type": "stream",
     "text": [
      "ET Accuracy Score 0.8222222222222222\n",
      "ET Recall Score 0.7916666666666666\n",
      "ET ROC AUC Score 0.8092948717948717\n",
      "              precision    recall  f1-score   support\n",
      "\n",
      "           0       0.96      0.83      0.89       156\n",
      "           1       0.41      0.79      0.54        24\n",
      "\n",
      "    accuracy                           0.82       180\n",
      "   macro avg       0.69      0.81      0.72       180\n",
      "weighted avg       0.89      0.82      0.84       180\n",
      "\n"
     ]
    }
   ],
   "source": [
    "#create a classification report\n",
    "print(\"ET Accuracy Score\", accuracy_score(y_test, target_predicted_et3))\n",
    "print(\"ET Recall Score\", recall_score(y_test, target_predicted_et3))\n",
    "print(\"ET ROC AUC Score\", roc_auc_score(y_test, target_predicted_et3))\n",
    "print(classification_report(y_test, target_predicted_et3))"
   ]
  },
  {
   "cell_type": "code",
   "execution_count": 74,
   "metadata": {},
   "outputs": [
    {
     "name": "stdout",
     "output_type": "stream",
     "text": [
      "Cross Validation Score for each K [0.9047619  0.80952381 0.95238095 0.92857143 0.80952381 0.83333333\n",
      " 0.88095238 0.80952381 0.82926829 0.92682927]\n"
     ]
    },
    {
     "data": {
      "text/plain": [
       "0.8684668989547039"
      ]
     },
     "execution_count": 74,
     "metadata": {},
     "output_type": "execute_result"
    }
   ],
   "source": [
    "#use 10-fold cross validation to check for overfitting\n",
    "scores = cross_val_score(et_clf3, X_train, y_train, cv = 10)\n",
    "print(\"Cross Validation Score for each K\",scores)\n",
    "scores.mean()"
   ]
  },
  {
   "cell_type": "code",
   "execution_count": 75,
   "metadata": {},
   "outputs": [
    {
     "data": {
      "image/png": "[encoded data removed]",
      "text/plain": [
       "<Figure size 360x360 with 1 Axes>"
      ]
     },
     "metadata": {
      "needs_background": "light"
     },
     "output_type": "display_data"
    }
   ],
   "source": [
    "#build a confusion matrix\n",
    "cm = confusion_matrix(y_test, target_predicted_et3)\n",
    "fig, ax = plt.subplots(figsize = (5, 5))\n",
    "ax.matshow(cm, cmap = plt.cm.Blues, alpha = 0.5)\n",
    "for i in range(cm.shape[0]) :\n",
    "    for j in range(cm.shape[1]) :\n",
    "        ax.text(x = j, y = i, s = cm[i, j], va = 'center', ha = 'center')\n",
    "plt.xlabel('Predicted Label')\n",
    "plt.ylabel('True Label')\n",
    "plt.show()"
   ]
  },
  {
   "cell_type": "markdown",
   "metadata": {},
   "source": [
    "# C-Support Vector Classifiers\n",
    "In addition to the linear and radial basis function kernals used in the first iteration of this project, a support vector machine model was created using a polynomial kernal for the second iteration of this project.\n",
    "### SVC (Linear) Model 1"
   ]
  },
  {
   "cell_type": "code",
   "execution_count": 76,
   "metadata": {},
   "outputs": [
    {
     "name": "stdout",
     "output_type": "stream",
     "text": [
      "SVC(C=1.0, break_ties=False, cache_size=200, class_weight=None, coef0=0.0,\n",
      "    decision_function_shape='ovr', degree=3, gamma='scale', kernel='linear',\n",
      "    max_iter=-1, probability=False, random_state=8, shrinking=True, tol=0.001,\n",
      "    verbose=False)\n"
     ]
    }
   ],
   "source": [
    "#call the default linear model\n",
    "svc_lin = SVC(kernel = 'linear', random_state = 8)\n",
    "#check the default parameter settings\n",
    "print(svc_lin)\n",
    "\n",
    "#fit the classifier to the training data\n",
    "svc_lin.fit(X_train, y_train)\n",
    "\n",
    "#make predictions using the test data\n",
    "target_predicted_SVC = svc_lin.predict(X_test)"
   ]
  },
  {
   "cell_type": "code",
   "execution_count": 77,
   "metadata": {},
   "outputs": [
    {
     "name": "stdout",
     "output_type": "stream",
     "text": [
      "SVC Accuracy Score 0.9166666666666666\n",
      "SVC Recall Score 0.5416666666666666\n",
      "SVC ROC AUC Score 0.7580128205128204\n",
      "              precision    recall  f1-score   support\n",
      "\n",
      "           0       0.93      0.97      0.95       156\n",
      "           1       0.76      0.54      0.63        24\n",
      "\n",
      "    accuracy                           0.92       180\n",
      "   macro avg       0.85      0.76      0.79       180\n",
      "weighted avg       0.91      0.92      0.91       180\n",
      "\n"
     ]
    }
   ],
   "source": [
    "#create a classification report\n",
    "print(\"SVC Accuracy Score\", accuracy_score(y_test, target_predicted_SVC))\n",
    "print(\"SVC Recall Score\", recall_score(y_test, target_predicted_SVC))\n",
    "print(\"SVC ROC AUC Score\", roc_auc_score(y_test, target_predicted_SVC))\n",
    "print(classification_report(y_test, target_predicted_SVC))"
   ]
  },
  {
   "cell_type": "code",
   "execution_count": 78,
   "metadata": {},
   "outputs": [
    {
     "name": "stdout",
     "output_type": "stream",
     "text": [
      "Cross Validation Score for each K [0.85714286 0.9047619  0.92857143 0.9047619  0.80952381 0.92857143\n",
      " 0.9047619  0.85714286 0.87804878 0.95121951]\n"
     ]
    },
    {
     "data": {
      "text/plain": [
       "0.8924506387921021"
      ]
     },
     "execution_count": 78,
     "metadata": {},
     "output_type": "execute_result"
    }
   ],
   "source": [
    "#use 10-fold cross validation to check for overfitting\n",
    "scores = cross_val_score(svc_lin, X_train, y_train, cv = 10)\n",
    "print(\"Cross Validation Score for each K\",scores)\n",
    "scores.mean()"
   ]
  },
  {
   "cell_type": "code",
   "execution_count": 79,
   "metadata": {},
   "outputs": [
    {
     "data": {
      "image/png": "[encoded data removed]",
      "text/plain": [
       "<Figure size 360x360 with 1 Axes>"
      ]
     },
     "metadata": {
      "needs_background": "light"
     },
     "output_type": "display_data"
    }
   ],
   "source": [
    "#build a confusion matrix\n",
    "cm = confusion_matrix(y_test, target_predicted_SVC)\n",
    "fig, ax = plt.subplots(figsize = (5, 5))\n",
    "ax.matshow(cm, cmap = plt.cm.Purples, alpha = 0.5)\n",
    "for i in range(cm.shape[0]) :\n",
    "    for j in range(cm.shape[1]) :\n",
    "        ax.text(x = j, y = i, s = cm[i, j], va = 'center', ha = 'center')\n",
    "plt.xlabel('Predicted Label')\n",
    "plt.ylabel('True Label')\n",
    "plt.show()"
   ]
  },
  {
   "cell_type": "markdown",
   "metadata": {},
   "source": [
    "### SVC (Linear) Model 2\n",
    "To try and develop a better model, a grid search was conducted to optimize a few of the hyperparameters using roc_auc scoring."
   ]
  },
  {
   "cell_type": "code",
   "execution_count": 80,
   "metadata": {},
   "outputs": [
    {
     "name": "stdout",
     "output_type": "stream",
     "text": [
      "Best {'C': 0.5, 'class_weight': 'balanced'}\n"
     ]
    }
   ],
   "source": [
    "#create the grid\n",
    "param_grid2 = {'C' : [0.5, 1, 2, 3, 4, 5], 'class_weight' : ['None', 'balanced']}\n",
    "\n",
    "#run the grid search\n",
    "grid_search = GridSearchCV(svc_lin, param_grid = param_grid2, scoring = 'roc_auc', n_jobs = -1, cv = 10)\n",
    "grid_search.fit(X_train, y_train)\n",
    "print(\"Best\", grid_search.best_params_) "
   ]
  },
  {
   "cell_type": "code",
   "execution_count": 81,
   "metadata": {},
   "outputs": [
    {
     "name": "stdout",
     "output_type": "stream",
     "text": [
      "SVC(C=0.5, break_ties=False, cache_size=200, class_weight='balanced', coef0=0.0,\n",
      "    decision_function_shape='ovr', degree=3, gamma='scale', kernel='linear',\n",
      "    max_iter=-1, probability=False, random_state=8, shrinking=True, tol=0.001,\n",
      "    verbose=False)\n"
     ]
    }
   ],
   "source": [
    "#call the new model\n",
    "svc_lin2 = SVC(kernel = 'linear', C = 0.5, class_weight = 'balanced', random_state = 8)\n",
    "#check the parameter settings\n",
    "print(svc_lin2)\n",
    "\n",
    "#fit the classifier to the training data\n",
    "svc_lin2.fit(X_train, y_train)\n",
    "\n",
    "#make predictions using the test data\n",
    "target_predicted_SVC2 = svc_lin2.predict(X_test)"
   ]
  },
  {
   "cell_type": "code",
   "execution_count": 82,
   "metadata": {},
   "outputs": [
    {
     "name": "stdout",
     "output_type": "stream",
     "text": [
      "SVC Accuracy Score 0.8055555555555556\n",
      "SVC Recall Score 0.9583333333333334\n",
      "SVC ROC AUC Score 0.8701923076923077\n",
      "              precision    recall  f1-score   support\n",
      "\n",
      "           0       0.99      0.78      0.87       156\n",
      "           1       0.40      0.96      0.57        24\n",
      "\n",
      "    accuracy                           0.81       180\n",
      "   macro avg       0.70      0.87      0.72       180\n",
      "weighted avg       0.91      0.81      0.83       180\n",
      "\n"
     ]
    }
   ],
   "source": [
    "#create a classification report\n",
    "print(\"SVC Accuracy Score\", accuracy_score(y_test, target_predicted_SVC2))\n",
    "print(\"SVC Recall Score\", recall_score(y_test, target_predicted_SVC2))\n",
    "print(\"SVC ROC AUC Score\", roc_auc_score(y_test, target_predicted_SVC2))\n",
    "print(classification_report(y_test, target_predicted_SVC2))"
   ]
  },
  {
   "cell_type": "code",
   "execution_count": 83,
   "metadata": {},
   "outputs": [
    {
     "name": "stdout",
     "output_type": "stream",
     "text": [
      "Cross Validation Score for each K [0.76190476 0.80952381 0.92857143 0.85714286 0.78571429 0.80952381\n",
      " 0.88095238 0.73809524 0.80487805 0.90243902]\n"
     ]
    },
    {
     "data": {
      "text/plain": [
       "0.8278745644599302"
      ]
     },
     "execution_count": 83,
     "metadata": {},
     "output_type": "execute_result"
    }
   ],
   "source": [
    "#use 10-fold cross validation to check for overfitting\n",
    "scores = cross_val_score(svc_lin2, X_train, y_train, cv = 10)\n",
    "print(\"Cross Validation Score for each K\",scores)\n",
    "scores.mean()"
   ]
  },
  {
   "cell_type": "code",
   "execution_count": 84,
   "metadata": {},
   "outputs": [
    {
     "data": {
      "image/png": "[encoded data removed]",
      "text/plain": [
       "<Figure size 360x360 with 1 Axes>"
      ]
     },
     "metadata": {
      "needs_background": "light"
     },
     "output_type": "display_data"
    }
   ],
   "source": [
    "#build a confusion matrix\n",
    "cm = confusion_matrix(y_test, target_predicted_SVC2)\n",
    "fig, ax = plt.subplots(figsize = (5, 5))\n",
    "ax.matshow(cm, cmap = plt.cm.Purples, alpha = 0.5)\n",
    "for i in range(cm.shape[0]) :\n",
    "    for j in range(cm.shape[1]) :\n",
    "        ax.text(x = j, y = i, s = cm[i, j], va = 'center', ha = 'center')\n",
    "plt.xlabel('Predicted Label')\n",
    "plt.ylabel('True Label')\n",
    "plt.show()"
   ]
  },
  {
   "cell_type": "markdown",
   "metadata": {},
   "source": [
    "### SVC (Linear) Model 3\n",
    "To further refine the model, smaller values and increments of C were checked using roc_auc scoring."
   ]
  },
  {
   "cell_type": "code",
   "execution_count": 85,
   "metadata": {},
   "outputs": [
    {
     "name": "stdout",
     "output_type": "stream",
     "text": [
      "Best {'C': 0.7, 'class_weight': 'balanced'}\n"
     ]
    }
   ],
   "source": [
    "#create the grid\n",
    "param_grid3 = {'C' : [0.1, 0.2, 0.3, 0.4, 0.5, 0.6, 0.7, 0.8, 0.9, 1.0], 'class_weight' : ['None', 'balanced']}\n",
    "\n",
    "#run the grid search\n",
    "grid_search = GridSearchCV(svc_lin2, param_grid = param_grid3, scoring = 'roc_auc', n_jobs = -1, cv = 10)\n",
    "grid_search.fit(X_train, y_train)\n",
    "print(\"Best\", grid_search.best_params_)"
   ]
  },
  {
   "cell_type": "code",
   "execution_count": 86,
   "metadata": {},
   "outputs": [
    {
     "name": "stdout",
     "output_type": "stream",
     "text": [
      "SVC(C=0.7, break_ties=False, cache_size=200, class_weight='balanced', coef0=0.0,\n",
      "    decision_function_shape='ovr', degree=3, gamma='scale', kernel='linear',\n",
      "    max_iter=-1, probability=True, random_state=8, shrinking=True, tol=0.001,\n",
      "    verbose=False)\n"
     ]
    }
   ],
   "source": [
    "#call the new model\n",
    "svc_lin3 = SVC(kernel = 'linear', C = 0.7, class_weight = 'balanced', probability = True, random_state = 8)\n",
    "#check the parameter settings\n",
    "print(svc_lin3)\n",
    "\n",
    "#fit the classifier to the training data\n",
    "svc_lin3.fit(X_train, y_train)\n",
    "\n",
    "#make predictions using the test data\n",
    "target_predicted_SVC3 = svc_lin3.predict(X_test)"
   ]
  },
  {
   "cell_type": "code",
   "execution_count": 87,
   "metadata": {},
   "outputs": [
    {
     "name": "stdout",
     "output_type": "stream",
     "text": [
      "SVC Accuracy Score 0.8055555555555556\n",
      "SVC Recall Score 0.9583333333333334\n",
      "SVC ROC AUC Score 0.8701923076923077\n",
      "              precision    recall  f1-score   support\n",
      "\n",
      "           0       0.99      0.78      0.87       156\n",
      "           1       0.40      0.96      0.57        24\n",
      "\n",
      "    accuracy                           0.81       180\n",
      "   macro avg       0.70      0.87      0.72       180\n",
      "weighted avg       0.91      0.81      0.83       180\n",
      "\n"
     ]
    }
   ],
   "source": [
    "#create a classification report\n",
    "print(\"SVC Accuracy Score\", accuracy_score(y_test, target_predicted_SVC3))\n",
    "print(\"SVC Recall Score\", recall_score(y_test, target_predicted_SVC3))\n",
    "print(\"SVC ROC AUC Score\", roc_auc_score(y_test, target_predicted_SVC3))\n",
    "print(classification_report(y_test, target_predicted_SVC3))"
   ]
  },
  {
   "cell_type": "code",
   "execution_count": 88,
   "metadata": {},
   "outputs": [
    {
     "name": "stdout",
     "output_type": "stream",
     "text": [
      "Cross Validation Score for each K [0.76190476 0.80952381 0.92857143 0.85714286 0.73809524 0.83333333\n",
      " 0.88095238 0.76190476 0.80487805 0.90243902]\n"
     ]
    },
    {
     "data": {
      "text/plain": [
       "0.8278745644599302"
      ]
     },
     "execution_count": 88,
     "metadata": {},
     "output_type": "execute_result"
    }
   ],
   "source": [
    "#use 10-fold cross validation to check for overfitting\n",
    "scores = cross_val_score(svc_lin3, X_train, y_train, cv = 10)\n",
    "print(\"Cross Validation Score for each K\",scores)\n",
    "scores.mean()"
   ]
  },
  {
   "cell_type": "code",
   "execution_count": 89,
   "metadata": {},
   "outputs": [
    {
     "data": {
      "image/png": "[encoded data removed]",
      "text/plain": [
       "<Figure size 360x360 with 1 Axes>"
      ]
     },
     "metadata": {
      "needs_background": "light"
     },
     "output_type": "display_data"
    }
   ],
   "source": [
    "#build a confusion matrix\n",
    "cm = confusion_matrix(y_test, target_predicted_SVC3)\n",
    "fig, ax = plt.subplots(figsize = (5, 5))\n",
    "ax.matshow(cm, cmap = plt.cm.Purples, alpha = 0.5)\n",
    "for i in range(cm.shape[0]) :\n",
    "    for j in range(cm.shape[1]) :\n",
    "        ax.text(x = j, y = i, s = cm[i, j], va = 'center', ha = 'center')\n",
    "plt.xlabel('Predicted Label')\n",
    "plt.ylabel('True Label')\n",
    "plt.show()"
   ]
  },
  {
   "cell_type": "markdown",
   "metadata": {},
   "source": [
    "##### ROC Curve Visualization"
   ]
  },
  {
   "cell_type": "code",
   "execution_count": 90,
   "metadata": {},
   "outputs": [
    {
     "data": {
      "image/png": "[encoded data removed]",
      "text/plain": [
       "<Figure size 432x288 with 1 Axes>"
      ]
     },
     "metadata": {
      "needs_background": "light"
     },
     "output_type": "display_data"
    }
   ],
   "source": [
    "# generate a no skill prediction (majority class)\n",
    "ns_probs = [0 for _ in range(len(y_test))]\n",
    "# predict probabilities\n",
    "lr_probs = svc_lin3.predict_proba(X_test)\n",
    "# keep probabilities for the positive outcome only\n",
    "lr_probs = lr_probs[:, 1]\n",
    "# calculate scores\n",
    "ns_auc = roc_auc_score(y_test, ns_probs)\n",
    "lr_auc = roc_auc_score(y_test, lr_probs)\n",
    "# calculate roc curves\n",
    "ns_fpr, ns_tpr, _ = roc_curve(y_test, ns_probs)\n",
    "lr_fpr, lr_tpr, _ = roc_curve(y_test, lr_probs)\n",
    "# plot the roc curve for the model\n",
    "plt.plot(ns_fpr, ns_tpr, linestyle = '--', label = 'No Skill')\n",
    "plt.plot(lr_fpr, lr_tpr, marker = '', label = 'Linear SVM')\n",
    "# axis labels\n",
    "plt.xlabel('False Positive Rate')\n",
    "plt.ylabel('True Positive Rate')\n",
    "# show the legend\n",
    "plt.legend()\n",
    "# show the plot\n",
    "plt.show()"
   ]
  },
  {
   "cell_type": "markdown",
   "metadata": {},
   "source": [
    "##### Feature Importance"
   ]
  },
  {
   "cell_type": "code",
   "execution_count": 91,
   "metadata": {},
   "outputs": [
    {
     "data": {
      "text/html": [
       "<div>\n",
       "<style scoped>\n",
       "    .dataframe tbody tr th:only-of-type {\n",
       "        vertical-align: middle;\n",
       "    }\n",
       "\n",
       "    .dataframe tbody tr th {\n",
       "        vertical-align: top;\n",
       "    }\n",
       "\n",
       "    .dataframe thead th {\n",
       "        text-align: right;\n",
       "    }\n",
       "</style>\n",
       "<table border=\"1\" class=\"dataframe\">\n",
       "  <thead>\n",
       "    <tr style=\"text-align: right;\">\n",
       "      <th></th>\n",
       "      <th>0</th>\n",
       "    </tr>\n",
       "  </thead>\n",
       "  <tbody>\n",
       "    <tr>\n",
       "      <th>Monocytes</th>\n",
       "      <td>0.267301</td>\n",
       "    </tr>\n",
       "    <tr>\n",
       "      <th>Mean corpuscular volume (MCV)</th>\n",
       "      <td>0.210652</td>\n",
       "    </tr>\n",
       "    <tr>\n",
       "      <th>Patient age quantile</th>\n",
       "      <td>0.026846</td>\n",
       "    </tr>\n",
       "    <tr>\n",
       "      <th>Red blood Cells</th>\n",
       "      <td>0.022773</td>\n",
       "    </tr>\n",
       "  </tbody>\n",
       "</table>\n",
       "</div>"
      ],
      "text/plain": [
       "                                      0\n",
       "Monocytes                      0.267301\n",
       "Mean corpuscular volume (MCV)  0.210652\n",
       "Patient age quantile           0.026846\n",
       "Red blood Cells                0.022773"
      ]
     },
     "execution_count": 91,
     "metadata": {},
     "output_type": "execute_result"
    }
   ],
   "source": [
    "#create a dataframe of weight coefficients\n",
    "features = df.iloc[:,1:]\n",
    "feature_importance = pd.DataFrame(svc_lin3.coef_, columns = features.columns)\n",
    "feature_importance = feature_importance.T\n",
    "feature_importance.nlargest(n = 4, columns = 0)"
   ]
  },
  {
   "cell_type": "code",
   "execution_count": 92,
   "metadata": {},
   "outputs": [
    {
     "data": {
      "text/html": [
       "<div>\n",
       "<style scoped>\n",
       "    .dataframe tbody tr th:only-of-type {\n",
       "        vertical-align: middle;\n",
       "    }\n",
       "\n",
       "    .dataframe tbody tr th {\n",
       "        vertical-align: top;\n",
       "    }\n",
       "\n",
       "    .dataframe thead th {\n",
       "        text-align: right;\n",
       "    }\n",
       "</style>\n",
       "<table border=\"1\" class=\"dataframe\">\n",
       "  <thead>\n",
       "    <tr style=\"text-align: right;\">\n",
       "      <th></th>\n",
       "      <th>0</th>\n",
       "    </tr>\n",
       "  </thead>\n",
       "  <tbody>\n",
       "    <tr>\n",
       "      <th>other infection</th>\n",
       "      <td>-2.288962</td>\n",
       "    </tr>\n",
       "    <tr>\n",
       "      <th>Leukocytes</th>\n",
       "      <td>-0.882219</td>\n",
       "    </tr>\n",
       "    <tr>\n",
       "      <th>Platelets</th>\n",
       "      <td>-0.597730</td>\n",
       "    </tr>\n",
       "    <tr>\n",
       "      <th>Eosinophils</th>\n",
       "      <td>-0.581740</td>\n",
       "    </tr>\n",
       "  </tbody>\n",
       "</table>\n",
       "</div>"
      ],
      "text/plain": [
       "                        0\n",
       "other infection -2.288962\n",
       "Leukocytes      -0.882219\n",
       "Platelets       -0.597730\n",
       "Eosinophils     -0.581740"
      ]
     },
     "execution_count": 92,
     "metadata": {},
     "output_type": "execute_result"
    }
   ],
   "source": [
    "feature_importance.nsmallest(n = 4, columns = 0)"
   ]
  },
  {
   "cell_type": "markdown",
   "metadata": {},
   "source": [
    "### SVC (RBF) Model 1"
   ]
  },
  {
   "cell_type": "code",
   "execution_count": 93,
   "metadata": {},
   "outputs": [
    {
     "name": "stdout",
     "output_type": "stream",
     "text": [
      "SVC(C=1.0, break_ties=False, cache_size=200, class_weight=None, coef0=0.0,\n",
      "    decision_function_shape='ovr', degree=3, gamma='scale', kernel='rbf',\n",
      "    max_iter=-1, probability=False, random_state=8, shrinking=True, tol=0.001,\n",
      "    verbose=False)\n"
     ]
    }
   ],
   "source": [
    "#call the default rbf model\n",
    "svc_rbf = SVC(kernel = 'rbf', random_state = 8)\n",
    "#check the default parameter settings\n",
    "print(svc_rbf)\n",
    "\n",
    "#fit the classifier to the training data\n",
    "svc_rbf.fit(X_train, y_train)\n",
    "\n",
    "#make predictions using test data\n",
    "target_predicted_SVC4 = svc_rbf.predict(X_test)"
   ]
  },
  {
   "cell_type": "code",
   "execution_count": 94,
   "metadata": {},
   "outputs": [
    {
     "name": "stdout",
     "output_type": "stream",
     "text": [
      "SVC Accuracy Score 0.8666666666666667\n",
      "SVC Recall Score 0.0\n",
      "SVC ROC AUC Score 0.5\n",
      "              precision    recall  f1-score   support\n",
      "\n",
      "           0       0.87      1.00      0.93       156\n",
      "           1       0.00      0.00      0.00        24\n",
      "\n",
      "    accuracy                           0.87       180\n",
      "   macro avg       0.43      0.50      0.46       180\n",
      "weighted avg       0.75      0.87      0.80       180\n",
      "\n"
     ]
    },
    {
     "name": "stderr",
     "output_type": "stream",
     "text": [
      "/opt/conda/lib/python3.6/site-packages/sklearn/metrics/_classification.py:1272: UndefinedMetricWarning: Precision and F-score are ill-defined and being set to 0.0 in labels with no predicted samples. Use `zero_division` parameter to control this behavior.\n",
      "  _warn_prf(average, modifier, msg_start, len(result))\n"
     ]
    }
   ],
   "source": [
    "#create a classification report\n",
    "print(\"SVC Accuracy Score\", accuracy_score(y_test, target_predicted_SVC4))\n",
    "print(\"SVC Recall Score\", recall_score(y_test, target_predicted_SVC4))\n",
    "print(\"SVC ROC AUC Score\", roc_auc_score(y_test, target_predicted_SVC4))\n",
    "print(classification_report(y_test, target_predicted_SVC4))"
   ]
  },
  {
   "cell_type": "code",
   "execution_count": 95,
   "metadata": {},
   "outputs": [
    {
     "name": "stdout",
     "output_type": "stream",
     "text": [
      "Cross Validation Score for each K [0.88095238 0.85714286 0.85714286 0.85714286 0.85714286 0.85714286\n",
      " 0.85714286 0.85714286 0.87804878 0.87804878]\n"
     ]
    },
    {
     "data": {
      "text/plain": [
       "0.8637049941927991"
      ]
     },
     "execution_count": 95,
     "metadata": {},
     "output_type": "execute_result"
    }
   ],
   "source": [
    "#use 10-fold cross validation to check for overfitting\n",
    "scores = cross_val_score(svc_rbf, X_train, y_train, cv = 10)\n",
    "print(\"Cross Validation Score for each K\",scores)\n",
    "scores.mean()"
   ]
  },
  {
   "cell_type": "code",
   "execution_count": 96,
   "metadata": {},
   "outputs": [
    {
     "data": {
      "image/png": "[encoded data removed]",
      "text/plain": [
       "<Figure size 360x360 with 1 Axes>"
      ]
     },
     "metadata": {
      "needs_background": "light"
     },
     "output_type": "display_data"
    }
   ],
   "source": [
    "#build a confusion matrix\n",
    "cm = confusion_matrix(y_test, target_predicted_SVC4)\n",
    "fig, ax = plt.subplots(figsize = (5, 5))\n",
    "ax.matshow(cm, cmap = plt.cm.Purples, alpha = 0.5)\n",
    "for i in range(cm.shape[0]) :\n",
    "    for j in range(cm.shape[1]) :\n",
    "        ax.text(x = j, y = i, s = cm[i, j], va = 'center', ha = 'center')\n",
    "plt.xlabel('Predicted Label')\n",
    "plt.ylabel('True Label')\n",
    "plt.show()"
   ]
  },
  {
   "cell_type": "markdown",
   "metadata": {},
   "source": [
    "### SVC (RBF) Model 2\n",
    "To try and develop a better model, a grid search was execute to optimize a few of the hyperparameters using roc_auc scoring."
   ]
  },
  {
   "cell_type": "code",
   "execution_count": 97,
   "metadata": {},
   "outputs": [
    {
     "name": "stdout",
     "output_type": "stream",
     "text": [
      "Best {'C': 5, 'class_weight': 'balanced', 'gamma': 'auto'}\n"
     ]
    }
   ],
   "source": [
    "#create the grid\n",
    "param_grid5 = {'C' : [0.5, 1, 2, 3, 4, 5], 'class_weight' : ['None', 'balanced'], 'gamma' : ['scale', 'auto', 'float']}\n",
    "\n",
    "#run the grid search\n",
    "grid_search = GridSearchCV(svc_rbf, param_grid = param_grid5, scoring = 'roc_auc', n_jobs = -1, cv = 10)\n",
    "grid_search.fit(X_train, y_train)\n",
    "print(\"Best\", grid_search.best_params_)"
   ]
  },
  {
   "cell_type": "code",
   "execution_count": 98,
   "metadata": {},
   "outputs": [
    {
     "name": "stdout",
     "output_type": "stream",
     "text": [
      "SVC(C=5, break_ties=False, cache_size=200, class_weight='balanced', coef0=0.0,\n",
      "    decision_function_shape='ovr', degree=3, gamma='auto', kernel='rbf',\n",
      "    max_iter=-1, probability=False, random_state=8, shrinking=True, tol=0.001,\n",
      "    verbose=False)\n"
     ]
    }
   ],
   "source": [
    "#call the new model\n",
    "svc_rbf2 = SVC(kernel = 'rbf', C = 5, class_weight = 'balanced', gamma = 'auto', random_state = 8)\n",
    "#check the parameter settings\n",
    "print(svc_rbf2)\n",
    "\n",
    "#fit the classifier to the training data\n",
    "svc_rbf2.fit(X_train, y_train)\n",
    "\n",
    "#make predictions using the test data\n",
    "target_predicted_SVC5 = svc_rbf2.predict(X_test)"
   ]
  },
  {
   "cell_type": "code",
   "execution_count": 99,
   "metadata": {},
   "outputs": [
    {
     "name": "stdout",
     "output_type": "stream",
     "text": [
      "SVC Accuracy Score 0.8666666666666667\n",
      "SVC Recall Score 0.3333333333333333\n",
      "SVC ROC AUC Score 0.641025641025641\n",
      "              precision    recall  f1-score   support\n",
      "\n",
      "           0       0.90      0.95      0.92       156\n",
      "           1       0.50      0.33      0.40        24\n",
      "\n",
      "    accuracy                           0.87       180\n",
      "   macro avg       0.70      0.64      0.66       180\n",
      "weighted avg       0.85      0.87      0.85       180\n",
      "\n"
     ]
    }
   ],
   "source": [
    "#create a classification report\n",
    "print(\"SVC Accuracy Score\", accuracy_score(y_test, target_predicted_SVC5))\n",
    "print(\"SVC Recall Score\", recall_score(y_test, target_predicted_SVC5))\n",
    "print(\"SVC ROC AUC Score\", roc_auc_score(y_test, target_predicted_SVC5))\n",
    "print(classification_report(y_test, target_predicted_SVC5))"
   ]
  },
  {
   "cell_type": "code",
   "execution_count": 100,
   "metadata": {},
   "outputs": [
    {
     "name": "stdout",
     "output_type": "stream",
     "text": [
      "Cross Validation Score for each K [0.88095238 0.9047619  0.88095238 0.88095238 0.80952381 0.9047619\n",
      " 0.92857143 0.88095238 0.90243902 0.95121951]\n"
     ]
    },
    {
     "data": {
      "text/plain": [
       "0.8925087108013937"
      ]
     },
     "execution_count": 100,
     "metadata": {},
     "output_type": "execute_result"
    }
   ],
   "source": [
    "#use 10-fold cross validation to check for overfitting\n",
    "scores = cross_val_score(svc_rbf2, X_train, y_train, cv = 10)\n",
    "print(\"Cross Validation Score for each K\",scores)\n",
    "scores.mean()"
   ]
  },
  {
   "cell_type": "code",
   "execution_count": 101,
   "metadata": {},
   "outputs": [
    {
     "data": {
      "image/png": "[encoded data removed]",
      "text/plain": [
       "<Figure size 360x360 with 1 Axes>"
      ]
     },
     "metadata": {
      "needs_background": "light"
     },
     "output_type": "display_data"
    }
   ],
   "source": [
    "#build a confusion matrix\n",
    "cm = confusion_matrix(y_test, target_predicted_SVC5)\n",
    "fig, ax = plt.subplots(figsize = (5, 5))\n",
    "ax.matshow(cm, cmap = plt.cm.Purples, alpha = 0.5)\n",
    "for i in range(cm.shape[0]) :\n",
    "    for j in range(cm.shape[1]) :\n",
    "        ax.text(x = j, y = i, s = cm[i, j], va = 'center', ha = 'center')\n",
    "plt.xlabel('Predicted Label')\n",
    "plt.ylabel('True Label')\n",
    "plt.show()"
   ]
  },
  {
   "cell_type": "markdown",
   "metadata": {},
   "source": [
    "### SVC (RBF) Model 3\n",
    "Since the \"C\" argument chosen in the last grid search was the largest value, another grid search was performed with larger values and smaller increments using roc_auc scoring."
   ]
  },
  {
   "cell_type": "code",
   "execution_count": 102,
   "metadata": {},
   "outputs": [
    {
     "name": "stdout",
     "output_type": "stream",
     "text": [
      "Best {'C': 10.1, 'class_weight': 'balanced', 'gamma': 'auto'}\n"
     ]
    }
   ],
   "source": [
    "#create the grid\n",
    "param_grid6 = {'C' : [5, 7, 9, 9.5, 9.6, 9.7, 9.8, 9.9, 10, 10.1, 10.2, 10.3], 'class_weight' : ['None', 'balanced'], 'gamma' : ['scale', 'auto', 'float']}\n",
    "\n",
    "#run the grid search\n",
    "grid_search = GridSearchCV(svc_rbf2, param_grid = param_grid6, scoring = 'roc_auc', n_jobs = -1, cv = 10)\n",
    "grid_search.fit(X_train, y_train)\n",
    "print(\"Best\", grid_search.best_params_)"
   ]
  },
  {
   "cell_type": "code",
   "execution_count": 103,
   "metadata": {},
   "outputs": [
    {
     "name": "stdout",
     "output_type": "stream",
     "text": [
      "SVC(C=10.1, break_ties=False, cache_size=200, class_weight='balanced',\n",
      "    coef0=0.0, decision_function_shape='ovr', degree=3, gamma='auto',\n",
      "    kernel='rbf', max_iter=-1, probability=False, random_state=8,\n",
      "    shrinking=True, tol=0.001, verbose=False)\n"
     ]
    }
   ],
   "source": [
    "#call the new model\n",
    "svc_rbf3 = SVC(kernel = 'rbf', C = 10.1, class_weight = 'balanced', gamma = 'auto', random_state = 8)\n",
    "#check the parameter settings\n",
    "print(svc_rbf3)\n",
    "\n",
    "#fit the classifier to the training data\n",
    "svc_rbf3.fit(X_train, y_train)\n",
    "\n",
    "#make predictions using the test data\n",
    "target_predicted_SVC6 = svc_rbf3.predict(X_test)"
   ]
  },
  {
   "cell_type": "code",
   "execution_count": 104,
   "metadata": {},
   "outputs": [
    {
     "name": "stdout",
     "output_type": "stream",
     "text": [
      "SVC Accuracy Score 0.8611111111111112\n",
      "SVC Recall Score 0.3333333333333333\n",
      "SVC ROC AUC Score 0.6378205128205128\n",
      "              precision    recall  f1-score   support\n",
      "\n",
      "           0       0.90      0.94      0.92       156\n",
      "           1       0.47      0.33      0.39        24\n",
      "\n",
      "    accuracy                           0.86       180\n",
      "   macro avg       0.69      0.64      0.66       180\n",
      "weighted avg       0.84      0.86      0.85       180\n",
      "\n"
     ]
    }
   ],
   "source": [
    "#create a classification report\n",
    "print(\"SVC Accuracy Score\", accuracy_score(y_test, target_predicted_SVC6))\n",
    "print(\"SVC Recall Score\", recall_score(y_test, target_predicted_SVC6))\n",
    "print(\"SVC ROC AUC Score\", roc_auc_score(y_test, target_predicted_SVC6))\n",
    "print(classification_report(y_test, target_predicted_SVC6))"
   ]
  },
  {
   "cell_type": "code",
   "execution_count": 105,
   "metadata": {},
   "outputs": [
    {
     "name": "stdout",
     "output_type": "stream",
     "text": [
      "Cross Validation Score for each K [0.9047619  0.92857143 0.92857143 0.9047619  0.80952381 0.92857143\n",
      " 0.92857143 0.88095238 0.92682927 0.95121951]\n"
     ]
    },
    {
     "data": {
      "text/plain": [
       "0.909233449477352"
      ]
     },
     "execution_count": 105,
     "metadata": {},
     "output_type": "execute_result"
    }
   ],
   "source": [
    "#use 10-fold cross validation to check for overfitting\n",
    "scores = cross_val_score(svc_rbf3, X_train, y_train, cv = 10)\n",
    "print(\"Cross Validation Score for each K\",scores)\n",
    "scores.mean()"
   ]
  },
  {
   "cell_type": "code",
   "execution_count": 106,
   "metadata": {},
   "outputs": [
    {
     "data": {
      "image/png": "[encoded data removed]",
      "text/plain": [
       "<Figure size 360x360 with 1 Axes>"
      ]
     },
     "metadata": {
      "needs_background": "light"
     },
     "output_type": "display_data"
    }
   ],
   "source": [
    "#build a confusion matrix\n",
    "cm = confusion_matrix(y_test, target_predicted_SVC6)\n",
    "fig, ax = plt.subplots(figsize = (5, 5))\n",
    "ax.matshow(cm, cmap = plt.cm.Purples, alpha = 0.5)\n",
    "for i in range(cm.shape[0]) :\n",
    "    for j in range(cm.shape[1]) :\n",
    "        ax.text(x = j, y = i, s = cm[i, j], va = 'center', ha = 'center')\n",
    "plt.xlabel('Predicted Label')\n",
    "plt.ylabel('True Label')\n",
    "plt.show()"
   ]
  },
  {
   "cell_type": "markdown",
   "metadata": {},
   "source": [
    "### SVC (Poly) Model 1"
   ]
  },
  {
   "cell_type": "code",
   "execution_count": 107,
   "metadata": {},
   "outputs": [
    {
     "name": "stdout",
     "output_type": "stream",
     "text": [
      "SVC(C=1.0, break_ties=False, cache_size=200, class_weight=None, coef0=0.0,\n",
      "    decision_function_shape='ovr', degree=3, gamma='scale', kernel='poly',\n",
      "    max_iter=-1, probability=False, random_state=8, shrinking=True, tol=0.001,\n",
      "    verbose=False)\n"
     ]
    }
   ],
   "source": [
    "#call the new model\n",
    "svc_poly = SVC(kernel = 'poly', random_state = 8)\n",
    "#check the parameter settings\n",
    "print(svc_poly)\n",
    "\n",
    "#fit the classifier to the training data\n",
    "svc_poly.fit(X_train, y_train)\n",
    "\n",
    "#make predictions using the test data\n",
    "target_predicted_SVC7 = svc_poly.predict(X_test)"
   ]
  },
  {
   "cell_type": "code",
   "execution_count": 108,
   "metadata": {},
   "outputs": [
    {
     "name": "stdout",
     "output_type": "stream",
     "text": [
      "SVC Accuracy Score 0.8833333333333333\n",
      "SVC Recall Score 0.16666666666666666\n",
      "SVC ROC AUC Score 0.5801282051282052\n",
      "              precision    recall  f1-score   support\n",
      "\n",
      "           0       0.89      0.99      0.94       156\n",
      "           1       0.80      0.17      0.28        24\n",
      "\n",
      "    accuracy                           0.88       180\n",
      "   macro avg       0.84      0.58      0.61       180\n",
      "weighted avg       0.87      0.88      0.85       180\n",
      "\n"
     ]
    }
   ],
   "source": [
    "#create a classification report\n",
    "print(\"SVC Accuracy Score\", accuracy_score(y_test, target_predicted_SVC7))\n",
    "print(\"SVC Recall Score\", recall_score(y_test, target_predicted_SVC7))\n",
    "print(\"SVC ROC AUC Score\", roc_auc_score(y_test, target_predicted_SVC7))\n",
    "print(classification_report(y_test, target_predicted_SVC7))"
   ]
  },
  {
   "cell_type": "code",
   "execution_count": 109,
   "metadata": {},
   "outputs": [
    {
     "name": "stdout",
     "output_type": "stream",
     "text": [
      "Cross Validation Score for each K [0.88095238 0.85714286 0.85714286 0.85714286 0.9047619  0.88095238\n",
      " 0.85714286 0.80952381 0.90243902 0.87804878]\n"
     ]
    },
    {
     "data": {
      "text/plain": [
       "0.8685249709639955"
      ]
     },
     "execution_count": 109,
     "metadata": {},
     "output_type": "execute_result"
    }
   ],
   "source": [
    "#use 10-fold cross validation to check for overfitting\n",
    "scores = cross_val_score(svc_poly, X_train, y_train, cv = 10)\n",
    "print(\"Cross Validation Score for each K\",scores)\n",
    "scores.mean()"
   ]
  },
  {
   "cell_type": "code",
   "execution_count": 110,
   "metadata": {},
   "outputs": [
    {
     "data": {
      "image/png": "[encoded data removed]",
      "text/plain": [
       "<Figure size 360x360 with 1 Axes>"
      ]
     },
     "metadata": {
      "needs_background": "light"
     },
     "output_type": "display_data"
    }
   ],
   "source": [
    "#build a confusion matrix\n",
    "cm = confusion_matrix(y_test, target_predicted_SVC7)\n",
    "fig, ax = plt.subplots(figsize = (5, 5))\n",
    "ax.matshow(cm, cmap = plt.cm.Purples, alpha = 0.5)\n",
    "for i in range(cm.shape[0]) :\n",
    "    for j in range(cm.shape[1]) :\n",
    "        ax.text(x = j, y = i, s = cm[i, j], va = 'center', ha = 'center')\n",
    "plt.xlabel('Predicted Label')\n",
    "plt.ylabel('True Label')\n",
    "plt.show()"
   ]
  },
  {
   "cell_type": "markdown",
   "metadata": {},
   "source": [
    "### SVC (Poly) Model 2\n",
    "To try and develop a better model, a grid search was execute to optimize a few of the hyperparameters using roc_auc scoring."
   ]
  },
  {
   "cell_type": "code",
   "execution_count": 111,
   "metadata": {},
   "outputs": [
    {
     "name": "stdout",
     "output_type": "stream",
     "text": [
      "Best {'C': 0.5, 'class_weight': 'balanced', 'gamma': 'auto'}\n"
     ]
    }
   ],
   "source": [
    "#create the grid\n",
    "param_grid8 = {'C' : [0.5, 1, 2, 3, 4, 5], 'class_weight' : ['None', 'balanced'], 'gamma' : ['scale', 'auto', 'float']}\n",
    "\n",
    "#run the grid search\n",
    "grid_search = GridSearchCV(svc_poly, param_grid = param_grid8, scoring = 'roc_auc', n_jobs = -1, cv = 10)\n",
    "grid_search.fit(X_train, y_train)\n",
    "print(\"Best\", grid_search.best_params_)"
   ]
  },
  {
   "cell_type": "code",
   "execution_count": 112,
   "metadata": {},
   "outputs": [
    {
     "name": "stdout",
     "output_type": "stream",
     "text": [
      "SVC(C=0.5, break_ties=False, cache_size=200, class_weight='balanced', coef0=0.0,\n",
      "    decision_function_shape='ovr', degree=3, gamma='auto', kernel='poly',\n",
      "    max_iter=-1, probability=False, random_state=8, shrinking=True, tol=0.001,\n",
      "    verbose=False)\n"
     ]
    }
   ],
   "source": [
    "#call the new model\n",
    "svc_poly2 = SVC(kernel = 'poly', C = 0.5, class_weight = 'balanced', gamma = 'auto', random_state = 8)\n",
    "#check the parameter settings\n",
    "print(svc_poly2)\n",
    "\n",
    "#fit the classifier to the training data\n",
    "svc_poly2.fit(X_train, y_train)\n",
    "\n",
    "#make predictions using the test data\n",
    "target_predicted_SVC8 = svc_poly2.predict(X_test)"
   ]
  },
  {
   "cell_type": "code",
   "execution_count": 113,
   "metadata": {},
   "outputs": [
    {
     "name": "stdout",
     "output_type": "stream",
     "text": [
      "SVC Accuracy Score 0.8722222222222222\n",
      "SVC Recall Score 0.5\n",
      "SVC ROC AUC Score 0.7147435897435898\n",
      "              precision    recall  f1-score   support\n",
      "\n",
      "           0       0.92      0.93      0.93       156\n",
      "           1       0.52      0.50      0.51        24\n",
      "\n",
      "    accuracy                           0.87       180\n",
      "   macro avg       0.72      0.71      0.72       180\n",
      "weighted avg       0.87      0.87      0.87       180\n",
      "\n"
     ]
    }
   ],
   "source": [
    "#create a classification report\n",
    "print(\"SVC Accuracy Score\", accuracy_score(y_test, target_predicted_SVC8))\n",
    "print(\"SVC Recall Score\", recall_score(y_test, target_predicted_SVC8))\n",
    "print(\"SVC ROC AUC Score\", roc_auc_score(y_test, target_predicted_SVC8))\n",
    "print(classification_report(y_test, target_predicted_SVC8))"
   ]
  },
  {
   "cell_type": "code",
   "execution_count": 114,
   "metadata": {},
   "outputs": [
    {
     "name": "stdout",
     "output_type": "stream",
     "text": [
      "Cross Validation Score for each K [0.92857143 0.88095238 0.92857143 0.92857143 0.88095238 0.88095238\n",
      " 0.88095238 0.88095238 0.82926829 0.87804878]\n"
     ]
    },
    {
     "data": {
      "text/plain": [
       "0.8897793263646923"
      ]
     },
     "execution_count": 114,
     "metadata": {},
     "output_type": "execute_result"
    }
   ],
   "source": [
    "#use 10-fold cross validation to check for overfitting\n",
    "scores = cross_val_score(svc_poly2, X_train, y_train, cv = 10)\n",
    "print(\"Cross Validation Score for each K\",scores)\n",
    "scores.mean()"
   ]
  },
  {
   "cell_type": "code",
   "execution_count": 115,
   "metadata": {},
   "outputs": [
    {
     "data": {
      "image/png": "[encoded data removed]",
      "text/plain": [
       "<Figure size 360x360 with 1 Axes>"
      ]
     },
     "metadata": {
      "needs_background": "light"
     },
     "output_type": "display_data"
    }
   ],
   "source": [
    "#build a confusion matrix\n",
    "cm = confusion_matrix(y_test, target_predicted_SVC8)\n",
    "fig, ax = plt.subplots(figsize = (5, 5))\n",
    "ax.matshow(cm, cmap = plt.cm.Purples, alpha = 0.5)\n",
    "for i in range(cm.shape[0]) :\n",
    "    for j in range(cm.shape[1]) :\n",
    "        ax.text(x = j, y = i, s = cm[i, j], va = 'center', ha = 'center')\n",
    "plt.xlabel('Predicted Label')\n",
    "plt.ylabel('True Label')\n",
    "plt.show()"
   ]
  },
  {
   "cell_type": "markdown",
   "metadata": {},
   "source": [
    "### SVC (Poly) Model 3\n",
    "In the previous grid search, the smallest value of C was chosen.  To further improve the model, smaller values and increments of C were checked using roc_auc scoring."
   ]
  },
  {
   "cell_type": "code",
   "execution_count": 116,
   "metadata": {},
   "outputs": [
    {
     "name": "stdout",
     "output_type": "stream",
     "text": [
      "Best {'C': 0.7, 'class_weight': 'balanced'}\n"
     ]
    }
   ],
   "source": [
    "#create the grid\n",
    "param_grid9 = {'C' : [0.1, 0.2, 0.3, 0.4, 0.5, 0.6, 0.7, 0.8, 0.9, 1.0], 'class_weight' : ['None', 'balanced']}\n",
    "\n",
    "#run the grid search\n",
    "grid_search = GridSearchCV(svc_poly2, param_grid = param_grid9, scoring = 'roc_auc', n_jobs = -1, cv = 10)\n",
    "grid_search.fit(X_train, y_train)\n",
    "print(\"Best\", grid_search.best_params_)"
   ]
  },
  {
   "cell_type": "code",
   "execution_count": 117,
   "metadata": {},
   "outputs": [
    {
     "name": "stdout",
     "output_type": "stream",
     "text": [
      "SVC(C=0.7, break_ties=False, cache_size=200, class_weight='balanced', coef0=0.0,\n",
      "    decision_function_shape='ovr', degree=3, gamma='auto', kernel='poly',\n",
      "    max_iter=-1, probability=False, random_state=8, shrinking=True, tol=0.001,\n",
      "    verbose=False)\n"
     ]
    }
   ],
   "source": [
    "#call the new model\n",
    "svc_poly3 = SVC(kernel = 'poly', C = 0.7, class_weight = 'balanced', gamma = 'auto', random_state = 8)\n",
    "#check the parameter settings\n",
    "print(svc_poly3)\n",
    "\n",
    "#fit the classifier to the training data\n",
    "svc_poly3.fit(X_train, y_train)\n",
    "\n",
    "#make predictions using the test data\n",
    "target_predicted_SVC9 = svc_poly3.predict(X_test)"
   ]
  },
  {
   "cell_type": "code",
   "execution_count": 118,
   "metadata": {},
   "outputs": [
    {
     "name": "stdout",
     "output_type": "stream",
     "text": [
      "SVC Accuracy Score 0.8666666666666667\n",
      "SVC Recall Score 0.5\n",
      "SVC ROC AUC Score 0.7115384615384616\n",
      "              precision    recall  f1-score   support\n",
      "\n",
      "           0       0.92      0.92      0.92       156\n",
      "           1       0.50      0.50      0.50        24\n",
      "\n",
      "    accuracy                           0.87       180\n",
      "   macro avg       0.71      0.71      0.71       180\n",
      "weighted avg       0.87      0.87      0.87       180\n",
      "\n"
     ]
    }
   ],
   "source": [
    "#create a classification report\n",
    "print(\"SVC Accuracy Score\", accuracy_score(y_test, target_predicted_SVC9))\n",
    "print(\"SVC Recall Score\", recall_score(y_test, target_predicted_SVC9))\n",
    "print(\"SVC ROC AUC Score\", roc_auc_score(y_test, target_predicted_SVC9))\n",
    "print(classification_report(y_test, target_predicted_SVC9))"
   ]
  },
  {
   "cell_type": "code",
   "execution_count": 119,
   "metadata": {},
   "outputs": [
    {
     "name": "stdout",
     "output_type": "stream",
     "text": [
      "Cross Validation Score for each K [0.92857143 0.88095238 0.92857143 0.95238095 0.88095238 0.85714286\n",
      " 0.85714286 0.85714286 0.80487805 0.87804878]\n"
     ]
    },
    {
     "data": {
      "text/plain": [
       "0.8825783972125436"
      ]
     },
     "execution_count": 119,
     "metadata": {},
     "output_type": "execute_result"
    }
   ],
   "source": [
    "#use 10-fold cross validation to check for overfitting\n",
    "scores = cross_val_score(svc_poly3, X_train, y_train, cv = 10)\n",
    "print(\"Cross Validation Score for each K\",scores)\n",
    "scores.mean()"
   ]
  },
  {
   "cell_type": "code",
   "execution_count": 120,
   "metadata": {},
   "outputs": [
    {
     "data": {
      "image/png": "[encoded data removed]",
      "text/plain": [
       "<Figure size 360x360 with 1 Axes>"
      ]
     },
     "metadata": {
      "needs_background": "light"
     },
     "output_type": "display_data"
    }
   ],
   "source": [
    "#build a confusion matrix\n",
    "cm = confusion_matrix(y_test, target_predicted_SVC9)\n",
    "fig, ax = plt.subplots(figsize = (5, 5))\n",
    "ax.matshow(cm, cmap = plt.cm.Purples, alpha = 0.5)\n",
    "for i in range(cm.shape[0]) :\n",
    "    for j in range(cm.shape[1]) :\n",
    "        ax.text(x = j, y = i, s = cm[i, j], va = 'center', ha = 'center')\n",
    "plt.xlabel('Predicted Label')\n",
    "plt.ylabel('True Label')\n",
    "plt.show()"
   ]
  },
  {
   "cell_type": "markdown",
   "metadata": {},
   "source": [
    "# Artificial Neural Network Classifiers\n",
    "### ANN Model 1"
   ]
  },
  {
   "cell_type": "code",
   "execution_count": 121,
   "metadata": {},
   "outputs": [
    {
     "name": "stdout",
     "output_type": "stream",
     "text": [
      "MLPClassifier(activation='relu', alpha=0.0001, batch_size='auto', beta_1=0.9,\n",
      "              beta_2=0.999, early_stopping=False, epsilon=1e-08,\n",
      "              hidden_layer_sizes=(100,), learning_rate='constant',\n",
      "              learning_rate_init=0.001, max_fun=15000, max_iter=1000,\n",
      "              momentum=0.9, n_iter_no_change=10, nesterovs_momentum=True,\n",
      "              power_t=0.5, random_state=8, shuffle=True, solver='adam',\n",
      "              tol=0.0001, validation_fraction=0.1, verbose=False,\n",
      "              warm_start=False)\n"
     ]
    }
   ],
   "source": [
    "#call the default model\n",
    "ann_clf = MLPClassifier(max_iter = 1000, random_state = 8)\n",
    "#check the default parameter settings\n",
    "print(ann_clf)\n",
    "\n",
    "#fit the classifier to the training data\n",
    "ann_clf.fit(X_train, y_train)\n",
    "\n",
    "#make predictions using the test data\n",
    "target_predicted_ann = ann_clf.predict(X_test)"
   ]
  },
  {
   "cell_type": "code",
   "execution_count": 122,
   "metadata": {},
   "outputs": [
    {
     "name": "stdout",
     "output_type": "stream",
     "text": [
      "ANN Accuracy Score 0.9111111111111111\n",
      "ANN Recall Score 0.5416666666666666\n",
      "ANN ROC AUC Score 0.7548076923076923\n",
      "              precision    recall  f1-score   support\n",
      "\n",
      "           0       0.93      0.97      0.95       156\n",
      "           1       0.72      0.54      0.62        24\n",
      "\n",
      "    accuracy                           0.91       180\n",
      "   macro avg       0.83      0.75      0.78       180\n",
      "weighted avg       0.90      0.91      0.91       180\n",
      "\n"
     ]
    }
   ],
   "source": [
    "#create a classification report\n",
    "print(\"ANN Accuracy Score\", accuracy_score(y_test, target_predicted_ann))\n",
    "print(\"ANN Recall Score\", recall_score(y_test, target_predicted_ann))\n",
    "print(\"ANN ROC AUC Score\", roc_auc_score(y_test, target_predicted_ann))\n",
    "print(classification_report(y_test, target_predicted_ann))"
   ]
  },
  {
   "cell_type": "code",
   "execution_count": 123,
   "metadata": {},
   "outputs": [
    {
     "name": "stdout",
     "output_type": "stream",
     "text": [
      "Cross Validation Score for each K [0.9047619  0.85714286 0.95238095 0.95238095 0.92857143 0.95238095\n",
      " 0.92857143 0.9047619  0.82926829 0.95121951]\n"
     ]
    },
    {
     "data": {
      "text/plain": [
       "0.9161440185830431"
      ]
     },
     "execution_count": 123,
     "metadata": {},
     "output_type": "execute_result"
    }
   ],
   "source": [
    "#use 10-fold cross validation to check for overfitting\n",
    "scores = cross_val_score(ann_clf, X_train, y_train, cv = 10)\n",
    "print(\"Cross Validation Score for each K\",scores)\n",
    "scores.mean()"
   ]
  },
  {
   "cell_type": "code",
   "execution_count": 124,
   "metadata": {},
   "outputs": [
    {
     "data": {
      "image/png": "[encoded data removed]",
      "text/plain": [
       "<Figure size 360x360 with 1 Axes>"
      ]
     },
     "metadata": {
      "needs_background": "light"
     },
     "output_type": "display_data"
    }
   ],
   "source": [
    "#build a confusion matrix\n",
    "cm = confusion_matrix(y_test, target_predicted_ann)\n",
    "fig, ax = plt.subplots(figsize = (5, 5))\n",
    "ax.matshow(cm, cmap = plt.cm.Reds, alpha = 0.5)\n",
    "for i in range(cm.shape[0]) :\n",
    "    for j in range(cm.shape[1]) :\n",
    "        ax.text(x = j, y = i, s = cm[i, j], va = 'center', ha = 'center')\n",
    "plt.xlabel('Predicted Label')\n",
    "plt.ylabel('True Label')\n",
    "plt.show()"
   ]
  },
  {
   "cell_type": "markdown",
   "metadata": {},
   "source": [
    "### ANN Model 2\n",
    "To try and develop a better model, a grid search was conducted to optimize a few of the hyperparameters using roc_auc scoring."
   ]
  },
  {
   "cell_type": "code",
   "execution_count": 125,
   "metadata": {},
   "outputs": [
    {
     "name": "stdout",
     "output_type": "stream",
     "text": [
      "Best {'activation': 'tanh', 'alpha': 0.1, 'learning_rate_init': 0.01, 'solver': 'adam'}\n"
     ]
    }
   ],
   "source": [
    "#create the grid\n",
    "param_grid2 = {'activation' : ['tanh', 'relu'], 'alpha' : [0.001, 0.01, 0.1], 'learning_rate_init' : [0.0001, 0.001, 0.01, 0.1], 'solver' : ['lbfgs', 'sgd', 'adam']}\n",
    "\n",
    "#run the grid search\n",
    "grid_search = GridSearchCV(ann_clf, param_grid = param_grid2, scoring = 'roc_auc', n_jobs = -1, cv = 10)\n",
    "grid_search.fit(X_train, y_train)\n",
    "print(\"Best\", grid_search.best_params_)"
   ]
  },
  {
   "cell_type": "code",
   "execution_count": 126,
   "metadata": {},
   "outputs": [
    {
     "name": "stdout",
     "output_type": "stream",
     "text": [
      "MLPClassifier(activation='tanh', alpha=0.1, batch_size='auto', beta_1=0.9,\n",
      "              beta_2=0.999, early_stopping=False, epsilon=1e-08,\n",
      "              hidden_layer_sizes=(100,), learning_rate='constant',\n",
      "              learning_rate_init=0.01, max_fun=15000, max_iter=1000,\n",
      "              momentum=0.9, n_iter_no_change=10, nesterovs_momentum=True,\n",
      "              power_t=0.5, random_state=8, shuffle=True, solver='adam',\n",
      "              tol=0.0001, validation_fraction=0.1, verbose=False,\n",
      "              warm_start=False)\n"
     ]
    }
   ],
   "source": [
    "#call the new model\n",
    "ann_clf2 = MLPClassifier(activation = 'tanh', alpha = 0.1, learning_rate_init = 0.01, max_iter = 1000, solver = 'adam', random_state = 8)\n",
    "#check the parameter settings\n",
    "print(ann_clf2)\n",
    "\n",
    "#fit the classifier to the training data\n",
    "ann_clf2.fit(X_train, y_train)\n",
    "\n",
    "#make predictions using the test data\n",
    "target_predicted_ann2 = ann_clf2.predict(X_test)"
   ]
  },
  {
   "cell_type": "code",
   "execution_count": 127,
   "metadata": {},
   "outputs": [
    {
     "name": "stdout",
     "output_type": "stream",
     "text": [
      "ANN Accuracy Score 0.8777777777777778\n",
      "ANN Recall Score 0.625\n",
      "ANN ROC AUC Score 0.7708333333333333\n",
      "              precision    recall  f1-score   support\n",
      "\n",
      "           0       0.94      0.92      0.93       156\n",
      "           1       0.54      0.62      0.58        24\n",
      "\n",
      "    accuracy                           0.88       180\n",
      "   macro avg       0.74      0.77      0.75       180\n",
      "weighted avg       0.89      0.88      0.88       180\n",
      "\n"
     ]
    }
   ],
   "source": [
    "#create a classification report\n",
    "print(\"ANN Accuracy Score\", accuracy_score(y_test, target_predicted_ann2))\n",
    "print(\"ANN Recall Score\", recall_score(y_test, target_predicted_ann2))\n",
    "print(\"ANN ROC AUC Score\", roc_auc_score(y_test, target_predicted_ann2))\n",
    "print(classification_report(y_test, target_predicted_ann2))"
   ]
  },
  {
   "cell_type": "code",
   "execution_count": 128,
   "metadata": {},
   "outputs": [
    {
     "name": "stdout",
     "output_type": "stream",
     "text": [
      "Cross Validation Score for each K [0.92857143 0.85714286 0.95238095 0.92857143 0.85714286 0.95238095\n",
      " 0.95238095 0.85714286 0.87804878 0.85365854]\n"
     ]
    },
    {
     "data": {
      "text/plain": [
       "0.9017421602787457"
      ]
     },
     "execution_count": 128,
     "metadata": {},
     "output_type": "execute_result"
    }
   ],
   "source": [
    "#use 10-fold cross validation to check for overfitting\n",
    "scores = cross_val_score(ann_clf2, X_train, y_train, cv = 10)\n",
    "print(\"Cross Validation Score for each K\",scores)\n",
    "scores.mean()"
   ]
  },
  {
   "cell_type": "code",
   "execution_count": 129,
   "metadata": {},
   "outputs": [
    {
     "data": {
      "image/png": "[encoded data removed]",
      "text/plain": [
       "<Figure size 360x360 with 1 Axes>"
      ]
     },
     "metadata": {
      "needs_background": "light"
     },
     "output_type": "display_data"
    }
   ],
   "source": [
    "#build a confusion matrix\n",
    "cm = confusion_matrix(y_test, target_predicted_ann2)\n",
    "fig, ax = plt.subplots(figsize = (5, 5))\n",
    "ax.matshow(cm, cmap = plt.cm.Reds, alpha = 0.5)\n",
    "for i in range(cm.shape[0]) :\n",
    "    for j in range(cm.shape[1]) :\n",
    "        ax.text(x = j, y = i, s = cm[i, j], va = 'center', ha = 'center')\n",
    "plt.xlabel('Predicted Label')\n",
    "plt.ylabel('True Label')\n",
    "plt.show()"
   ]
  },
  {
   "cell_type": "markdown",
   "metadata": {},
   "source": [
    "### ANN Model 3\n",
    "To further improve the model, a different combination of hidden layers and nodes was checked, as well as additional values of alpha using roc_auc scoring."
   ]
  },
  {
   "cell_type": "code",
   "execution_count": 130,
   "metadata": {},
   "outputs": [
    {
     "name": "stdout",
     "output_type": "stream",
     "text": [
      "Best {'alpha': 0.4, 'hidden_layer_sizes': (100, 50)}\n"
     ]
    }
   ],
   "source": [
    "#create the grid\n",
    "param_grid3 = {'alpha' : [0.01, 0.1, 0.2, 0.3, 0.4, 0.5], 'hidden_layer_sizes' : [(100, ), (200, ), (100, 50), (50, 50, 50), (200, 100, 50)]}\n",
    "\n",
    "#run the grid search\n",
    "grid_search = GridSearchCV(ann_clf2, param_grid = param_grid3, scoring = 'roc_auc', n_jobs = -1, cv = 10)\n",
    "grid_search.fit(X_train, y_train)\n",
    "print(\"Best\", grid_search.best_params_)"
   ]
  },
  {
   "cell_type": "code",
   "execution_count": 131,
   "metadata": {},
   "outputs": [
    {
     "name": "stdout",
     "output_type": "stream",
     "text": [
      "MLPClassifier(activation='tanh', alpha=0.4, batch_size='auto', beta_1=0.9,\n",
      "              beta_2=0.999, early_stopping=False, epsilon=1e-08,\n",
      "              hidden_layer_sizes=(100, 50), learning_rate='constant',\n",
      "              learning_rate_init=0.01, max_fun=15000, max_iter=1000,\n",
      "              momentum=0.9, n_iter_no_change=10, nesterovs_momentum=True,\n",
      "              power_t=0.5, random_state=8, shuffle=True, solver='adam',\n",
      "              tol=0.0001, validation_fraction=0.1, verbose=False,\n",
      "              warm_start=False)\n"
     ]
    }
   ],
   "source": [
    "#call the new model\n",
    "ann_clf3 = MLPClassifier(activation = 'tanh', alpha = 0.4, learning_rate_init = 0.01, hidden_layer_sizes = (100, 50), max_iter = 1000, solver = 'adam', random_state = 8)\n",
    "#check the parameter settings\n",
    "print(ann_clf3)\n",
    "\n",
    "#fit the classifier to the training data\n",
    "ann_clf3.fit(X_train, y_train)\n",
    "\n",
    "#make predictions using the test data\n",
    "target_predicted_ann3 = ann_clf3.predict(X_test)"
   ]
  },
  {
   "cell_type": "code",
   "execution_count": 132,
   "metadata": {},
   "outputs": [
    {
     "name": "stdout",
     "output_type": "stream",
     "text": [
      "ANN Accuracy Score 0.8833333333333333\n",
      "ANN Recall Score 0.20833333333333334\n",
      "ANN ROC AUC Score 0.5977564102564102\n",
      "              precision    recall  f1-score   support\n",
      "\n",
      "           0       0.89      0.99      0.94       156\n",
      "           1       0.71      0.21      0.32        24\n",
      "\n",
      "    accuracy                           0.88       180\n",
      "   macro avg       0.80      0.60      0.63       180\n",
      "weighted avg       0.87      0.88      0.85       180\n",
      "\n"
     ]
    }
   ],
   "source": [
    "#create a classification report\n",
    "print(\"ANN Accuracy Score\", accuracy_score(y_test, target_predicted_ann3))\n",
    "print(\"ANN Recall Score\", recall_score(y_test, target_predicted_ann3))\n",
    "print(\"ANN ROC AUC Score\", roc_auc_score(y_test, target_predicted_ann3))\n",
    "print(classification_report(y_test, target_predicted_ann3))"
   ]
  },
  {
   "cell_type": "code",
   "execution_count": 133,
   "metadata": {},
   "outputs": [
    {
     "name": "stdout",
     "output_type": "stream",
     "text": [
      "Cross Validation Score for each K [0.92857143 0.9047619  0.92857143 0.9047619  0.9047619  0.85714286\n",
      " 0.92857143 0.85714286 0.87804878 0.90243902]\n"
     ]
    },
    {
     "data": {
      "text/plain": [
       "0.8994773519163763"
      ]
     },
     "execution_count": 133,
     "metadata": {},
     "output_type": "execute_result"
    }
   ],
   "source": [
    "#use 10-fold cross validation to check for overfitting\n",
    "scores = cross_val_score(ann_clf3, X_train, y_train, cv = 10)\n",
    "print(\"Cross Validation Score for each K\",scores)\n",
    "scores.mean()"
   ]
  },
  {
   "cell_type": "code",
   "execution_count": 134,
   "metadata": {},
   "outputs": [
    {
     "data": {
      "image/png": "[encoded data removed]",
      "text/plain": [
       "<Figure size 360x360 with 1 Axes>"
      ]
     },
     "metadata": {
      "needs_background": "light"
     },
     "output_type": "display_data"
    }
   ],
   "source": [
    "#build a confusion matrix\n",
    "cm = confusion_matrix(y_test, target_predicted_ann3)\n",
    "fig, ax = plt.subplots(figsize = (5, 5))\n",
    "ax.matshow(cm, cmap = plt.cm.Reds, alpha = 0.5)\n",
    "for i in range(cm.shape[0]) :\n",
    "    for j in range(cm.shape[1]) :\n",
    "        ax.text(x = j, y = i, s = cm[i, j], va = 'center', ha = 'center')\n",
    "plt.xlabel('Predicted Label')\n",
    "plt.ylabel('True Label')\n",
    "plt.show()"
   ]
  },
  {
   "cell_type": "markdown",
   "metadata": {},
   "source": [
    "# Stochastic Gradient Descent Classifiers\n",
    "### SGD Model 1"
   ]
  },
  {
   "cell_type": "code",
   "execution_count": 135,
   "metadata": {},
   "outputs": [
    {
     "name": "stdout",
     "output_type": "stream",
     "text": [
      "SGDClassifier(alpha=0.0001, average=False, class_weight=None,\n",
      "              early_stopping=False, epsilon=0.1, eta0=0.0, fit_intercept=True,\n",
      "              l1_ratio=0.15, learning_rate='optimal', loss='hinge',\n",
      "              max_iter=1000, n_iter_no_change=5, n_jobs=None, penalty='l2',\n",
      "              power_t=0.5, random_state=8, shuffle=True, tol=0.001,\n",
      "              validation_fraction=0.1, verbose=0, warm_start=False)\n"
     ]
    }
   ],
   "source": [
    "#call the default model\n",
    "sgd_clf = SGDClassifier(random_state = 8)\n",
    "#check the default parameter settings\n",
    "print(sgd_clf)\n",
    "\n",
    "#fit the classifier to the training data\n",
    "sgd_clf.fit(X_train,y_train)\n",
    "\n",
    "#make predictions using the test data\n",
    "target_predicted_sgd = sgd_clf.predict(X_test)"
   ]
  },
  {
   "cell_type": "code",
   "execution_count": 136,
   "metadata": {},
   "outputs": [
    {
     "name": "stdout",
     "output_type": "stream",
     "text": [
      "SGD Accuracy Score 0.9\n",
      "SGD Recall Score 0.375\n",
      "SGD ROC AUC Score 0.6778846153846154\n",
      "              precision    recall  f1-score   support\n",
      "\n",
      "           0       0.91      0.98      0.94       156\n",
      "           1       0.75      0.38      0.50        24\n",
      "\n",
      "    accuracy                           0.90       180\n",
      "   macro avg       0.83      0.68      0.72       180\n",
      "weighted avg       0.89      0.90      0.89       180\n",
      "\n"
     ]
    }
   ],
   "source": [
    "#create a classification report\n",
    "print(\"SGD Accuracy Score\", accuracy_score(y_test, target_predicted_sgd))\n",
    "print(\"SGD Recall Score\", recall_score(y_test, target_predicted_sgd))\n",
    "print(\"SGD ROC AUC Score\", roc_auc_score(y_test, target_predicted_sgd))\n",
    "print(classification_report(y_test, target_predicted_sgd))"
   ]
  },
  {
   "cell_type": "code",
   "execution_count": 137,
   "metadata": {},
   "outputs": [
    {
     "name": "stdout",
     "output_type": "stream",
     "text": [
      "Cross Validation Score for each K [0.71428571 0.92857143 0.92857143 0.88095238 0.85714286 0.85714286\n",
      " 0.85714286 0.85714286 0.82926829 0.92682927]\n"
     ]
    },
    {
     "data": {
      "text/plain": [
       "0.8637049941927991"
      ]
     },
     "execution_count": 137,
     "metadata": {},
     "output_type": "execute_result"
    }
   ],
   "source": [
    "#use 10-fold cross validation to check for overfitting\n",
    "scores = cross_val_score(sgd_clf, X_train, y_train, cv = 10)\n",
    "print(\"Cross Validation Score for each K\",scores)\n",
    "scores.mean()"
   ]
  },
  {
   "cell_type": "code",
   "execution_count": 138,
   "metadata": {},
   "outputs": [
    {
     "data": {
      "image/png": "[encoded data removed]",
      "text/plain": [
       "<Figure size 360x360 with 1 Axes>"
      ]
     },
     "metadata": {
      "needs_background": "light"
     },
     "output_type": "display_data"
    }
   ],
   "source": [
    "#build a confusion matrix\n",
    "cm = confusion_matrix(y_test, target_predicted_sgd)\n",
    "fig, ax = plt.subplots(figsize = (5, 5))\n",
    "ax.matshow(cm, cmap = plt.cm.Oranges, alpha = 0.5)\n",
    "for i in range(cm.shape[0]) :\n",
    "    for j in range(cm.shape[1]) :\n",
    "        ax.text(x = j, y = i, s = cm[i, j], va = 'center', ha = 'center')\n",
    "plt.xlabel('Predicted Label')\n",
    "plt.ylabel('True Label')\n",
    "plt.show()"
   ]
  },
  {
   "cell_type": "markdown",
   "metadata": {},
   "source": [
    "### SGD Model 2\n",
    "To try and develop a better model, a grid search was conducted to optimize a few of the hyperparameters using roc_auc scoring."
   ]
  },
  {
   "cell_type": "code",
   "execution_count": 139,
   "metadata": {},
   "outputs": [
    {
     "name": "stdout",
     "output_type": "stream",
     "text": [
      "Best {'alpha': 1e-05, 'class_weight': 'balanced', 'l1_ratio': 0.0001, 'loss': 'perceptron', 'penalty': 'l1'}\n"
     ]
    }
   ],
   "source": [
    "#create the grid\n",
    "param_grid2 = {'alpha' : [0.00001, 0.0001, 0.001, 0.01, 0.1], 'class_weight' : ['None', 'balanced'], 'l1_ratio' : [0.0001, 0.001, 0.01, 0.1],\n",
    "               'loss' : ['hinge', 'log', 'modified_huber', 'squared_hinge', 'perceptron'], 'penalty' : ['l1', 'l2', 'elasticnet']}\n",
    "\n",
    "#run the grid search\n",
    "grid_search = GridSearchCV(sgd_clf, param_grid = param_grid2, scoring = 'roc_auc', n_jobs = -1, cv = 10)\n",
    "grid_search.fit(X_train, y_train)\n",
    "print(\"Best\", grid_search.best_params_)"
   ]
  },
  {
   "cell_type": "code",
   "execution_count": 140,
   "metadata": {},
   "outputs": [
    {
     "name": "stdout",
     "output_type": "stream",
     "text": [
      "SGDClassifier(alpha=1e-05, average=False, class_weight='balanced',\n",
      "              early_stopping=False, epsilon=0.1, eta0=0.0, fit_intercept=True,\n",
      "              l1_ratio=0.0001, learning_rate='optimal', loss='perceptron',\n",
      "              max_iter=1000, n_iter_no_change=5, n_jobs=None, penalty='l1',\n",
      "              power_t=0.5, random_state=8, shuffle=True, tol=0.001,\n",
      "              validation_fraction=0.1, verbose=0, warm_start=False)\n"
     ]
    }
   ],
   "source": [
    "#call the new model\n",
    "sgd_clf2 = SGDClassifier(alpha = 0.00001, class_weight = 'balanced', l1_ratio = 0.0001, loss = 'perceptron', penalty = 'l1', random_state = 8)\n",
    "#check the parameter settings\n",
    "print(sgd_clf2)\n",
    "\n",
    "#fit the classifier to the training data\n",
    "sgd_clf2.fit(X_train,y_train)\n",
    "\n",
    "#make predictions using the test data\n",
    "target_predicted_sgd2 = sgd_clf2.predict(X_test)"
   ]
  },
  {
   "cell_type": "code",
   "execution_count": 141,
   "metadata": {},
   "outputs": [
    {
     "name": "stdout",
     "output_type": "stream",
     "text": [
      "SGD Accuracy Score 0.8944444444444445\n",
      "SGD Recall Score 0.5416666666666666\n",
      "SGD ROC AUC Score 0.7451923076923075\n",
      "              precision    recall  f1-score   support\n",
      "\n",
      "           0       0.93      0.95      0.94       156\n",
      "           1       0.62      0.54      0.58        24\n",
      "\n",
      "    accuracy                           0.89       180\n",
      "   macro avg       0.77      0.75      0.76       180\n",
      "weighted avg       0.89      0.89      0.89       180\n",
      "\n"
     ]
    }
   ],
   "source": [
    "#create a classification report\n",
    "print(\"SGD Accuracy Score\", accuracy_score(y_test, target_predicted_sgd2))\n",
    "print(\"SGD Recall Score\", recall_score(y_test, target_predicted_sgd2))\n",
    "print(\"SGD ROC AUC Score\", roc_auc_score(y_test, target_predicted_sgd2))\n",
    "print(classification_report(y_test, target_predicted_sgd2))"
   ]
  },
  {
   "cell_type": "code",
   "execution_count": 142,
   "metadata": {},
   "outputs": [
    {
     "name": "stdout",
     "output_type": "stream",
     "text": [
      "Cross Validation Score for each K [0.61904762 0.85714286 0.97619048 0.76190476 0.80952381 0.85714286\n",
      " 0.95238095 0.76190476 0.65853659 0.7804878 ]\n"
     ]
    },
    {
     "data": {
      "text/plain": [
       "0.8034262485481998"
      ]
     },
     "execution_count": 142,
     "metadata": {},
     "output_type": "execute_result"
    }
   ],
   "source": [
    "#use 10-fold cross validation to check for overfitting\n",
    "scores = cross_val_score(sgd_clf2, X_train, y_train, cv = 10)\n",
    "print(\"Cross Validation Score for each K\",scores)\n",
    "scores.mean()"
   ]
  },
  {
   "cell_type": "code",
   "execution_count": 143,
   "metadata": {},
   "outputs": [
    {
     "data": {
      "image/png": "[encoded data removed]",
      "text/plain": [
       "<Figure size 360x360 with 1 Axes>"
      ]
     },
     "metadata": {
      "needs_background": "light"
     },
     "output_type": "display_data"
    }
   ],
   "source": [
    "#build a confusion matrix\n",
    "cm = confusion_matrix(y_test, target_predicted_sgd2)\n",
    "fig, ax = plt.subplots(figsize = (5, 5))\n",
    "ax.matshow(cm, cmap = plt.cm.Oranges, alpha = 0.5)\n",
    "for i in range(cm.shape[0]) :\n",
    "    for j in range(cm.shape[1]) :\n",
    "        ax.text(x = j, y = i, s = cm[i, j], va = 'center', ha = 'center')\n",
    "plt.xlabel('Predicted Label')\n",
    "plt.ylabel('True Label')\n",
    "plt.show()"
   ]
  },
  {
   "cell_type": "markdown",
   "metadata": {},
   "source": [
    "### SGD Model 3\n",
    "To further improve the model, more refined values for alpha and the l1_ratio were employed using roc_auc scoring."
   ]
  },
  {
   "cell_type": "code",
   "execution_count": 144,
   "metadata": {},
   "outputs": [
    {
     "name": "stdout",
     "output_type": "stream",
     "text": [
      "Best {'alpha': 0.001, 'class_weight': 'balanced', 'l1_ratio': 1e-06, 'loss': 'squared_hinge', 'penalty': 'elasticnet'}\n"
     ]
    }
   ],
   "source": [
    "#create the grid\n",
    "param_grid3 = {'alpha' : [0.000001, 0.00001, 0.0001, 0.001, 0.01], 'class_weight' : ['None', 'balanced'], 'l1_ratio' : [0.000001, 0.00001, 0.0001, 0.001, 0.01],\n",
    "               'loss' : ['hinge', 'log', 'modified_huber', 'squared_hinge', 'perceptron'], 'penalty' : ['l1', 'l2', 'elasticnet']}\n",
    "\n",
    "#run the grid search\n",
    "grid_search = GridSearchCV(sgd_clf2, param_grid = param_grid3, scoring = 'roc_auc', n_jobs = -1, cv = 10)\n",
    "grid_search.fit(X_train, y_train)\n",
    "print(\"Best\", grid_search.best_params_)"
   ]
  },
  {
   "cell_type": "code",
   "execution_count": 145,
   "metadata": {},
   "outputs": [
    {
     "name": "stdout",
     "output_type": "stream",
     "text": [
      "SGDClassifier(alpha=0.001, average=False, class_weight='balanced',\n",
      "              early_stopping=False, epsilon=0.1, eta0=0.0, fit_intercept=True,\n",
      "              l1_ratio=1e-06, learning_rate='optimal', loss='squared_hinge',\n",
      "              max_iter=1000, n_iter_no_change=5, n_jobs=None,\n",
      "              penalty='elasticnet', power_t=0.5, random_state=8, shuffle=True,\n",
      "              tol=0.001, validation_fraction=0.1, verbose=0, warm_start=False)\n"
     ]
    }
   ],
   "source": [
    "#call the new model\n",
    "sgd_clf3 = SGDClassifier(alpha = 0.001, class_weight = 'balanced', l1_ratio = 0.000001, loss = 'squared_hinge', penalty = 'elasticnet', random_state = 8)\n",
    "#check the parameter settings\n",
    "print(sgd_clf3)\n",
    "\n",
    "#fit the classifier to the training data\n",
    "sgd_clf3.fit(X_train,y_train)\n",
    "\n",
    "#make predictions using the test data\n",
    "target_predicted_sgd3 = sgd_clf3.predict(X_test)"
   ]
  },
  {
   "cell_type": "code",
   "execution_count": 146,
   "metadata": {},
   "outputs": [
    {
     "name": "stdout",
     "output_type": "stream",
     "text": [
      "SGD Accuracy Score 0.8888888888888888\n",
      "SGD Recall Score 0.5416666666666666\n",
      "SGD ROC AUC Score 0.7419871794871794\n",
      "              precision    recall  f1-score   support\n",
      "\n",
      "           0       0.93      0.94      0.94       156\n",
      "           1       0.59      0.54      0.57        24\n",
      "\n",
      "    accuracy                           0.89       180\n",
      "   macro avg       0.76      0.74      0.75       180\n",
      "weighted avg       0.89      0.89      0.89       180\n",
      "\n"
     ]
    }
   ],
   "source": [
    "#create a classification report\n",
    "print(\"SGD Accuracy Score\", accuracy_score(y_test, target_predicted_sgd3))\n",
    "print(\"SGD Recall Score\", recall_score(y_test, target_predicted_sgd3))\n",
    "print(\"SGD ROC AUC Score\", roc_auc_score(y_test, target_predicted_sgd3))\n",
    "print(classification_report(y_test, target_predicted_sgd3))"
   ]
  },
  {
   "cell_type": "code",
   "execution_count": 147,
   "metadata": {},
   "outputs": [
    {
     "name": "stdout",
     "output_type": "stream",
     "text": [
      "Cross Validation Score for each K [0.76190476 0.83333333 0.88095238 0.85714286 0.85714286 0.80952381\n",
      " 0.88095238 0.80952381 0.80487805 0.87804878]\n"
     ]
    },
    {
     "data": {
      "text/plain": [
       "0.8373403019744483"
      ]
     },
     "execution_count": 147,
     "metadata": {},
     "output_type": "execute_result"
    }
   ],
   "source": [
    "#use 10-fold cross validation to check for overfitting\n",
    "scores = cross_val_score(sgd_clf3, X_train, y_train, cv = 10)\n",
    "print(\"Cross Validation Score for each K\",scores)\n",
    "scores.mean()"
   ]
  },
  {
   "cell_type": "code",
   "execution_count": 148,
   "metadata": {},
   "outputs": [
    {
     "data": {
      "image/png": "[encoded data removed]",
      "text/plain": [
       "<Figure size 360x360 with 1 Axes>"
      ]
     },
     "metadata": {
      "needs_background": "light"
     },
     "output_type": "display_data"
    }
   ],
   "source": [
    "#build a confusion matrix\n",
    "cm = confusion_matrix(y_test, target_predicted_sgd3)\n",
    "fig, ax = plt.subplots(figsize = (5, 5))\n",
    "ax.matshow(cm, cmap = plt.cm.Oranges, alpha = 0.5)\n",
    "for i in range(cm.shape[0]) :\n",
    "    for j in range(cm.shape[1]) :\n",
    "        ax.text(x = j, y = i, s = cm[i, j], va = 'center', ha = 'center')\n",
    "plt.xlabel('Predicted Label')\n",
    "plt.ylabel('True Label')\n",
    "plt.show()"
   ]
  },
  {
   "cell_type": "markdown",
   "metadata": {},
   "source": [
    "# Gradient Boosting Classifiers\n",
    "### GBC Model 1"
   ]
  },
  {
   "cell_type": "code",
   "execution_count": 149,
   "metadata": {},
   "outputs": [
    {
     "name": "stdout",
     "output_type": "stream",
     "text": [
      "GradientBoostingClassifier(ccp_alpha=0.0, criterion='friedman_mse', init=None,\n",
      "                           learning_rate=0.1, loss='deviance', max_depth=3,\n",
      "                           max_features=None, max_leaf_nodes=None,\n",
      "                           min_impurity_decrease=0.0, min_impurity_split=None,\n",
      "                           min_samples_leaf=1, min_samples_split=2,\n",
      "                           min_weight_fraction_leaf=0.0, n_estimators=100,\n",
      "                           n_iter_no_change=None, presort='deprecated',\n",
      "                           random_state=8, subsample=1.0, tol=0.0001,\n",
      "                           validation_fraction=0.1, verbose=0,\n",
      "                           warm_start=False)\n"
     ]
    }
   ],
   "source": [
    "#call the default model\n",
    "gbc_clf = GradientBoostingClassifier(random_state = 8)\n",
    "#check the default parameter settings\n",
    "print(gbc_clf)\n",
    "\n",
    "#fit the classifier to the training data\n",
    "gbc_clf.fit(X_train, y_train)\n",
    "\n",
    "#make predictions using the test data\n",
    "target_predicted_gbc = gbc_clf.predict(X_test)"
   ]
  },
  {
   "cell_type": "code",
   "execution_count": 150,
   "metadata": {},
   "outputs": [
    {
     "name": "stdout",
     "output_type": "stream",
     "text": [
      "GBC Accuracy Score 0.9166666666666666\n",
      "GBC Recall Score 0.5416666666666666\n",
      "GBC ROC AUC Score 0.7580128205128204\n",
      "              precision    recall  f1-score   support\n",
      "\n",
      "           0       0.93      0.97      0.95       156\n",
      "           1       0.76      0.54      0.63        24\n",
      "\n",
      "    accuracy                           0.92       180\n",
      "   macro avg       0.85      0.76      0.79       180\n",
      "weighted avg       0.91      0.92      0.91       180\n",
      "\n"
     ]
    }
   ],
   "source": [
    "#create a classification report\n",
    "print(\"GBC Accuracy Score\", accuracy_score(y_test, target_predicted_gbc))\n",
    "print(\"GBC Recall Score\", recall_score(y_test, target_predicted_gbc))\n",
    "print(\"GBC ROC AUC Score\", roc_auc_score(y_test, target_predicted_gbc))\n",
    "print(classification_report(y_test, target_predicted_gbc))"
   ]
  },
  {
   "cell_type": "code",
   "execution_count": 151,
   "metadata": {},
   "outputs": [
    {
     "name": "stdout",
     "output_type": "stream",
     "text": [
      "Cross Validation Score for each K [0.85714286 0.9047619  0.9047619  0.9047619  0.85714286 0.92857143\n",
      " 0.9047619  0.80952381 0.82926829 0.85365854]\n"
     ]
    },
    {
     "data": {
      "text/plain": [
       "0.8754355400696865"
      ]
     },
     "execution_count": 151,
     "metadata": {},
     "output_type": "execute_result"
    }
   ],
   "source": [
    "#use 10-fold cross validation to check for overfitting\n",
    "scores = cross_val_score(gbc_clf, X_train, y_train, cv = 10)\n",
    "print(\"Cross Validation Score for each K\",scores)\n",
    "scores.mean()"
   ]
  },
  {
   "cell_type": "code",
   "execution_count": 152,
   "metadata": {},
   "outputs": [
    {
     "data": {
      "image/png": "[encoded data removed]",
      "text/plain": [
       "<Figure size 360x360 with 1 Axes>"
      ]
     },
     "metadata": {
      "needs_background": "light"
     },
     "output_type": "display_data"
    }
   ],
   "source": [
    "#build a confusion matrix\n",
    "cm = confusion_matrix(y_test, target_predicted_gbc)\n",
    "fig, ax = plt.subplots(figsize = (5, 5))\n",
    "ax.matshow(cm, cmap = plt.cm.Greens, alpha = 0.5)\n",
    "for i in range(cm.shape[0]) :\n",
    "    for j in range(cm.shape[1]) :\n",
    "        ax.text(x = j, y = i, s = cm[i, j], va = 'center', ha = 'center')\n",
    "plt.xlabel('Predicted Label')\n",
    "plt.ylabel('True Label')\n",
    "plt.show()"
   ]
  },
  {
   "cell_type": "markdown",
   "metadata": {},
   "source": [
    "### GBC Model 2\n",
    "To try and develop a better model, a grid search was conducted to optimize a few of the hyperparameters using roc_auc scoring."
   ]
  },
  {
   "cell_type": "code",
   "execution_count": 153,
   "metadata": {},
   "outputs": [
    {
     "name": "stdout",
     "output_type": "stream",
     "text": [
      "Best {'criterion': 'friedman_mse', 'loss': 'exponential', 'max_depth': 2}\n"
     ]
    }
   ],
   "source": [
    "#create the grid\n",
    "param_grid2 = {'criterion' : ['friedman_mse', 'mse', 'mae'], 'loss' : ['deviance', 'exponential'], 'max_depth' : [1, 2, 3, 4, 5]}\n",
    "\n",
    "#run the grid search\n",
    "grid_search = GridSearchCV(gbc_clf, param_grid = param_grid2, scoring = 'roc_auc', n_jobs = -1, cv = 10)\n",
    "grid_search.fit(X_train, y_train)\n",
    "print(\"Best\", grid_search.best_params_)"
   ]
  },
  {
   "cell_type": "code",
   "execution_count": 154,
   "metadata": {},
   "outputs": [
    {
     "name": "stdout",
     "output_type": "stream",
     "text": [
      "GradientBoostingClassifier(ccp_alpha=0.0, criterion='friedman_mse', init=None,\n",
      "                           learning_rate=0.1, loss='exponential', max_depth=2,\n",
      "                           max_features=None, max_leaf_nodes=None,\n",
      "                           min_impurity_decrease=0.0, min_impurity_split=None,\n",
      "                           min_samples_leaf=1, min_samples_split=2,\n",
      "                           min_weight_fraction_leaf=0.0, n_estimators=100,\n",
      "                           n_iter_no_change=None, presort='deprecated',\n",
      "                           random_state=8, subsample=1.0, tol=0.0001,\n",
      "                           validation_fraction=0.1, verbose=0,\n",
      "                           warm_start=False)\n"
     ]
    }
   ],
   "source": [
    "#call the new model\n",
    "gbc_clf2 = GradientBoostingClassifier(criterion = 'friedman_mse', loss = 'exponential', max_depth = 2, random_state = 8)\n",
    "#check the parameter settings\n",
    "print(gbc_clf2)\n",
    "\n",
    "#fit the classifier to the training data\n",
    "gbc_clf2.fit(X_train, y_train)\n",
    "\n",
    "#make predictions using the test data\n",
    "target_predicted_gbc2 = gbc_clf2.predict(X_test)"
   ]
  },
  {
   "cell_type": "code",
   "execution_count": 155,
   "metadata": {},
   "outputs": [
    {
     "name": "stdout",
     "output_type": "stream",
     "text": [
      "GBC Accuracy Score 0.9222222222222223\n",
      "GBC Recall Score 0.5416666666666666\n",
      "GBC ROC AUC Score 0.7612179487179487\n",
      "              precision    recall  f1-score   support\n",
      "\n",
      "           0       0.93      0.98      0.96       156\n",
      "           1       0.81      0.54      0.65        24\n",
      "\n",
      "    accuracy                           0.92       180\n",
      "   macro avg       0.87      0.76      0.80       180\n",
      "weighted avg       0.92      0.92      0.92       180\n",
      "\n"
     ]
    }
   ],
   "source": [
    "#create a classification report\n",
    "print(\"GBC Accuracy Score\", accuracy_score(y_test, target_predicted_gbc2))\n",
    "print(\"GBC Recall Score\", recall_score(y_test, target_predicted_gbc2))\n",
    "print(\"GBC ROC AUC Score\", roc_auc_score(y_test, target_predicted_gbc2))\n",
    "print(classification_report(y_test, target_predicted_gbc2))"
   ]
  },
  {
   "cell_type": "code",
   "execution_count": 156,
   "metadata": {},
   "outputs": [
    {
     "name": "stdout",
     "output_type": "stream",
     "text": [
      "Cross Validation Score for each K [0.88095238 0.88095238 0.85714286 0.88095238 0.88095238 0.9047619\n",
      " 0.92857143 0.80952381 0.82926829 0.87804878]\n"
     ]
    },
    {
     "data": {
      "text/plain": [
       "0.8731126596980255"
      ]
     },
     "execution_count": 156,
     "metadata": {},
     "output_type": "execute_result"
    }
   ],
   "source": [
    "#use 10-fold cross validation to check for overfitting\n",
    "scores = cross_val_score(gbc_clf2, X_train, y_train, cv = 10)\n",
    "print(\"Cross Validation Score for each K\",scores)\n",
    "scores.mean()"
   ]
  },
  {
   "cell_type": "code",
   "execution_count": 157,
   "metadata": {},
   "outputs": [
    {
     "data": {
      "image/png": "[encoded data removed]",
      "text/plain": [
       "<Figure size 360x360 with 1 Axes>"
      ]
     },
     "metadata": {
      "needs_background": "light"
     },
     "output_type": "display_data"
    }
   ],
   "source": [
    "#build a confusion matrix\n",
    "cm = confusion_matrix(y_test, target_predicted_gbc2)\n",
    "fig, ax = plt.subplots(figsize = (5, 5))\n",
    "ax.matshow(cm, cmap = plt.cm.Greens, alpha = 0.5)\n",
    "for i in range(cm.shape[0]) :\n",
    "    for j in range(cm.shape[1]) :\n",
    "        ax.text(x = j, y = i, s = cm[i, j], va = 'center', ha = 'center')\n",
    "plt.xlabel('Predicted Label')\n",
    "plt.ylabel('True Label')\n",
    "plt.show()"
   ]
  },
  {
   "cell_type": "markdown",
   "metadata": {},
   "source": [
    "### GBC Model 3\n",
    "To further improve the model, multiple values for the \"n_estimators\" parameter were checked using roc_auc scoring."
   ]
  },
  {
   "cell_type": "code",
   "execution_count": 158,
   "metadata": {},
   "outputs": [
    {
     "name": "stdout",
     "output_type": "stream",
     "text": [
      "Best {'n_estimators': 70}\n"
     ]
    }
   ],
   "source": [
    "#create the grid\n",
    "param_grid3 = {'n_estimators' : [50, 60, 70, 80, 90, 100, 110]}\n",
    "\n",
    "#run the grid search\n",
    "grid_search = GridSearchCV(gbc_clf2, param_grid = param_grid3, scoring = 'roc_auc', n_jobs = -1, cv = 10)\n",
    "grid_search.fit(X_train, y_train)\n",
    "print(\"Best\", grid_search.best_params_)"
   ]
  },
  {
   "cell_type": "code",
   "execution_count": 159,
   "metadata": {},
   "outputs": [
    {
     "name": "stdout",
     "output_type": "stream",
     "text": [
      "GradientBoostingClassifier(ccp_alpha=0.0, criterion='friedman_mse', init=None,\n",
      "                           learning_rate=0.1, loss='exponential', max_depth=2,\n",
      "                           max_features=None, max_leaf_nodes=None,\n",
      "                           min_impurity_decrease=0.0, min_impurity_split=None,\n",
      "                           min_samples_leaf=1, min_samples_split=2,\n",
      "                           min_weight_fraction_leaf=0.0, n_estimators=70,\n",
      "                           n_iter_no_change=None, presort='deprecated',\n",
      "                           random_state=8, subsample=1.0, tol=0.0001,\n",
      "                           validation_fraction=0.1, verbose=0,\n",
      "                           warm_start=False)\n"
     ]
    }
   ],
   "source": [
    "#call the new model\n",
    "gbc_clf3 = GradientBoostingClassifier(criterion = 'friedman_mse', loss = 'exponential', max_depth = 2, n_estimators = 70, random_state = 8)\n",
    "#check the parameter settings\n",
    "print(gbc_clf3)\n",
    "\n",
    "#fit the classifier to the training data\n",
    "gbc_clf3.fit(X_train, y_train)\n",
    "\n",
    "#make predictions using the test data\n",
    "target_predicted_gbc3 = gbc_clf3.predict(X_test)"
   ]
  },
  {
   "cell_type": "code",
   "execution_count": 160,
   "metadata": {},
   "outputs": [
    {
     "name": "stdout",
     "output_type": "stream",
     "text": [
      "GBC Accuracy Score 0.9166666666666666\n",
      "GBC Recall Score 0.5\n",
      "GBC ROC AUC Score 0.7403846153846153\n",
      "              precision    recall  f1-score   support\n",
      "\n",
      "           0       0.93      0.98      0.95       156\n",
      "           1       0.80      0.50      0.62        24\n",
      "\n",
      "    accuracy                           0.92       180\n",
      "   macro avg       0.86      0.74      0.78       180\n",
      "weighted avg       0.91      0.92      0.91       180\n",
      "\n"
     ]
    }
   ],
   "source": [
    "#create a classification report\n",
    "print(\"GBC Accuracy Score\", accuracy_score(y_test, target_predicted_gbc3))\n",
    "print(\"GBC Recall Score\", recall_score(y_test, target_predicted_gbc3))\n",
    "print(\"GBC ROC AUC Score\", roc_auc_score(y_test, target_predicted_gbc3))\n",
    "print(classification_report(y_test, target_predicted_gbc3))"
   ]
  },
  {
   "cell_type": "code",
   "execution_count": 161,
   "metadata": {},
   "outputs": [
    {
     "name": "stdout",
     "output_type": "stream",
     "text": [
      "Cross Validation Score for each K [0.85714286 0.85714286 0.88095238 0.88095238 0.9047619  0.88095238\n",
      " 0.9047619  0.83333333 0.82926829 0.90243902]\n"
     ]
    },
    {
     "data": {
      "text/plain": [
       "0.8731707317073172"
      ]
     },
     "execution_count": 161,
     "metadata": {},
     "output_type": "execute_result"
    }
   ],
   "source": [
    "#use 10-fold cross validation to check for overfitting\n",
    "scores = cross_val_score(gbc_clf3, X_train, y_train, cv = 10)\n",
    "print(\"Cross Validation Score for each K\",scores)\n",
    "scores.mean()"
   ]
  },
  {
   "cell_type": "code",
   "execution_count": 162,
   "metadata": {},
   "outputs": [
    {
     "data": {
      "image/png": "[encoded data removed]",
      "text/plain": [
       "<Figure size 360x360 with 1 Axes>"
      ]
     },
     "metadata": {
      "needs_background": "light"
     },
     "output_type": "display_data"
    }
   ],
   "source": [
    "#build a confusion matrix\n",
    "cm = confusion_matrix(y_test, target_predicted_gbc3)\n",
    "fig, ax = plt.subplots(figsize = (5, 5))\n",
    "ax.matshow(cm, cmap = plt.cm.Greens, alpha = 0.5)\n",
    "for i in range(cm.shape[0]) :\n",
    "    for j in range(cm.shape[1]) :\n",
    "        ax.text(x = j, y = i, s = cm[i, j], va = 'center', ha = 'center')\n",
    "plt.xlabel('Predicted Label')\n",
    "plt.ylabel('True Label')\n",
    "plt.show()"
   ]
  },
  {
   "cell_type": "markdown",
   "metadata": {},
   "source": [
    "# Logistic Regression Classifiers\n",
    "For the second iteration of this project, a logistic regression model was created.\n",
    "### Logit Model 1"
   ]
  },
  {
   "cell_type": "code",
   "execution_count": 163,
   "metadata": {},
   "outputs": [
    {
     "name": "stdout",
     "output_type": "stream",
     "text": [
      "LogisticRegression(C=1.0, class_weight=None, dual=False, fit_intercept=True,\n",
      "                   intercept_scaling=1, l1_ratio=None, max_iter=10000,\n",
      "                   multi_class='auto', n_jobs=None, penalty='l2',\n",
      "                   random_state=8, solver='lbfgs', tol=0.0001, verbose=0,\n",
      "                   warm_start=False)\n"
     ]
    }
   ],
   "source": [
    "#call the default model\n",
    "logit_clf = LogisticRegression(max_iter = 10000, random_state = 8)\n",
    "#check the default parameter settings\n",
    "print(logit_clf)\n",
    "\n",
    "#fit the classifier to the training data\n",
    "logit_clf.fit(X_train, y_train)\n",
    "\n",
    "#make predictions using the test data\n",
    "target_predicted_logit = logit_clf.predict(X_test)"
   ]
  },
  {
   "cell_type": "code",
   "execution_count": 164,
   "metadata": {},
   "outputs": [
    {
     "name": "stdout",
     "output_type": "stream",
     "text": [
      "Logit Accuracy Score 0.9111111111111111\n",
      "Logit Recall Score 0.4583333333333333\n",
      "Logit ROC AUC Score 0.719551282051282\n",
      "              precision    recall  f1-score   support\n",
      "\n",
      "           0       0.92      0.98      0.95       156\n",
      "           1       0.79      0.46      0.58        24\n",
      "\n",
      "    accuracy                           0.91       180\n",
      "   macro avg       0.85      0.72      0.76       180\n",
      "weighted avg       0.90      0.91      0.90       180\n",
      "\n"
     ]
    }
   ],
   "source": [
    "#create a classification report\n",
    "print(\"Logit Accuracy Score\", accuracy_score(y_test, target_predicted_logit))\n",
    "print(\"Logit Recall Score\", recall_score(y_test, target_predicted_logit))\n",
    "print(\"Logit ROC AUC Score\", roc_auc_score(y_test, target_predicted_logit))\n",
    "print(classification_report(y_test, target_predicted_logit))"
   ]
  },
  {
   "cell_type": "code",
   "execution_count": 165,
   "metadata": {},
   "outputs": [
    {
     "name": "stdout",
     "output_type": "stream",
     "text": [
      "Cross Validation Score for each K [0.85714286 0.9047619  0.92857143 0.88095238 0.83333333 0.88095238\n",
      " 0.9047619  0.83333333 0.90243902 0.92682927]\n"
     ]
    },
    {
     "data": {
      "text/plain": [
       "0.8853077816492452"
      ]
     },
     "execution_count": 165,
     "metadata": {},
     "output_type": "execute_result"
    }
   ],
   "source": [
    "#use 10-fold cross validation to check for overfitting\n",
    "scores = cross_val_score(logit_clf, X_train, y_train, cv = 10)\n",
    "print(\"Cross Validation Score for each K\",scores)\n",
    "scores.mean()"
   ]
  },
  {
   "cell_type": "code",
   "execution_count": 166,
   "metadata": {},
   "outputs": [
    {
     "data": {
      "image/png": "[encoded data removed]",
      "text/plain": [
       "<Figure size 360x360 with 1 Axes>"
      ]
     },
     "metadata": {
      "needs_background": "light"
     },
     "output_type": "display_data"
    }
   ],
   "source": [
    "#build a confusion matrix\n",
    "cm = confusion_matrix(y_test, target_predicted_logit)\n",
    "fig, ax = plt.subplots(figsize = (5, 5))\n",
    "ax.matshow(cm, cmap = plt.cm.Blues, alpha = 0.5)\n",
    "for i in range(cm.shape[0]) :\n",
    "    for j in range(cm.shape[1]) :\n",
    "        ax.text(x = j, y = i, s = cm[i, j], va = 'center', ha = 'center')\n",
    "plt.xlabel('Predicted Label')\n",
    "plt.ylabel('True Label')\n",
    "plt.show()"
   ]
  },
  {
   "cell_type": "markdown",
   "metadata": {},
   "source": [
    "### Logit Model 2\n",
    "To try and develop a better model, a grid search was conducted to optimize a few of the hyperparameters using roc_auc scoring."
   ]
  },
  {
   "cell_type": "code",
   "execution_count": 167,
   "metadata": {},
   "outputs": [
    {
     "name": "stdout",
     "output_type": "stream",
     "text": [
      "Best {'C': 1.0, 'class_weight': 'balanced', 'penalty': 'l1', 'solver': 'saga'}\n"
     ]
    }
   ],
   "source": [
    "#create the grid\n",
    "param_grid2 = {'C' : [0.5, 1.0, 1.5, 2.0], 'class_weight' : ['balanced'], 'penalty' : ['None', 'l1', 'l2', 'elasticnet'], 'solver' : ['newton-cg', 'lbfgs', 'liblinear', 'sag', 'saga']}\n",
    "\n",
    "#run the grid search\n",
    "grid_search = GridSearchCV(logit_clf, param_grid = param_grid2, scoring = 'roc_auc', n_jobs = -1, cv = 10)\n",
    "grid_search.fit(X_train, y_train)\n",
    "print(\"Best\", grid_search.best_params_)"
   ]
  },
  {
   "cell_type": "code",
   "execution_count": 168,
   "metadata": {},
   "outputs": [
    {
     "name": "stdout",
     "output_type": "stream",
     "text": [
      "LogisticRegression(C=1.0, class_weight='balanced', dual=False,\n",
      "                   fit_intercept=True, intercept_scaling=1, l1_ratio=None,\n",
      "                   max_iter=10000, multi_class='auto', n_jobs=None,\n",
      "                   penalty='l1', random_state=8, solver='saga', tol=0.0001,\n",
      "                   verbose=0, warm_start=False)\n"
     ]
    }
   ],
   "source": [
    "#call the default model\n",
    "logit_clf2 = LogisticRegression(C = 1.0, class_weight = 'balanced', penalty = 'l1', solver = 'saga', max_iter = 10000, random_state = 8)\n",
    "#check the default parameter settings\n",
    "print(logit_clf2)\n",
    "\n",
    "#fit the classifier to the training data\n",
    "logit_clf2.fit(X_train, y_train)\n",
    "\n",
    "#make predictions using the test data\n",
    "target_predicted_logit2 = logit_clf2.predict(X_test)"
   ]
  },
  {
   "cell_type": "code",
   "execution_count": 169,
   "metadata": {},
   "outputs": [
    {
     "name": "stdout",
     "output_type": "stream",
     "text": [
      "Logit Accuracy Score 0.8111111111111111\n",
      "Logit Recall Score 0.9166666666666666\n",
      "Logit ROC AUC Score 0.8557692307692307\n",
      "              precision    recall  f1-score   support\n",
      "\n",
      "           0       0.98      0.79      0.88       156\n",
      "           1       0.41      0.92      0.56        24\n",
      "\n",
      "    accuracy                           0.81       180\n",
      "   macro avg       0.70      0.86      0.72       180\n",
      "weighted avg       0.91      0.81      0.84       180\n",
      "\n"
     ]
    }
   ],
   "source": [
    "#create a classification report\n",
    "print(\"Logit Accuracy Score\", accuracy_score(y_test, target_predicted_logit2))\n",
    "print(\"Logit Recall Score\", recall_score(y_test, target_predicted_logit2))\n",
    "print(\"Logit ROC AUC Score\", roc_auc_score(y_test, target_predicted_logit2))\n",
    "print(classification_report(y_test, target_predicted_logit2))"
   ]
  },
  {
   "cell_type": "code",
   "execution_count": 170,
   "metadata": {},
   "outputs": [
    {
     "name": "stdout",
     "output_type": "stream",
     "text": [
      "Cross Validation Score for each K [0.76190476 0.80952381 0.9047619  0.9047619  0.76190476 0.83333333\n",
      " 0.83333333 0.78571429 0.80487805 0.90243902]\n"
     ]
    },
    {
     "data": {
      "text/plain": [
       "0.8302555168408826"
      ]
     },
     "execution_count": 170,
     "metadata": {},
     "output_type": "execute_result"
    }
   ],
   "source": [
    "#use 10-fold cross validation to check for overfitting\n",
    "scores = cross_val_score(logit_clf2, X_train, y_train, cv = 10)\n",
    "print(\"Cross Validation Score for each K\",scores)\n",
    "scores.mean()"
   ]
  },
  {
   "cell_type": "code",
   "execution_count": 171,
   "metadata": {},
   "outputs": [
    {
     "data": {
      "image/png": "[encoded data removed]",
      "text/plain": [
       "<Figure size 360x360 with 1 Axes>"
      ]
     },
     "metadata": {
      "needs_background": "light"
     },
     "output_type": "display_data"
    }
   ],
   "source": [
    "#build a confusion matrix\n",
    "cm = confusion_matrix(y_test, target_predicted_logit2)\n",
    "fig, ax = plt.subplots(figsize = (5, 5))\n",
    "ax.matshow(cm, cmap = plt.cm.Blues, alpha = 0.5)\n",
    "for i in range(cm.shape[0]) :\n",
    "    for j in range(cm.shape[1]) :\n",
    "        ax.text(x = j, y = i, s = cm[i, j], va = 'center', ha = 'center')\n",
    "plt.xlabel('Predicted Label')\n",
    "plt.ylabel('True Label')\n",
    "plt.show()"
   ]
  },
  {
   "cell_type": "markdown",
   "metadata": {},
   "source": [
    "### Logit Model 3\n",
    "To further improve the model, smaller increments of C were checked."
   ]
  },
  {
   "cell_type": "code",
   "execution_count": 172,
   "metadata": {},
   "outputs": [
    {
     "name": "stdout",
     "output_type": "stream",
     "text": [
      "Best {'C': 1.1, 'penalty': 'l1', 'solver': 'saga'}\n"
     ]
    }
   ],
   "source": [
    "#create the grid\n",
    "param_grid3 = {'C' : [0.8, 0.9, 1.0, 1.1, 1.2, 1.3, 1.4, 1.5], 'penalty' : ['None', 'l1', 'l2', 'elasticnet'], 'solver' : ['newton-cg', 'lbfgs', 'liblinear', 'sag', 'saga']}\n",
    "\n",
    "#run the grid search\n",
    "grid_search = GridSearchCV(logit_clf2, param_grid = param_grid3, scoring = 'roc_auc', n_jobs = -1, cv = 10)\n",
    "grid_search.fit(X_train, y_train)\n",
    "print(\"Best\", grid_search.best_params_)\n"
   ]
  },
  {
   "cell_type": "code",
   "execution_count": 173,
   "metadata": {},
   "outputs": [
    {
     "name": "stdout",
     "output_type": "stream",
     "text": [
      "LogisticRegression(C=1.1, class_weight='balanced', dual=False,\n",
      "                   fit_intercept=True, intercept_scaling=1, l1_ratio=None,\n",
      "                   max_iter=10000, multi_class='auto', n_jobs=None,\n",
      "                   penalty='l1', random_state=8, solver='saga', tol=0.0001,\n",
      "                   verbose=0, warm_start=False)\n"
     ]
    }
   ],
   "source": [
    "#call the default model\n",
    "logit_clf3 = LogisticRegression(C = 1.1, class_weight = 'balanced', penalty = 'l1', solver = 'saga', max_iter = 10000, random_state = 8)\n",
    "#check the default parameter settings\n",
    "print(logit_clf3)\n",
    "\n",
    "#fit the classifier to the training data\n",
    "logit_clf3.fit(X_train, y_train)\n",
    "\n",
    "#make predictions using the test data\n",
    "target_predicted_logit3 = logit_clf3.predict(X_test)"
   ]
  },
  {
   "cell_type": "code",
   "execution_count": 174,
   "metadata": {},
   "outputs": [
    {
     "name": "stdout",
     "output_type": "stream",
     "text": [
      "Logit Accuracy Score 0.8111111111111111\n",
      "Logit Recall Score 0.9166666666666666\n",
      "Logit ROC AUC Score 0.8557692307692307\n",
      "              precision    recall  f1-score   support\n",
      "\n",
      "           0       0.98      0.79      0.88       156\n",
      "           1       0.41      0.92      0.56        24\n",
      "\n",
      "    accuracy                           0.81       180\n",
      "   macro avg       0.70      0.86      0.72       180\n",
      "weighted avg       0.91      0.81      0.84       180\n",
      "\n"
     ]
    }
   ],
   "source": [
    "#create a classification report\n",
    "print(\"Logit Accuracy Score\", accuracy_score(y_test, target_predicted_logit3))\n",
    "print(\"Logit Recall Score\", recall_score(y_test, target_predicted_logit3))\n",
    "print(\"Logit ROC AUC Score\", roc_auc_score(y_test, target_predicted_logit3))\n",
    "print(classification_report(y_test, target_predicted_logit3))"
   ]
  },
  {
   "cell_type": "code",
   "execution_count": 175,
   "metadata": {},
   "outputs": [
    {
     "name": "stdout",
     "output_type": "stream",
     "text": [
      "Cross Validation Score for each K [0.76190476 0.80952381 0.9047619  0.9047619  0.76190476 0.83333333\n",
      " 0.83333333 0.78571429 0.7804878  0.90243902]\n"
     ]
    },
    {
     "data": {
      "text/plain": [
       "0.8278164924506388"
      ]
     },
     "execution_count": 175,
     "metadata": {},
     "output_type": "execute_result"
    }
   ],
   "source": [
    "#use 10-fold cross validation to check for overfitting\n",
    "scores = cross_val_score(logit_clf3, X_train, y_train, cv = 10)\n",
    "print(\"Cross Validation Score for each K\",scores)\n",
    "scores.mean()"
   ]
  },
  {
   "cell_type": "code",
   "execution_count": 176,
   "metadata": {},
   "outputs": [
    {
     "data": {
      "image/png": "[encoded data removed]",
      "text/plain": [
       "<Figure size 360x360 with 1 Axes>"
      ]
     },
     "metadata": {
      "needs_background": "light"
     },
     "output_type": "display_data"
    }
   ],
   "source": [
    "#build a confusion matrix\n",
    "cm = confusion_matrix(y_test, target_predicted_logit3)\n",
    "fig, ax = plt.subplots(figsize = (5, 5))\n",
    "ax.matshow(cm, cmap = plt.cm.Blues, alpha = 0.5)\n",
    "for i in range(cm.shape[0]) :\n",
    "    for j in range(cm.shape[1]) :\n",
    "        ax.text(x = j, y = i, s = cm[i, j], va = 'center', ha = 'center')\n",
    "plt.xlabel('Predicted Label')\n",
    "plt.ylabel('True Label')\n",
    "plt.show()"
   ]
  },
  {
   "cell_type": "markdown",
   "metadata": {},
   "source": [
    "# Bagging Classifiers\n",
    "### BAG Model 1"
   ]
  },
  {
   "cell_type": "code",
   "execution_count": 177,
   "metadata": {},
   "outputs": [
    {
     "name": "stdout",
     "output_type": "stream",
     "text": [
      "BaggingClassifier(base_estimator=None, bootstrap=True, bootstrap_features=False,\n",
      "                  max_features=1.0, max_samples=1.0, n_estimators=10,\n",
      "                  n_jobs=None, oob_score=False, random_state=8, verbose=0,\n",
      "                  warm_start=False)\n"
     ]
    }
   ],
   "source": [
    "#call the default model\n",
    "bag_clf = BaggingClassifier(random_state = 8)\n",
    "#check the default parameter settings\n",
    "print(bag_clf)\n",
    "\n",
    "#fit the classifier to the training data\n",
    "bag_clf.fit(X_train, y_train)\n",
    "\n",
    "#make predictions using the test data\n",
    "target_predicted_bag = bag_clf.predict(X_test)"
   ]
  },
  {
   "cell_type": "code",
   "execution_count": 178,
   "metadata": {},
   "outputs": [
    {
     "name": "stdout",
     "output_type": "stream",
     "text": [
      "BAG Accuracy Score 0.8944444444444445\n",
      "BAG Recall Score 0.375\n",
      "BAG ROC AUC Score 0.6746794871794871\n",
      "              precision    recall  f1-score   support\n",
      "\n",
      "           0       0.91      0.97      0.94       156\n",
      "           1       0.69      0.38      0.49        24\n",
      "\n",
      "    accuracy                           0.89       180\n",
      "   macro avg       0.80      0.67      0.71       180\n",
      "weighted avg       0.88      0.89      0.88       180\n",
      "\n"
     ]
    }
   ],
   "source": [
    "#create a classification report\n",
    "print(\"BAG Accuracy Score\", accuracy_score(y_test, target_predicted_bag))\n",
    "print(\"BAG Recall Score\", recall_score(y_test, target_predicted_bag))\n",
    "print(\"BAG ROC AUC Score\", roc_auc_score(y_test, target_predicted_bag))\n",
    "print(classification_report(y_test, target_predicted_bag))"
   ]
  },
  {
   "cell_type": "code",
   "execution_count": 179,
   "metadata": {},
   "outputs": [
    {
     "name": "stdout",
     "output_type": "stream",
     "text": [
      "Cross Validation Score for each K [0.83333333 0.88095238 0.92857143 0.88095238 0.83333333 0.88095238\n",
      " 0.88095238 0.83333333 0.85365854 0.90243902]\n"
     ]
    },
    {
     "data": {
      "text/plain": [
       "0.8708478513356562"
      ]
     },
     "execution_count": 179,
     "metadata": {},
     "output_type": "execute_result"
    }
   ],
   "source": [
    "#use 10-fold cross validation to check for overfitting\n",
    "scores = cross_val_score(bag_clf, X_train, y_train, cv = 10)\n",
    "print(\"Cross Validation Score for each K\",scores)\n",
    "scores.mean()"
   ]
  },
  {
   "cell_type": "code",
   "execution_count": 180,
   "metadata": {},
   "outputs": [
    {
     "data": {
      "image/png": "[encoded data removed]",
      "text/plain": [
       "<Figure size 360x360 with 1 Axes>"
      ]
     },
     "metadata": {
      "needs_background": "light"
     },
     "output_type": "display_data"
    }
   ],
   "source": [
    "#build a confusion matrix\n",
    "cm = confusion_matrix(y_test, target_predicted_bag)\n",
    "fig, ax = plt.subplots(figsize = (5, 5))\n",
    "ax.matshow(cm, cmap = plt.cm.Purples, alpha = 0.5)\n",
    "for i in range(cm.shape[0]) :\n",
    "    for j in range(cm.shape[1]) :\n",
    "        ax.text(x = j, y = i, s = cm[i, j], va = 'center', ha = 'center')\n",
    "plt.xlabel('Predicted Label')\n",
    "plt.ylabel('True Label')\n",
    "plt.show()"
   ]
  },
  {
   "cell_type": "markdown",
   "metadata": {},
   "source": [
    "### BAG Model 2\n",
    "To try and develop a better model, a grid search was conducted to optimize a few of the hyperparameters using roc_auc scoring.  The three best models thus far were used as choices for the base estimator."
   ]
  },
  {
   "cell_type": "code",
   "execution_count": 181,
   "metadata": {},
   "outputs": [
    {
     "name": "stdout",
     "output_type": "stream",
     "text": [
      "Best {'base_estimator': ExtraTreesClassifier(bootstrap=True, ccp_alpha=0.0, class_weight='balanced',\n",
      "                     criterion='gini', max_depth=5, max_features='auto',\n",
      "                     max_leaf_nodes=None, max_samples=None,\n",
      "                     min_impurity_decrease=0.0, min_impurity_split=None,\n",
      "                     min_samples_leaf=1, min_samples_split=2,\n",
      "                     min_weight_fraction_leaf=0.0, n_estimators=100,\n",
      "                     n_jobs=None, oob_score=False, random_state=8, verbose=0,\n",
      "                     warm_start=False), 'bootstrap': 'True', 'bootstrap_features': 'True'}\n"
     ]
    }
   ],
   "source": [
    "#create the grid\n",
    "param_grid2 = {'base_estimator' : [et_clf2, svc_lin3, logit_clf3], 'bootstrap' : ['True', 'False'], 'bootstrap_features' : ['True', 'False']}\n",
    "\n",
    "#run the grid search\n",
    "grid_search = GridSearchCV(bag_clf, param_grid = param_grid2, scoring = 'roc_auc', n_jobs = -1, cv = 10)\n",
    "grid_search.fit(X_train, y_train)\n",
    "print(\"Best\", grid_search.best_params_)"
   ]
  },
  {
   "cell_type": "code",
   "execution_count": 182,
   "metadata": {},
   "outputs": [
    {
     "name": "stdout",
     "output_type": "stream",
     "text": [
      "BaggingClassifier(base_estimator=ExtraTreesClassifier(bootstrap=True,\n",
      "                                                      ccp_alpha=0.0,\n",
      "                                                      class_weight='balanced',\n",
      "                                                      criterion='gini',\n",
      "                                                      max_depth=5,\n",
      "                                                      max_features='auto',\n",
      "                                                      max_leaf_nodes=None,\n",
      "                                                      max_samples=None,\n",
      "                                                      min_impurity_decrease=0.0,\n",
      "                                                      min_impurity_split=None,\n",
      "                                                      min_samples_leaf=1,\n",
      "                                                      min_samples_split=2,\n",
      "                                                      min_weight_fraction_leaf=0.0,\n",
      "                                                      n_estimators=100,\n",
      "                                                      n_jobs=None,\n",
      "                                                      oob_score=False,\n",
      "                                                      random_state=8, verbose=0,\n",
      "                                                      warm_start=False),\n",
      "                  bootstrap=True, bootstrap_features=True, max_features=1.0,\n",
      "                  max_samples=1.0, n_estimators=10, n_jobs=None,\n",
      "                  oob_score=False, random_state=8, verbose=0, warm_start=False)\n"
     ]
    }
   ],
   "source": [
    "#call the new model\n",
    "bag_clf2 = BaggingClassifier(base_estimator = et_clf2, bootstrap = True, bootstrap_features = True, random_state = 8)\n",
    "#check the parameter settings\n",
    "print(bag_clf2)\n",
    "\n",
    "#fit the classifier to the training data\n",
    "bag_clf2.fit(X_train, y_train)\n",
    "\n",
    "#make predictions using the test data\n",
    "target_predicted_bag2 = bag_clf2.predict(X_test)"
   ]
  },
  {
   "cell_type": "code",
   "execution_count": 183,
   "metadata": {},
   "outputs": [
    {
     "name": "stdout",
     "output_type": "stream",
     "text": [
      "BAG Accuracy Score 0.8944444444444445\n",
      "BAG Recall Score 0.7083333333333334\n",
      "BAG ROC AUC Score 0.8157051282051283\n",
      "              precision    recall  f1-score   support\n",
      "\n",
      "           0       0.95      0.92      0.94       156\n",
      "           1       0.59      0.71      0.64        24\n",
      "\n",
      "    accuracy                           0.89       180\n",
      "   macro avg       0.77      0.82      0.79       180\n",
      "weighted avg       0.90      0.89      0.90       180\n",
      "\n"
     ]
    }
   ],
   "source": [
    "#create a classification report\n",
    "print(\"BAG Accuracy Score\", accuracy_score(y_test, target_predicted_bag2))\n",
    "print(\"BAG Recall Score\", recall_score(y_test, target_predicted_bag2))\n",
    "print(\"BAG ROC AUC Score\", roc_auc_score(y_test, target_predicted_bag2))\n",
    "print(classification_report(y_test, target_predicted_bag2))"
   ]
  },
  {
   "cell_type": "code",
   "execution_count": 184,
   "metadata": {},
   "outputs": [
    {
     "name": "stdout",
     "output_type": "stream",
     "text": [
      "Cross Validation Score for each K [0.9047619  0.9047619  0.88095238 0.9047619  0.88095238 0.9047619\n",
      " 0.95238095 0.83333333 0.85365854 0.97560976]\n"
     ]
    },
    {
     "data": {
      "text/plain": [
       "0.8995934959349594"
      ]
     },
     "execution_count": 184,
     "metadata": {},
     "output_type": "execute_result"
    }
   ],
   "source": [
    "#use 10-fold cross validation to check for overfitting\n",
    "scores = cross_val_score(bag_clf2, X_train, y_train, cv = 10)\n",
    "print(\"Cross Validation Score for each K\",scores)\n",
    "scores.mean()"
   ]
  },
  {
   "cell_type": "code",
   "execution_count": 185,
   "metadata": {},
   "outputs": [
    {
     "data": {
      "image/png": "[encoded data removed]",
      "text/plain": [
       "<Figure size 360x360 with 1 Axes>"
      ]
     },
     "metadata": {
      "needs_background": "light"
     },
     "output_type": "display_data"
    }
   ],
   "source": [
    "#build a confusion matrix\n",
    "cm = confusion_matrix(y_test, target_predicted_bag2)\n",
    "fig, ax = plt.subplots(figsize = (5, 5))\n",
    "ax.matshow(cm, cmap = plt.cm.Purples, alpha = 0.5)\n",
    "for i in range(cm.shape[0]) :\n",
    "    for j in range(cm.shape[1]) :\n",
    "        ax.text(x = j, y = i, s = cm[i, j], va = 'center', ha = 'center')\n",
    "plt.xlabel('Predicted Label')\n",
    "plt.ylabel('True Label')\n",
    "plt.show()"
   ]
  },
  {
   "cell_type": "markdown",
   "metadata": {},
   "source": [
    "### BAG Model 3\n",
    "To further refine the model, the n_estimator parameter was check using roc_auc scoring."
   ]
  },
  {
   "cell_type": "code",
   "execution_count": 186,
   "metadata": {},
   "outputs": [
    {
     "name": "stdout",
     "output_type": "stream",
     "text": [
      "Best {'n_estimators': 70}\n"
     ]
    }
   ],
   "source": [
    "#create the grid\n",
    "param_grid3 = {'n_estimators' : [10, 20, 30, 40, 50, 60, 70, 80, 90, 100]}\n",
    "\n",
    "#run the grid search\n",
    "grid_search = GridSearchCV(bag_clf2, param_grid = param_grid3, scoring = 'roc_auc', n_jobs = -1, cv = 10)\n",
    "grid_search.fit(X_train, y_train)\n",
    "print(\"Best\", grid_search.best_params_)"
   ]
  },
  {
   "cell_type": "code",
   "execution_count": 187,
   "metadata": {},
   "outputs": [
    {
     "name": "stdout",
     "output_type": "stream",
     "text": [
      "BaggingClassifier(base_estimator=ExtraTreesClassifier(bootstrap=True,\n",
      "                                                      ccp_alpha=0.0,\n",
      "                                                      class_weight='balanced',\n",
      "                                                      criterion='gini',\n",
      "                                                      max_depth=5,\n",
      "                                                      max_features='auto',\n",
      "                                                      max_leaf_nodes=None,\n",
      "                                                      max_samples=None,\n",
      "                                                      min_impurity_decrease=0.0,\n",
      "                                                      min_impurity_split=None,\n",
      "                                                      min_samples_leaf=1,\n",
      "                                                      min_samples_split=2,\n",
      "                                                      min_weight_fraction_leaf=0.0,\n",
      "                                                      n_estimators=100,\n",
      "                                                      n_jobs=None,\n",
      "                                                      oob_score=False,\n",
      "                                                      random_state=8, verbose=0,\n",
      "                                                      warm_start=False),\n",
      "                  bootstrap=True, bootstrap_features=True, max_features=1.0,\n",
      "                  max_samples=1.0, n_estimators=70, n_jobs=None,\n",
      "                  oob_score=False, random_state=8, verbose=0, warm_start=False)\n"
     ]
    }
   ],
   "source": [
    "#call the new model\n",
    "bag_clf3 = BaggingClassifier(base_estimator = et_clf2, bootstrap = True, bootstrap_features = True, n_estimators = 70, random_state = 8)\n",
    "#check the parameter settings\n",
    "print(bag_clf3)\n",
    "\n",
    "#fit the classifier to the training data\n",
    "bag_clf3.fit(X_train, y_train)\n",
    "\n",
    "#make predictions using the test data\n",
    "target_predicted_bag3 = bag_clf3.predict(X_test)"
   ]
  },
  {
   "cell_type": "code",
   "execution_count": 188,
   "metadata": {},
   "outputs": [
    {
     "name": "stdout",
     "output_type": "stream",
     "text": [
      "BAG Accuracy Score 0.9\n",
      "BAG Recall Score 0.75\n",
      "BAG ROC AUC Score 0.8365384615384616\n",
      "              precision    recall  f1-score   support\n",
      "\n",
      "           0       0.96      0.92      0.94       156\n",
      "           1       0.60      0.75      0.67        24\n",
      "\n",
      "    accuracy                           0.90       180\n",
      "   macro avg       0.78      0.84      0.80       180\n",
      "weighted avg       0.91      0.90      0.90       180\n",
      "\n"
     ]
    }
   ],
   "source": [
    "#create a classification report\n",
    "print(\"BAG Accuracy Score\", accuracy_score(y_test, target_predicted_bag3))\n",
    "print(\"BAG Recall Score\", recall_score(y_test, target_predicted_bag3))\n",
    "print(\"BAG ROC AUC Score\", roc_auc_score(y_test, target_predicted_bag3))\n",
    "print(classification_report(y_test, target_predicted_bag3))"
   ]
  },
  {
   "cell_type": "code",
   "execution_count": 189,
   "metadata": {},
   "outputs": [
    {
     "name": "stdout",
     "output_type": "stream",
     "text": [
      "Cross Validation Score for each K [0.88095238 0.9047619  0.9047619  0.92857143 0.88095238 0.88095238\n",
      " 0.9047619  0.88095238 0.85365854 0.92682927]\n"
     ]
    },
    {
     "data": {
      "text/plain": [
       "0.8947154471544716"
      ]
     },
     "execution_count": 189,
     "metadata": {},
     "output_type": "execute_result"
    }
   ],
   "source": [
    "#use 10-fold cross validation to check for overfitting\n",
    "scores = cross_val_score(bag_clf3, X_train, y_train, cv = 10)\n",
    "print(\"Cross Validation Score for each K\",scores)\n",
    "scores.mean()"
   ]
  },
  {
   "cell_type": "code",
   "execution_count": 190,
   "metadata": {},
   "outputs": [
    {
     "data": {
      "image/png": "[encoded data removed]",
      "text/plain": [
       "<Figure size 360x360 with 1 Axes>"
      ]
     },
     "metadata": {
      "needs_background": "light"
     },
     "output_type": "display_data"
    }
   ],
   "source": [
    "#build a confusion matrix\n",
    "cm = confusion_matrix(y_test, target_predicted_bag3)\n",
    "fig, ax = plt.subplots(figsize = (5, 5))\n",
    "ax.matshow(cm, cmap = plt.cm.Purples, alpha = 0.5)\n",
    "for i in range(cm.shape[0]) :\n",
    "    for j in range(cm.shape[1]) :\n",
    "        ax.text(x = j, y = i, s = cm[i, j], va = 'center', ha = 'center')\n",
    "plt.xlabel('Predicted Label')\n",
    "plt.ylabel('True Label')\n",
    "plt.show()"
   ]
  },
  {
   "cell_type": "markdown",
   "metadata": {},
   "source": [
    "# AdaBoost Classifiers\n",
    "### AdaBoost Model 1"
   ]
  },
  {
   "cell_type": "code",
   "execution_count": 191,
   "metadata": {},
   "outputs": [
    {
     "name": "stdout",
     "output_type": "stream",
     "text": [
      "AdaBoostClassifier(algorithm='SAMME.R', base_estimator=None, learning_rate=1.0,\n",
      "                   n_estimators=50, random_state=8)\n"
     ]
    }
   ],
   "source": [
    "#call the default model\n",
    "ada_clf = AdaBoostClassifier(random_state = 8)\n",
    "#check the default parameter settings\n",
    "print(ada_clf)\n",
    "\n",
    "#fit the classifier to the training data\n",
    "ada_clf.fit(X_train, y_train)\n",
    "\n",
    "#make predictions using the test data\n",
    "target_predicted_ada = ada_clf.predict(X_test)"
   ]
  },
  {
   "cell_type": "code",
   "execution_count": 192,
   "metadata": {},
   "outputs": [
    {
     "name": "stdout",
     "output_type": "stream",
     "text": [
      "ADA Accuracy Score 0.8722222222222222\n",
      "ADA Recall Score 0.4583333333333333\n",
      "ADA ROC AUC Score 0.6971153846153846\n",
      "              precision    recall  f1-score   support\n",
      "\n",
      "           0       0.92      0.94      0.93       156\n",
      "           1       0.52      0.46      0.49        24\n",
      "\n",
      "    accuracy                           0.87       180\n",
      "   macro avg       0.72      0.70      0.71       180\n",
      "weighted avg       0.87      0.87      0.87       180\n",
      "\n"
     ]
    }
   ],
   "source": [
    "#create a classification report\n",
    "print(\"ADA Accuracy Score\", accuracy_score(y_test, target_predicted_ada))\n",
    "print(\"ADA Recall Score\", recall_score(y_test, target_predicted_ada))\n",
    "print(\"ADA ROC AUC Score\", roc_auc_score(y_test, target_predicted_ada))\n",
    "print(classification_report(y_test, target_predicted_ada))"
   ]
  },
  {
   "cell_type": "code",
   "execution_count": 193,
   "metadata": {},
   "outputs": [
    {
     "name": "stdout",
     "output_type": "stream",
     "text": [
      "Cross Validation Score for each K [0.88095238 0.88095238 0.85714286 0.9047619  0.83333333 0.85714286\n",
      " 0.83333333 0.78571429 0.90243902 0.90243902]\n"
     ]
    },
    {
     "data": {
      "text/plain": [
       "0.8638211382113822"
      ]
     },
     "execution_count": 193,
     "metadata": {},
     "output_type": "execute_result"
    }
   ],
   "source": [
    "#use 10-fold cross validation to check for overfitting\n",
    "scores = cross_val_score(ada_clf, X_train, y_train, cv = 10)\n",
    "print(\"Cross Validation Score for each K\",scores)\n",
    "scores.mean()"
   ]
  },
  {
   "cell_type": "code",
   "execution_count": 194,
   "metadata": {},
   "outputs": [
    {
     "data": {
      "image/png": "[encoded data removed]",
      "text/plain": [
       "<Figure size 360x360 with 1 Axes>"
      ]
     },
     "metadata": {
      "needs_background": "light"
     },
     "output_type": "display_data"
    }
   ],
   "source": [
    "#build a confusion matrix\n",
    "cm = confusion_matrix(y_test, target_predicted_ada)\n",
    "fig, ax = plt.subplots(figsize = (5, 5))\n",
    "ax.matshow(cm, cmap = plt.cm.Reds, alpha = 0.5)\n",
    "for i in range(cm.shape[0]) :\n",
    "    for j in range(cm.shape[1]) :\n",
    "        ax.text(x = j, y = i, s = cm[i, j], va = 'center', ha = 'center')\n",
    "plt.xlabel('Predicted Label')\n",
    "plt.ylabel('True Label')\n",
    "plt.show()"
   ]
  },
  {
   "cell_type": "markdown",
   "metadata": {},
   "source": [
    "### AdaBoost Model 2\n",
    "To try and develop a better model, a grid search was conducted to determine the best base estimator and appropriate algorithm using roc_auc scoring.  The three best models thus far were used as choices for the base estimator."
   ]
  },
  {
   "cell_type": "code",
   "execution_count": 195,
   "metadata": {},
   "outputs": [
    {
     "name": "stdout",
     "output_type": "stream",
     "text": [
      "Best {'algorithm': 'SAMME.R', 'base_estimator': ExtraTreesClassifier(bootstrap=True, ccp_alpha=0.0, class_weight='balanced',\n",
      "                     criterion='gini', max_depth=5, max_features='auto',\n",
      "                     max_leaf_nodes=None, max_samples=None,\n",
      "                     min_impurity_decrease=0.0, min_impurity_split=None,\n",
      "                     min_samples_leaf=1, min_samples_split=2,\n",
      "                     min_weight_fraction_leaf=0.0, n_estimators=100,\n",
      "                     n_jobs=None, oob_score=False, random_state=8, verbose=0,\n",
      "                     warm_start=False)}\n"
     ]
    }
   ],
   "source": [
    "#create the grid\n",
    "param_grid2 = {'base_estimator' : [et_clf2, svc_lin3, logit_clf3], 'algorithm' : ['SAMME.R', 'SAMME']}\n",
    "#run the grid search\n",
    "grid_search = GridSearchCV(ada_clf, param_grid = param_grid2, scoring = 'roc_auc', n_jobs = -1, cv = 10)\n",
    "grid_search.fit(X_train, y_train)\n",
    "print(\"Best\", grid_search.best_params_)"
   ]
  },
  {
   "cell_type": "code",
   "execution_count": 196,
   "metadata": {},
   "outputs": [
    {
     "name": "stdout",
     "output_type": "stream",
     "text": [
      "AdaBoostClassifier(algorithm='SAMME.R',\n",
      "                   base_estimator=ExtraTreesClassifier(bootstrap=True,\n",
      "                                                       ccp_alpha=0.0,\n",
      "                                                       class_weight='balanced',\n",
      "                                                       criterion='gini',\n",
      "                                                       max_depth=5,\n",
      "                                                       max_features='auto',\n",
      "                                                       max_leaf_nodes=None,\n",
      "                                                       max_samples=None,\n",
      "                                                       min_impurity_decrease=0.0,\n",
      "                                                       min_impurity_split=None,\n",
      "                                                       min_samples_leaf=1,\n",
      "                                                       min_samples_split=2,\n",
      "                                                       min_weight_fraction_leaf=0.0,\n",
      "                                                       n_estimators=100,\n",
      "                                                       n_jobs=None,\n",
      "                                                       oob_score=False,\n",
      "                                                       random_state=8,\n",
      "                                                       verbose=0,\n",
      "                                                       warm_start=False),\n",
      "                   learning_rate=1.0, n_estimators=50, random_state=8)\n"
     ]
    }
   ],
   "source": [
    "#call the new model\n",
    "ada_clf2 = AdaBoostClassifier(base_estimator = et_clf2, algorithm = 'SAMME.R', random_state = 8)\n",
    "#check the parameter settings\n",
    "print(ada_clf2)\n",
    "\n",
    "#fit the classifier to the training data\n",
    "ada_clf2.fit(X_train, y_train)\n",
    "\n",
    "#make predictions using the test data\n",
    "target_predicted_ada2 = ada_clf2.predict(X_test)"
   ]
  },
  {
   "cell_type": "code",
   "execution_count": 197,
   "metadata": {},
   "outputs": [
    {
     "name": "stdout",
     "output_type": "stream",
     "text": [
      "ADA Accuracy Score 0.8944444444444445\n",
      "ADA Recall Score 0.6666666666666666\n",
      "ADA ROC AUC Score 0.798076923076923\n",
      "              precision    recall  f1-score   support\n",
      "\n",
      "           0       0.95      0.93      0.94       156\n",
      "           1       0.59      0.67      0.63        24\n",
      "\n",
      "    accuracy                           0.89       180\n",
      "   macro avg       0.77      0.80      0.78       180\n",
      "weighted avg       0.90      0.89      0.90       180\n",
      "\n"
     ]
    }
   ],
   "source": [
    "#create a classification report\n",
    "print(\"ADA Accuracy Score\", accuracy_score(y_test, target_predicted_ada2))\n",
    "print(\"ADA Recall Score\", recall_score(y_test, target_predicted_ada2))\n",
    "print(\"ADA ROC AUC Score\", roc_auc_score(y_test, target_predicted_ada2))\n",
    "print(classification_report(y_test, target_predicted_ada2))"
   ]
  },
  {
   "cell_type": "code",
   "execution_count": 198,
   "metadata": {},
   "outputs": [
    {
     "name": "stdout",
     "output_type": "stream",
     "text": [
      "Cross Validation Score for each K [0.9047619  0.9047619  0.9047619  0.92857143 0.80952381 0.9047619\n",
      " 0.92857143 0.88095238 0.85365854 0.97560976]\n"
     ]
    },
    {
     "data": {
      "text/plain": [
       "0.8995934959349594"
      ]
     },
     "execution_count": 198,
     "metadata": {},
     "output_type": "execute_result"
    }
   ],
   "source": [
    "#use 10-fold cross validation to check for overfitting\n",
    "scores = cross_val_score(ada_clf2, X_train, y_train, cv = 10)\n",
    "print(\"Cross Validation Score for each K\",scores)\n",
    "scores.mean()"
   ]
  },
  {
   "cell_type": "code",
   "execution_count": 199,
   "metadata": {},
   "outputs": [
    {
     "data": {
      "image/png": "[encoded data removed]",
      "text/plain": [
       "<Figure size 360x360 with 1 Axes>"
      ]
     },
     "metadata": {
      "needs_background": "light"
     },
     "output_type": "display_data"
    }
   ],
   "source": [
    "#build a confusion matrix\n",
    "cm = confusion_matrix(y_test, target_predicted_ada2)\n",
    "fig, ax = plt.subplots(figsize = (5, 5))\n",
    "ax.matshow(cm, cmap = plt.cm.Reds, alpha = 0.5)\n",
    "for i in range(cm.shape[0]) :\n",
    "    for j in range(cm.shape[1]) :\n",
    "        ax.text(x = j, y = i, s = cm[i, j], va = 'center', ha = 'center')\n",
    "plt.xlabel('Predicted Label')\n",
    "plt.ylabel('True Label')\n",
    "plt.show()"
   ]
  },
  {
   "cell_type": "markdown",
   "metadata": {},
   "source": [
    "# Stacking Classifiers\n",
    "### STACK Model 1\n",
    "For the first stacking model, the VotingClassifier was used as the activation function.  The three stacked models used were ET Model 2, SVC (Linear) Model 3, and Logit Model 3."
   ]
  },
  {
   "cell_type": "code",
   "execution_count": 200,
   "metadata": {},
   "outputs": [
    {
     "name": "stdout",
     "output_type": "stream",
     "text": [
      "VotingClassifier(estimators=[('et',\n",
      "                              ExtraTreesClassifier(bootstrap=True,\n",
      "                                                   ccp_alpha=0.0,\n",
      "                                                   class_weight='balanced',\n",
      "                                                   criterion='gini',\n",
      "                                                   max_depth=5,\n",
      "                                                   max_features='auto',\n",
      "                                                   max_leaf_nodes=None,\n",
      "                                                   max_samples=None,\n",
      "                                                   min_impurity_decrease=0.0,\n",
      "                                                   min_impurity_split=None,\n",
      "                                                   min_samples_leaf=1,\n",
      "                                                   min_samples_split=2,\n",
      "                                                   min_weight_fraction_leaf=0.0,\n",
      "                                                   n_estimators=100,\n",
      "                                                   n_jobs=None, oob_scor...\n",
      "                                  shrinking=True, tol=0.001, verbose=False)),\n",
      "                             ('logit',\n",
      "                              LogisticRegression(C=1.1, class_weight='balanced',\n",
      "                                                 dual=False, fit_intercept=True,\n",
      "                                                 intercept_scaling=1,\n",
      "                                                 l1_ratio=None, max_iter=10000,\n",
      "                                                 multi_class='auto',\n",
      "                                                 n_jobs=None, penalty='l1',\n",
      "                                                 random_state=8, solver='saga',\n",
      "                                                 tol=0.0001, verbose=0,\n",
      "                                                 warm_start=False))],\n",
      "                 flatten_transform=True, n_jobs=None, voting='hard',\n",
      "                 weights=None)\n"
     ]
    }
   ],
   "source": [
    "#call a stack classifier using voting as the final classifier\n",
    "stack_clf = VotingClassifier(estimators = [('et', et_clf2), ('svc', svc_lin3), ('logit', logit_clf3)], voting = 'hard') \n",
    "#check the default parameters\n",
    "print(stack_clf)\n",
    "\n",
    "#fit the classifier to the training data\n",
    "stack_clf.fit(X_train, y_train)\n",
    "\n",
    "#make predictions using the test data\n",
    "target_predicted_stack = stack_clf.predict(X_test)"
   ]
  },
  {
   "cell_type": "code",
   "execution_count": 201,
   "metadata": {},
   "outputs": [
    {
     "name": "stdout",
     "output_type": "stream",
     "text": [
      "STACK Accuracy Score 0.8111111111111111\n",
      "STACK Recall Score 0.9166666666666666\n",
      "STACK ROC AUC Score 0.8557692307692307\n",
      "              precision    recall  f1-score   support\n",
      "\n",
      "           0       0.98      0.79      0.88       156\n",
      "           1       0.41      0.92      0.56        24\n",
      "\n",
      "    accuracy                           0.81       180\n",
      "   macro avg       0.70      0.86      0.72       180\n",
      "weighted avg       0.91      0.81      0.84       180\n",
      "\n"
     ]
    }
   ],
   "source": [
    "#create a classification report\n",
    "print(\"STACK Accuracy Score\", accuracy_score(y_test, target_predicted_stack))\n",
    "print(\"STACK Recall Score\", recall_score(y_test, target_predicted_stack))\n",
    "print(\"STACK ROC AUC Score\", roc_auc_score(y_test, target_predicted_stack))\n",
    "print(classification_report(y_test, target_predicted_stack))"
   ]
  },
  {
   "cell_type": "code",
   "execution_count": 202,
   "metadata": {},
   "outputs": [
    {
     "name": "stdout",
     "output_type": "stream",
     "text": [
      "Cross Validation Score for each K [0.76190476 0.83333333 0.92857143 0.88095238 0.76190476 0.83333333\n",
      " 0.88095238 0.78571429 0.80487805 0.90243902]\n"
     ]
    },
    {
     "data": {
      "text/plain": [
       "0.83739837398374"
      ]
     },
     "execution_count": 202,
     "metadata": {},
     "output_type": "execute_result"
    }
   ],
   "source": [
    "#use 10-fold cross validation to check for overfitting\n",
    "scores = cross_val_score(stack_clf, X_train, y_train, cv = 10)\n",
    "print(\"Cross Validation Score for each K\",scores)\n",
    "scores.mean()"
   ]
  },
  {
   "cell_type": "code",
   "execution_count": 203,
   "metadata": {},
   "outputs": [
    {
     "data": {
      "image/png": "[encoded data removed]",
      "text/plain": [
       "<Figure size 360x360 with 1 Axes>"
      ]
     },
     "metadata": {
      "needs_background": "light"
     },
     "output_type": "display_data"
    }
   ],
   "source": [
    "#build a confusion matrix\n",
    "cm = confusion_matrix(y_test, target_predicted_stack)\n",
    "fig, ax = plt.subplots(figsize = (5, 5))\n",
    "ax.matshow(cm, cmap = plt.cm.Oranges, alpha = 0.5)\n",
    "for i in range(cm.shape[0]) :\n",
    "    for j in range(cm.shape[1]) :\n",
    "        ax.text(x = j, y = i, s = cm[i, j], va = 'center', ha = 'center')\n",
    "plt.xlabel('Predicted Label')\n",
    "plt.ylabel('True Label')\n",
    "plt.show()"
   ]
  },
  {
   "cell_type": "markdown",
   "metadata": {},
   "source": [
    "### STACK Model 2\n",
    "For the second stacking model, GaussianNB was used as the activation function.  The three stacked models used were ET Model 2, SVC (Linear) Model 3, and Logit Model 3."
   ]
  },
  {
   "cell_type": "code",
   "execution_count": 204,
   "metadata": {},
   "outputs": [
    {
     "name": "stdout",
     "output_type": "stream",
     "text": [
      "StackingClassifier(cv=10,\n",
      "                   estimators=[('et',\n",
      "                                ExtraTreesClassifier(bootstrap=True,\n",
      "                                                     ccp_alpha=0.0,\n",
      "                                                     class_weight='balanced',\n",
      "                                                     criterion='gini',\n",
      "                                                     max_depth=5,\n",
      "                                                     max_features='auto',\n",
      "                                                     max_leaf_nodes=None,\n",
      "                                                     max_samples=None,\n",
      "                                                     min_impurity_decrease=0.0,\n",
      "                                                     min_impurity_split=None,\n",
      "                                                     min_samples_leaf=1,\n",
      "                                                     min_samples_split=2,\n",
      "                                                     min_weight_fraction_leaf=0.0,\n",
      "                                                     n_estimators=100,\n",
      "                                                     n_jobs=None,...\n",
      "                                    shrinking=True, tol=0.001, verbose=False)),\n",
      "                               ('logit',\n",
      "                                LogisticRegression(C=1.1,\n",
      "                                                   class_weight='balanced',\n",
      "                                                   dual=False,\n",
      "                                                   fit_intercept=True,\n",
      "                                                   intercept_scaling=1,\n",
      "                                                   l1_ratio=None,\n",
      "                                                   max_iter=10000,\n",
      "                                                   multi_class='auto',\n",
      "                                                   n_jobs=None, penalty='l1',\n",
      "                                                   random_state=8,\n",
      "                                                   solver='saga', tol=0.0001,\n",
      "                                                   verbose=0,\n",
      "                                                   warm_start=False))],\n",
      "                   final_estimator=None, n_jobs=None, passthrough=False,\n",
      "                   stack_method='auto', verbose=0)\n"
     ]
    }
   ],
   "source": [
    "#the stacking classifier needs a list where each entry is a list containing the name of the estimator followed by the model object itself\n",
    "estimator_names = ['et','svc', 'logit']\n",
    "#build the model using the zip function and then casting to a list\n",
    "estimator_list=list(zip(estimator_names,[et_clf2, svc_lin3, logit_clf3]))\n",
    "#use naive bayes as the final level learner\n",
    "nb = GaussianNB()\n",
    "\n",
    "#call the new model\n",
    "stack_clf2 = StackingClassifier(estimators = estimator_list, cv = 10)\n",
    "#check the parameter settings\n",
    "print(stack_clf2)\n",
    "\n",
    "#fit the classifier to the training data\n",
    "stack_clf2.fit(X_train,y_train)\n",
    "\n",
    "#make predictions using the test data\n",
    "target_predicted_stack2 = stack_clf2.predict(X_test)"
   ]
  },
  {
   "cell_type": "code",
   "execution_count": 205,
   "metadata": {},
   "outputs": [
    {
     "name": "stdout",
     "output_type": "stream",
     "text": [
      "STACK Accuracy Score 0.9055555555555556\n",
      "STACK Recall Score 0.4166666666666667\n",
      "STACK ROC AUC Score 0.6987179487179487\n",
      "              precision    recall  f1-score   support\n",
      "\n",
      "           0       0.92      0.98      0.95       156\n",
      "           1       0.77      0.42      0.54        24\n",
      "\n",
      "    accuracy                           0.91       180\n",
      "   macro avg       0.84      0.70      0.74       180\n",
      "weighted avg       0.90      0.91      0.89       180\n",
      "\n"
     ]
    }
   ],
   "source": [
    "#create a classification report\n",
    "print(\"STACK Accuracy Score\", accuracy_score(y_test, target_predicted_stack2))\n",
    "print(\"STACK Recall Score\", recall_score(y_test, target_predicted_stack2))\n",
    "print(\"STACK ROC AUC Score\", roc_auc_score(y_test, target_predicted_stack2))\n",
    "print(classification_report(y_test, target_predicted_stack2))"
   ]
  },
  {
   "cell_type": "code",
   "execution_count": 206,
   "metadata": {},
   "outputs": [
    {
     "name": "stdout",
     "output_type": "stream",
     "text": [
      "Cross Validation Score for each K [0.85714286 0.85714286 0.92857143 0.88095238 0.88095238 0.88095238\n",
      " 0.92857143 0.83333333 0.90243902 0.92682927]\n"
     ]
    },
    {
     "data": {
      "text/plain": [
       "0.8876887340301975"
      ]
     },
     "execution_count": 206,
     "metadata": {},
     "output_type": "execute_result"
    }
   ],
   "source": [
    "#use 10-fold cross validation to check for overfitting\n",
    "scores = cross_val_score(stack_clf2, X_train, y_train, cv = 10)\n",
    "print(\"Cross Validation Score for each K\",scores)\n",
    "scores.mean()"
   ]
  },
  {
   "cell_type": "code",
   "execution_count": 207,
   "metadata": {},
   "outputs": [
    {
     "data": {
      "image/png": "[encoded data removed]",
      "text/plain": [
       "<Figure size 360x360 with 1 Axes>"
      ]
     },
     "metadata": {
      "needs_background": "light"
     },
     "output_type": "display_data"
    }
   ],
   "source": [
    "#build a confusion matrix\n",
    "cm = confusion_matrix(y_test, target_predicted_stack2)\n",
    "fig, ax = plt.subplots(figsize = (5, 5))\n",
    "ax.matshow(cm, cmap = plt.cm.Oranges, alpha = 0.5)\n",
    "for i in range(cm.shape[0]) :\n",
    "    for j in range(cm.shape[1]) :\n",
    "        ax.text(x = j, y = i, s = cm[i, j], va = 'center', ha = 'center')\n",
    "plt.xlabel('Predicted Label')\n",
    "plt.ylabel('True Label')\n",
    "plt.show()"
   ]
  },
  {
   "cell_type": "markdown",
   "metadata": {},
   "source": [
    "### STACK Model 3\n",
    "For the third stacking model, GaussianNB was used again as the activation function.  In addition to the three models used in the second stacking model, SGD Model 2 was added as an additional layer to try and improve the stacking model."
   ]
  },
  {
   "cell_type": "code",
   "execution_count": 208,
   "metadata": {},
   "outputs": [
    {
     "name": "stdout",
     "output_type": "stream",
     "text": [
      "StackingClassifier(cv=None,\n",
      "                   estimators=[('sgd',\n",
      "                                SGDClassifier(alpha=1e-05, average=False,\n",
      "                                              class_weight='balanced',\n",
      "                                              early_stopping=False, epsilon=0.1,\n",
      "                                              eta0=0.0, fit_intercept=True,\n",
      "                                              l1_ratio=0.0001,\n",
      "                                              learning_rate='optimal',\n",
      "                                              loss='perceptron', max_iter=1000,\n",
      "                                              n_iter_no_change=5, n_jobs=None,\n",
      "                                              penalty='l1', power_t=0.5,\n",
      "                                              random_state=8, shuffle=True,\n",
      "                                              tol=0.001,\n",
      "                                              validation_fr...\n",
      "                                LogisticRegression(C=1.1,\n",
      "                                                   class_weight='balanced',\n",
      "                                                   dual=False,\n",
      "                                                   fit_intercept=True,\n",
      "                                                   intercept_scaling=1,\n",
      "                                                   l1_ratio=None,\n",
      "                                                   max_iter=10000,\n",
      "                                                   multi_class='auto',\n",
      "                                                   n_jobs=None, penalty='l1',\n",
      "                                                   random_state=8,\n",
      "                                                   solver='saga', tol=0.0001,\n",
      "                                                   verbose=0,\n",
      "                                                   warm_start=False))],\n",
      "                   final_estimator=GaussianNB(priors=None, var_smoothing=1e-09),\n",
      "                   n_jobs=None, passthrough=False, stack_method='auto',\n",
      "                   verbose=0)\n"
     ]
    }
   ],
   "source": [
    "#the stacking classifier needs a list where each entry is a list containing the name of the estimator followed by the model object itself. \n",
    "estimator_names = ['sgd','et','svc', 'logit']\n",
    "#build the model using the zip function and then casting to a list\n",
    "estimator_list=list(zip(estimator_names,[sgd_clf2, et_clf2, svc_lin3, logit_clf3]))\n",
    "# we will use naive bayes as the final level learner\n",
    "nb = GaussianNB()\n",
    "\n",
    "#call the new model\n",
    "stack_clf3 = StackingClassifier(estimators = estimator_list, final_estimator = nb)\n",
    "#check the parameter settings\n",
    "print(stack_clf3)\n",
    "\n",
    "#fit the classifier to the training data\n",
    "stack_clf3.fit(X_train,y_train)\n",
    "\n",
    "#make predictions using the test data\n",
    "target_predicted_stack3 = stack_clf3.predict(X_test)"
   ]
  },
  {
   "cell_type": "code",
   "execution_count": 209,
   "metadata": {},
   "outputs": [
    {
     "name": "stdout",
     "output_type": "stream",
     "text": [
      "STACK Accuracy Score 0.9\n",
      "STACK Recall Score 0.7916666666666666\n",
      "STACK ROC AUC Score 0.8541666666666665\n",
      "              precision    recall  f1-score   support\n",
      "\n",
      "           0       0.97      0.92      0.94       156\n",
      "           1       0.59      0.79      0.68        24\n",
      "\n",
      "    accuracy                           0.90       180\n",
      "   macro avg       0.78      0.85      0.81       180\n",
      "weighted avg       0.92      0.90      0.91       180\n",
      "\n"
     ]
    }
   ],
   "source": [
    "#create a classification report\n",
    "print(\"STACK Accuracy Score\", accuracy_score(y_test, target_predicted_stack3))\n",
    "print(\"STACK Recall Score\", recall_score(y_test, target_predicted_stack3))\n",
    "print(\"STACK ROC AUC Score\", roc_auc_score(y_test, target_predicted_stack3))\n",
    "print(classification_report(y_test, target_predicted_stack3))"
   ]
  },
  {
   "cell_type": "code",
   "execution_count": 210,
   "metadata": {},
   "outputs": [
    {
     "name": "stdout",
     "output_type": "stream",
     "text": [
      "Cross Validation Score for each K [0.80952381 0.88095238 0.95238095 0.9047619  0.83333333 0.88095238\n",
      " 0.92857143 0.85714286 0.80487805 0.92682927]\n"
     ]
    },
    {
     "data": {
      "text/plain": [
       "0.8779326364692219"
      ]
     },
     "execution_count": 210,
     "metadata": {},
     "output_type": "execute_result"
    }
   ],
   "source": [
    "#use 10-fold cross validation to check for overfitting\n",
    "scores = cross_val_score(stack_clf3, X_train, y_train, cv = 10)\n",
    "print(\"Cross Validation Score for each K\",scores)\n",
    "scores.mean()"
   ]
  },
  {
   "cell_type": "code",
   "execution_count": 211,
   "metadata": {},
   "outputs": [
    {
     "data": {
      "image/png": "[encoded data removed]",
      "text/plain": [
       "<Figure size 360x360 with 1 Axes>"
      ]
     },
     "metadata": {
      "needs_background": "light"
     },
     "output_type": "display_data"
    }
   ],
   "source": [
    "#build a confusion matrix\n",
    "cm = confusion_matrix(y_test, target_predicted_stack3)\n",
    "fig, ax = plt.subplots(figsize = (5, 5))\n",
    "ax.matshow(cm, cmap = plt.cm.Oranges, alpha = 0.5)\n",
    "for i in range(cm.shape[0]) :\n",
    "    for j in range(cm.shape[1]) :\n",
    "        ax.text(x = j, y = i, s = cm[i, j], va = 'center', ha = 'center')\n",
    "plt.xlabel('Predicted Label')\n",
    "plt.ylabel('True Label')\n",
    "plt.show()"
   ]
  },
  {
   "cell_type": "markdown",
   "metadata": {},
   "source": [
    "# Concluding Remarks\n",
    "The three best models for consideration are the SVC (Linear) Model 3, Logit Model 3, and STACK Model 1.  All three models produced a ROC AUC score above 0.83 and a recall score of over 0.91.  Which of these models is best for a hospital would depend on the resources of the hospital.  If a hospital has enough tests, then a large false positive predictions could be acceptable.  However, a hospital with limited resources and tests, may require fewer overall false positives even if that means an increase in false negatives.  Moving forward, I believe the SVC (Linear) Model 3 to be most effective for the task at hand.  This model produces the highest recall and highest ROC AUC score.\n",
    "\n",
    "Limitations of this analysis include: (1) a relatively small sample size from the original dataset, (2) only complete cases were used, which will introduce bia into the model, and (3) this data has been provided by one hospital from one country."
   ]
  }
 ],
 "metadata": {
  "kernelspec": {
   "display_name": "Python 3",
   "language": "python",
   "name": "python3"
  },
  "language_info": {
   "codemirror_mode": {
    "name": "ipython",
    "version": 3
   },
   "file_extension": ".py",
   "mimetype": "text/x-python",
   "name": "python",
   "nbconvert_exporter": "python",
   "pygments_lexer": "ipython3",
   "version": "3.7.4"
  }
 },
 "nbformat": 4,
 "nbformat_minor": 4
}
